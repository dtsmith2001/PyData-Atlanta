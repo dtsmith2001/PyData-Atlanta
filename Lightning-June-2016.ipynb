{
 "cells": [
  {
   "cell_type": "markdown",
   "metadata": {},
   "source": [
    "# Categorial Variables with Linear and Nonlinear Models\n",
    "\n",
    "Three types of variables are used, particularly in linear regression.\n",
    "\n",
    "1. Continuous - ordered and can be subdivided.\n",
    "2. Categorical - limited and fixed number of values.\n",
    "3. Ordinal - limited and fixed number of values for which order is important.\n",
    "\n",
    "Categorical variables are sometimes referred to as *levels* (particularly in R). They are often called [*dummy variables*](https://en.wikipedia.org/wiki/Dummy_variable_(statistics)) in the statistics literature and indicate membership in a category. But see below.\n",
    "\n",
    "The actual numbers for categorical variables do not matter (or do they...).\n",
    "\n",
    "## Differences in Languages (Packages)\n",
    "\n",
    "We have to encode variables for use in `scikit-learn` as the package only takes numeric categories. `R` takes \"levels\" and encodes internally. So you can pass strings as categories to models in `R`, but not in `scikit-learn`.\n",
    "\n",
    "## Transforming Variables in Pandas"
   ]
  },
  {
   "cell_type": "code",
   "execution_count": 1,
   "metadata": {
    "collapsed": true
   },
   "outputs": [],
   "source": [
    "import numpy as np\n",
    "import pandas as pd\n",
    "\n",
    "from random import choice"
   ]
  },
  {
   "cell_type": "code",
   "execution_count": 12,
   "metadata": {
    "collapsed": false
   },
   "outputs": [
    {
     "data": {
      "text/html": [
       "<div>\n",
       "<table border=\"1\" class=\"dataframe\">\n",
       "  <thead>\n",
       "    <tr style=\"text-align: right;\">\n",
       "      <th></th>\n",
       "      <th>a</th>\n",
       "      <th>b</th>\n",
       "      <th>e</th>\n",
       "    </tr>\n",
       "  </thead>\n",
       "  <tbody>\n",
       "    <tr>\n",
       "      <th>0</th>\n",
       "      <td>-0.104917</td>\n",
       "      <td>0.556912</td>\n",
       "      <td>Chicago</td>\n",
       "    </tr>\n",
       "    <tr>\n",
       "      <th>1</th>\n",
       "      <td>-0.221517</td>\n",
       "      <td>-0.166883</td>\n",
       "      <td>NYC</td>\n",
       "    </tr>\n",
       "    <tr>\n",
       "      <th>2</th>\n",
       "      <td>-0.378367</td>\n",
       "      <td>1.180719</td>\n",
       "      <td>NYC</td>\n",
       "    </tr>\n",
       "    <tr>\n",
       "      <th>3</th>\n",
       "      <td>-0.795186</td>\n",
       "      <td>0.502131</td>\n",
       "      <td>New York</td>\n",
       "    </tr>\n",
       "    <tr>\n",
       "      <th>4</th>\n",
       "      <td>-0.462202</td>\n",
       "      <td>-0.661460</td>\n",
       "      <td>Boston</td>\n",
       "    </tr>\n",
       "    <tr>\n",
       "      <th>5</th>\n",
       "      <td>0.813214</td>\n",
       "      <td>1.007439</td>\n",
       "      <td>Boston</td>\n",
       "    </tr>\n",
       "  </tbody>\n",
       "</table>\n",
       "</div>"
      ],
      "text/plain": [
       "          a         b         e\n",
       "0 -0.104917  0.556912   Chicago\n",
       "1 -0.221517 -0.166883       NYC\n",
       "2 -0.378367  1.180719       NYC\n",
       "3 -0.795186  0.502131  New York\n",
       "4 -0.462202 -0.661460    Boston\n",
       "5  0.813214  1.007439    Boston"
      ]
     },
     "execution_count": 12,
     "metadata": {},
     "output_type": "execute_result"
    }
   ],
   "source": [
    "df = pd.DataFrame(np.random.randn(25, 2), columns=['a', 'b'])\n",
    "df['e'] = [choice(('Chicago', 'Boston', 'New York', \"RALEIGH\", \"Raleigh\", \"NYC\")) for i in range(df.shape[0])]\n",
    "df.head(6)"
   ]
  },
  {
   "cell_type": "markdown",
   "metadata": {},
   "source": [
    "`scikit-learn` has the classes [`OneHotEncoder`](http://scikit-learn.org/stable/modules/generated/sklearn.preprocessing.OneHotEncoder.html) and [`LabelEncoder`](http://scikit-learn.org/stable/modules/generated/sklearn.preprocessing.LabelEncoder.html) in `sklearn.preprocessing`. `OneHotEncoder` encodes columns that have only integers. `LabelEncoder` encodes strings. Note that there are some complications when using these classes so read the documentation and examples.\n",
    "\n",
    "Here is another way with Pandas. Use it as a preprocessing step before using `scikit-learn` models."
   ]
  },
  {
   "cell_type": "code",
   "execution_count": 13,
   "metadata": {
    "collapsed": false
   },
   "outputs": [
    {
     "data": {
      "text/html": [
       "<div>\n",
       "<table border=\"1\" class=\"dataframe\">\n",
       "  <thead>\n",
       "    <tr style=\"text-align: right;\">\n",
       "      <th></th>\n",
       "      <th>a</th>\n",
       "      <th>b</th>\n",
       "      <th>e_Boston</th>\n",
       "      <th>e_Chicago</th>\n",
       "      <th>e_NYC</th>\n",
       "      <th>e_New York</th>\n",
       "      <th>e_RALEIGH</th>\n",
       "      <th>e_Raleigh</th>\n",
       "    </tr>\n",
       "  </thead>\n",
       "  <tbody>\n",
       "    <tr>\n",
       "      <th>0</th>\n",
       "      <td>-0.104917</td>\n",
       "      <td>0.556912</td>\n",
       "      <td>0</td>\n",
       "      <td>1</td>\n",
       "      <td>0</td>\n",
       "      <td>0</td>\n",
       "      <td>0</td>\n",
       "      <td>0</td>\n",
       "    </tr>\n",
       "    <tr>\n",
       "      <th>1</th>\n",
       "      <td>-0.221517</td>\n",
       "      <td>-0.166883</td>\n",
       "      <td>0</td>\n",
       "      <td>0</td>\n",
       "      <td>1</td>\n",
       "      <td>0</td>\n",
       "      <td>0</td>\n",
       "      <td>0</td>\n",
       "    </tr>\n",
       "    <tr>\n",
       "      <th>2</th>\n",
       "      <td>-0.378367</td>\n",
       "      <td>1.180719</td>\n",
       "      <td>0</td>\n",
       "      <td>0</td>\n",
       "      <td>1</td>\n",
       "      <td>0</td>\n",
       "      <td>0</td>\n",
       "      <td>0</td>\n",
       "    </tr>\n",
       "    <tr>\n",
       "      <th>3</th>\n",
       "      <td>-0.795186</td>\n",
       "      <td>0.502131</td>\n",
       "      <td>0</td>\n",
       "      <td>0</td>\n",
       "      <td>0</td>\n",
       "      <td>1</td>\n",
       "      <td>0</td>\n",
       "      <td>0</td>\n",
       "    </tr>\n",
       "    <tr>\n",
       "      <th>4</th>\n",
       "      <td>-0.462202</td>\n",
       "      <td>-0.661460</td>\n",
       "      <td>1</td>\n",
       "      <td>0</td>\n",
       "      <td>0</td>\n",
       "      <td>0</td>\n",
       "      <td>0</td>\n",
       "      <td>0</td>\n",
       "    </tr>\n",
       "    <tr>\n",
       "      <th>5</th>\n",
       "      <td>0.813214</td>\n",
       "      <td>1.007439</td>\n",
       "      <td>1</td>\n",
       "      <td>0</td>\n",
       "      <td>0</td>\n",
       "      <td>0</td>\n",
       "      <td>0</td>\n",
       "      <td>0</td>\n",
       "    </tr>\n",
       "  </tbody>\n",
       "</table>\n",
       "</div>"
      ],
      "text/plain": [
       "          a         b  e_Boston  e_Chicago  e_NYC  e_New York  e_RALEIGH  \\\n",
       "0 -0.104917  0.556912         0          1      0           0          0   \n",
       "1 -0.221517 -0.166883         0          0      1           0          0   \n",
       "2 -0.378367  1.180719         0          0      1           0          0   \n",
       "3 -0.795186  0.502131         0          0      0           1          0   \n",
       "4 -0.462202 -0.661460         1          0      0           0          0   \n",
       "5  0.813214  1.007439         1          0      0           0          0   \n",
       "\n",
       "   e_Raleigh  \n",
       "0          0  \n",
       "1          0  \n",
       "2          0  \n",
       "3          0  \n",
       "4          0  \n",
       "5          0  "
      ]
     },
     "execution_count": 13,
     "metadata": {},
     "output_type": "execute_result"
    }
   ],
   "source": [
    "df1 = pd.get_dummies(df, prefix=[\"e\"])\n",
    "df1.head(6)"
   ]
  },
  {
   "cell_type": "markdown",
   "metadata": {},
   "source": [
    "Pandas did what we asked, but unfortunately, some of our variables were not encoded properly. We should have looked at the data first. There are upper/lower case problems, an embedded space, and 'NYC' is encoded 'New York' as well."
   ]
  },
  {
   "cell_type": "code",
   "execution_count": 15,
   "metadata": {
    "collapsed": false
   },
   "outputs": [
    {
     "data": {
      "text/html": [
       "<div>\n",
       "<table border=\"1\" class=\"dataframe\">\n",
       "  <thead>\n",
       "    <tr style=\"text-align: right;\">\n",
       "      <th></th>\n",
       "      <th>a</th>\n",
       "      <th>b</th>\n",
       "    </tr>\n",
       "    <tr>\n",
       "      <th>e</th>\n",
       "      <th></th>\n",
       "      <th></th>\n",
       "    </tr>\n",
       "  </thead>\n",
       "  <tbody>\n",
       "    <tr>\n",
       "      <th>Boston</th>\n",
       "      <td>4</td>\n",
       "      <td>4</td>\n",
       "    </tr>\n",
       "    <tr>\n",
       "      <th>Chicago</th>\n",
       "      <td>5</td>\n",
       "      <td>5</td>\n",
       "    </tr>\n",
       "    <tr>\n",
       "      <th>NYC</th>\n",
       "      <td>6</td>\n",
       "      <td>6</td>\n",
       "    </tr>\n",
       "    <tr>\n",
       "      <th>New York</th>\n",
       "      <td>4</td>\n",
       "      <td>4</td>\n",
       "    </tr>\n",
       "    <tr>\n",
       "      <th>RALEIGH</th>\n",
       "      <td>3</td>\n",
       "      <td>3</td>\n",
       "    </tr>\n",
       "    <tr>\n",
       "      <th>Raleigh</th>\n",
       "      <td>3</td>\n",
       "      <td>3</td>\n",
       "    </tr>\n",
       "  </tbody>\n",
       "</table>\n",
       "</div>"
      ],
      "text/plain": [
       "          a  b\n",
       "e             \n",
       "Boston    4  4\n",
       "Chicago   5  5\n",
       "NYC       6  6\n",
       "New York  4  4\n",
       "RALEIGH   3  3\n",
       "Raleigh   3  3"
      ]
     },
     "execution_count": 15,
     "metadata": {},
     "output_type": "execute_result"
    }
   ],
   "source": [
    "df.groupby(by=\"e\").count()"
   ]
  },
  {
   "cell_type": "markdown",
   "metadata": {},
   "source": [
    "Clean it up, then use ``get_dummies`` again.\n",
    "\n",
    "Examine your categorial variables to avoid creating redundant features.\n",
    "\n",
    "What should you do with NA in the categorial field? Create a new column which encodes whether a variable is missing or not. This is particularly important for nonlinear models, such as Random Forests."
   ]
  },
  {
   "cell_type": "markdown",
   "metadata": {},
   "source": [
    "## Categorical Variables and Linear Models\n",
    "\n",
    "In models such as regression, which are linear in the unknown variables, we can't include a variable for all categories. If we have four dummy variables for quarter, we must only include three of them.\n",
    "\n",
    "- 1 Quarter = 1 or 0\n",
    "- 2 Quarter = 1 or 0\n",
    "- 3 Quarter = 1 or 0\n",
    "- 4 Quarter = 1 or 0\n",
    "\n",
    "Encoding zero for quarter 1 - 3 is the same as encoding a 1 for quarter 4 and the rest zero. Remember, linear regression has an *intercept*, which is why we can't use four dummy variables.\n",
    "\n",
    "The dummy variable that is omitted is the base category against which all others are compared.\n",
    "\n",
    "For instance\n",
    "\n",
    "&nbsp;&nbsp;&nbsp;&nbsp;&nbsp;&nbsp;&nbsp;&nbsp;&nbsp;&nbsp;&nbsp;&nbsp;&nbsp;&nbsp;&nbsp;&nbsp;$ln(\\tt{wage}) = \\alpha + \\beta \\tt{college} + \\tt{error}$\n",
    "\n",
    "Here we set up a regression problem with `college` as one or zero. If `college` is one, then the wage goes up (assuming $\\beta > 0$). So we can interpret the significance of the `college` variable as measuring a wage premium/discount for attending college.\n",
    "\n",
    "The `error` term contains\n",
    "\n",
    "1. Every variable not included in the regression model.\n",
    "2. Randomness.\n",
    "\n",
    "This model is not *predictive* but is *explanatory*.\n",
    "\n",
    "Questions\n",
    "\n",
    "1. Why am I taking the natural log of `wage`?\n",
    "2. What happens if $\\beta < 0$?\n",
    "3. We encoded `college` as zero or one. Why not one and two?\n",
    "\n",
    "Including all dummy variables in a regression model introduces [*multicollinearity*](https://en.wikipedia.org/wiki/Multicollinearity) and can cause all kinds of problems for predictions. It *may* be ok for an explantory model, if appropriate corrections are made.\n",
    "\n",
    "Logistic regression has the same problem.\n",
    "\n",
    "Note you can remove the intercept, but this may introduce complications in your modeling. For instance, in ``R``, the intercept is included whenever you have a formula like ``y ~ x`` for use in ``lm``, so you **must** use ``y ~ x - 1``. It is easy to forget this.\n",
    "\n",
    "## Nonlinear Models\n",
    "\n",
    "When you fit a nonlinear model, such as a Random Forest, you must include all categories. There is no concept of an intercept term."
   ]
  },
  {
   "cell_type": "code",
   "execution_count": null,
   "metadata": {
    "collapsed": true
   },
   "outputs": [],
   "source": []
  }
 ],
 "metadata": {
  "kernelspec": {
   "display_name": "Python 3",
   "language": "python",
   "name": "python3"
  },
  "language_info": {
   "codemirror_mode": {
    "name": "ipython",
    "version": 3
   },
   "file_extension": ".py",
   "mimetype": "text/x-python",
   "name": "python",
   "nbconvert_exporter": "python",
   "pygments_lexer": "ipython3",
   "version": "3.5.1"
  }
 },
 "nbformat": 4,
 "nbformat_minor": 0
}
