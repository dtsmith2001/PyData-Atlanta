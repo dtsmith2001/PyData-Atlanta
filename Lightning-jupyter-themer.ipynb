{
 "cells": [
  {
   "cell_type": "markdown",
   "metadata": {},
   "source": [
    "# Introduction to jupyter-themer\n",
    "\n",
    "An open-source project that allows you to modify the look of your notebooks.\n",
    "\n",
    "Get it from\n",
    "\n",
    "https://github.com/transcranial/jupyter-themer\n",
    "\n",
    "\n",
    "## Pandas Tables - `hovertable` Layout"
   ]
  },
  {
   "cell_type": "code",
   "execution_count": 1,
   "metadata": {
    "collapsed": true
   },
   "outputs": [],
   "source": [
    "import numpy as np\n",
    "import pandas as pd\n",
    "\n",
    "from random import choice"
   ]
  },
  {
   "cell_type": "code",
   "execution_count": 2,
   "metadata": {
    "collapsed": false
   },
   "outputs": [
    {
     "data": {
      "text/html": [
       "<div>\n",
       "<table border=\"1\" class=\"dataframe\">\n",
       "  <thead>\n",
       "    <tr style=\"text-align: right;\">\n",
       "      <th></th>\n",
       "      <th>a</th>\n",
       "      <th>b</th>\n",
       "      <th>e</th>\n",
       "    </tr>\n",
       "  </thead>\n",
       "  <tbody>\n",
       "    <tr>\n",
       "      <th>0</th>\n",
       "      <td>0.319701</td>\n",
       "      <td>-0.939078</td>\n",
       "      <td>Raleigh</td>\n",
       "    </tr>\n",
       "    <tr>\n",
       "      <th>1</th>\n",
       "      <td>0.021080</td>\n",
       "      <td>-0.640878</td>\n",
       "      <td>Chicago</td>\n",
       "    </tr>\n",
       "    <tr>\n",
       "      <th>2</th>\n",
       "      <td>1.685371</td>\n",
       "      <td>-0.169631</td>\n",
       "      <td>Chicago</td>\n",
       "    </tr>\n",
       "    <tr>\n",
       "      <th>3</th>\n",
       "      <td>0.832312</td>\n",
       "      <td>0.438430</td>\n",
       "      <td>Raleigh</td>\n",
       "    </tr>\n",
       "    <tr>\n",
       "      <th>4</th>\n",
       "      <td>0.258237</td>\n",
       "      <td>-1.985458</td>\n",
       "      <td>RALEIGH</td>\n",
       "    </tr>\n",
       "    <tr>\n",
       "      <th>5</th>\n",
       "      <td>0.043946</td>\n",
       "      <td>-1.050962</td>\n",
       "      <td>New York</td>\n",
       "    </tr>\n",
       "  </tbody>\n",
       "</table>\n",
       "</div>"
      ],
      "text/plain": [
       "          a         b         e\n",
       "0  0.319701 -0.939078   Raleigh\n",
       "1  0.021080 -0.640878   Chicago\n",
       "2  1.685371 -0.169631   Chicago\n",
       "3  0.832312  0.438430   Raleigh\n",
       "4  0.258237 -1.985458   RALEIGH\n",
       "5  0.043946 -1.050962  New York"
      ]
     },
     "execution_count": 2,
     "metadata": {},
     "output_type": "execute_result"
    }
   ],
   "source": [
    "df = pd.DataFrame(np.random.randn(25, 2), columns=['a', 'b'])\n",
    "df['e'] = [choice(('Chicago', 'Boston', 'New York', \"RALEIGH\", \"Raleigh\", \"NYC\")) for i in range(df.shape[0])]\n",
    "df.head(6)"
   ]
  },
  {
   "cell_type": "markdown",
   "metadata": {},
   "source": [
    "How did we get this installed? Once you clone from github, run\n",
    "\n",
    "`python setup.py install`\n",
    "\n",
    "You may need to use `sudo -H`. The `-H` switch to `sudo` sets the `HOME` environment variable to the home directory of the target user (root). Then run\n",
    "\n",
    "`jupyter-themer -l hovertable`\n",
    "\n",
    "Reload your notebooks, and that's all it takes.\n",
    "\n",
    "## Other Layouts and Colors\n",
    "\n",
    "Check out the github page for further layouts and color options.\n",
    "\n",
    "Note that the `hovertable` layout is a CSS.\n",
    "\n",
    "## Adding Your Own CSS\n",
    "\n",
    "If you want to experiment, fork the original repository. Then clone and make changes. Be sure you\n",
    "\n",
    "1. `python setup.py install`\n",
    "2. Reload your notebooks\n",
    "3. A good CSS tutorial with editor is http://www.w3schools.com/css/default.asp.\n",
    "\n",
    "If you skip the first step, your changes aren't applied.\n",
    "\n",
    "**Please contribute your changes back to the maintainer by initiating a pull request.**"
   ]
  }
 ],
 "metadata": {
  "anaconda-cloud": {},
  "kernelspec": {
   "display_name": "Python [default]",
   "language": "python",
   "name": "python3"
  },
  "language_info": {
   "codemirror_mode": {
    "name": "ipython",
    "version": 3
   },
   "file_extension": ".py",
   "mimetype": "text/x-python",
   "name": "python",
   "nbconvert_exporter": "python",
   "pygments_lexer": "ipython3",
   "version": "3.5.2"
  }
 },
 "nbformat": 4,
 "nbformat_minor": 1
}
