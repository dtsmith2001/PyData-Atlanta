{
 "cells": [
  {
   "cell_type": "markdown",
   "metadata": {
    "deletable": true,
    "editable": true
   },
   "source": [
    "# TensorFlow Introduction\n",
    "\n",
    "Dale Smith, Ph.D. Math, Georgia Tech.\n",
    "\n",
    "Data Scientist with FraudScope.\n",
    "\n",
    "https://github.com/dtsmith2001\n",
    "\n",
    "## Preliminaries\n",
    "\n",
    "I am using Anaconda 4.3.1. I ran\n",
    "\n",
    "    conda update --yes conda\n",
    "    conda update --all --yes\n",
    "\n",
    "TensorFlow can be installed via conda-forge but it's version 0.12. Use\n",
    "\n",
    "    pip install tensorflow\n",
    "\n",
    "For GPU use, follow the [instructions](https://www.tensorflow.org/install/), or use an AWS instance that is already configured. You can also build your own instance; see [http://expressionflow.com/2016/10/09/installing-tensorflow-on-an-aws-ec2-p2-gpu-instance/](http://expressionflow.com/2016/10/09/installing-tensorflow-on-an-aws-ec2-p2-gpu-instance/) but note this uses an older version of TensorFlow.\n",
    "\n",
    "I also installed [jupyter-themer](https://github.com/transcranial/jupyter-themer), which is why my Pandas tables have every other row grey.\n",
    "\n",
    "## TensorFlow\n",
    "\n",
    "TensorFlow was created internally at Google to serve as their AI platform for deep learning, but it does more than deep learning or neural networks. We will use it to train a linear regression model.\n",
    "\n",
    "[Keras](https://keras.io) was recently adopted by Google as their neural network front-end. I highly recommend using Keras instead of TensorFlow to build a neural network.\n",
    "\n",
    "Many people believe Google open sourced TensorFlow because they realized the data is more valuable than the code itself.\n",
    "\n",
    "## Declarative versus Imperative Programming\n",
    "\n",
    "With **declarative programming** you tell the computer what you want to do, but not how to do it. This is what you do when you write an SQL query or a program in TensorFlow.\n",
    "\n",
    "**Imperative programming** requires you to tell the computer how to do the job (Python, C/C++, C#, etc).\n",
    "\n",
    "## Let's get started!"
   ]
  },
  {
   "cell_type": "code",
   "execution_count": 1,
   "metadata": {
    "collapsed": true,
    "deletable": true,
    "editable": true
   },
   "outputs": [],
   "source": [
    "import tensorflow as tf\n",
    "import numpy as np"
   ]
  },
  {
   "cell_type": "code",
   "execution_count": 2,
   "metadata": {
    "collapsed": false,
    "deletable": true,
    "editable": true
   },
   "outputs": [
    {
     "data": {
      "text/plain": [
       "<tf.Tensor 'Const:0' shape=() dtype=string>"
      ]
     },
     "execution_count": 2,
     "metadata": {},
     "output_type": "execute_result"
    }
   ],
   "source": [
    "hello = tf.constant('Hello, TensorFlow!')\n",
    "hello"
   ]
  },
  {
   "cell_type": "code",
   "execution_count": 3,
   "metadata": {
    "collapsed": true,
    "deletable": true,
    "editable": true
   },
   "outputs": [],
   "source": [
    "sess = tf.Session()"
   ]
  },
  {
   "cell_type": "markdown",
   "metadata": {
    "deletable": true,
    "editable": true
   },
   "source": [
    "**Note**: Nothing happens until you run the session."
   ]
  },
  {
   "cell_type": "code",
   "execution_count": 4,
   "metadata": {
    "collapsed": false,
    "deletable": true,
    "editable": true
   },
   "outputs": [
    {
     "name": "stdout",
     "output_type": "stream",
     "text": [
      "b'Hello, TensorFlow!'\n"
     ]
    }
   ],
   "source": [
    "print(sess.run(hello))"
   ]
  },
  {
   "cell_type": "markdown",
   "metadata": {
    "deletable": true,
    "editable": true
   },
   "source": [
    "## Computational Graphs\n",
    "\n",
    "Yes, these are real graph structures. I would describe them as acyclic directed graphs. These structures are often used to find best paths to recompute, say, bond prices.\n",
    "\n",
    "A **computational graph** is a series of operations (+, -, etc) expressed as nodes of the graph. Each node takes a tensor as input and a tensor as output.\n",
    "\n",
    "A **[tensor](https://en.wikipedia.org/wiki/Tensor)** is an object represented as a multidimensional array with respect to a basis, much as a matrix is a representation of a **linear transformation** with respect to a basis. The Stress tensor and curvature tensor are used extensively in elastic materials and general relativity. Tensors were also used in psychology to handle multidimensional data, and more recently in machine learning.\n",
    "\n",
    "### Create Nodes and Visualize a Simple Computation Graph\n",
    "\n",
    "We can create a constant node as"
   ]
  },
  {
   "cell_type": "code",
   "execution_count": 5,
   "metadata": {
    "collapsed": true,
    "deletable": true,
    "editable": true
   },
   "outputs": [],
   "source": [
    "node1 = tf.constant(3.0)"
   ]
  },
  {
   "cell_type": "code",
   "execution_count": 6,
   "metadata": {
    "collapsed": true,
    "deletable": true,
    "editable": true
   },
   "outputs": [],
   "source": [
    "node2 = tf.constant(4.0)"
   ]
  },
  {
   "cell_type": "code",
   "execution_count": 7,
   "metadata": {
    "collapsed": false,
    "deletable": true,
    "editable": true
   },
   "outputs": [
    {
     "data": {
      "text/plain": [
       "<tf.Tensor 'Const_2:0' shape=() dtype=float32>"
      ]
     },
     "execution_count": 7,
     "metadata": {},
     "output_type": "execute_result"
    }
   ],
   "source": [
    "node2"
   ]
  },
  {
   "cell_type": "markdown",
   "metadata": {
    "deletable": true,
    "editable": true
   },
   "source": [
    "Add two objects:"
   ]
  },
  {
   "cell_type": "code",
   "execution_count": 8,
   "metadata": {
    "collapsed": false,
    "deletable": true,
    "editable": true
   },
   "outputs": [
    {
     "data": {
      "text/plain": [
       "<tf.Tensor 'Add:0' shape=() dtype=float32>"
      ]
     },
     "execution_count": 8,
     "metadata": {},
     "output_type": "execute_result"
    }
   ],
   "source": [
    "node3 = tf.add(node1, node2)\n",
    "node3"
   ]
  },
  {
   "cell_type": "code",
   "execution_count": 9,
   "metadata": {
    "collapsed": true,
    "deletable": true,
    "editable": true
   },
   "outputs": [],
   "source": [
    "sess = tf.Session()"
   ]
  },
  {
   "cell_type": "code",
   "execution_count": 10,
   "metadata": {
    "collapsed": false,
    "deletable": true,
    "editable": true
   },
   "outputs": [
    {
     "name": "stdout",
     "output_type": "stream",
     "text": [
      "sess.run(node3):  7.0\n"
     ]
    }
   ],
   "source": [
    "print(\"sess.run(node3): \", sess.run(node3))"
   ]
  },
  {
   "cell_type": "code",
   "execution_count": 11,
   "metadata": {
    "collapsed": false,
    "deletable": true,
    "editable": true
   },
   "outputs": [],
   "source": [
    "node4 = tf.constant(10.0)"
   ]
  },
  {
   "cell_type": "code",
   "execution_count": 12,
   "metadata": {
    "collapsed": false,
    "deletable": true,
    "editable": true
   },
   "outputs": [],
   "source": [
    "node5 = tf.add(node3, node4)"
   ]
  },
  {
   "cell_type": "markdown",
   "metadata": {
    "deletable": true,
    "editable": true
   },
   "source": [
    "TensorFlow comes with an application called **TensorBoard** which we can use to visualize the computational graph for the nodes we've constructed."
   ]
  },
  {
   "cell_type": "code",
   "execution_count": 15,
   "metadata": {
    "collapsed": false,
    "deletable": true,
    "editable": true
   },
   "outputs": [],
   "source": [
    "graph = tf.get_default_graph()\n",
    "summary_writer = tf.summary.FileWriter(\"/Users/dtsmith/Temp\", graph)\n",
    "summary_writer.flush()"
   ]
  },
  {
   "cell_type": "markdown",
   "metadata": {
    "deletable": true,
    "editable": true
   },
   "source": [
    "Now run ```tensorboard --logdir=/Users/driver.dan12/Temp``` and click on http://localhost:6006. Here is the computation graph ![graph1.png](graph1.png)."
   ]
  },
  {
   "cell_type": "markdown",
   "metadata": {
    "collapsed": true,
    "deletable": true,
    "editable": true
   },
   "source": [
    "## Warnings from TensorFlow\n",
    "\n",
    "> ```The TensorFlow library wasn't compiled to use SSE4.1 instructions, but these are available on your machine and could speed up CPU computations.```\n",
    "\n",
    "Compile your own TensorFlow. See http://stackoverflow.com/questions/42270739/how-do-i-resolve-these-tensorflow-warnings/42975902#42975902."
   ]
  },
  {
   "cell_type": "markdown",
   "metadata": {
    "deletable": true,
    "editable": true
   },
   "source": [
    "Let's clear the default graph and take a look at this more closely."
   ]
  },
  {
   "cell_type": "code",
   "execution_count": 16,
   "metadata": {
    "collapsed": true,
    "deletable": true,
    "editable": true
   },
   "outputs": [],
   "source": [
    "tf.reset_default_graph()"
   ]
  },
  {
   "cell_type": "markdown",
   "metadata": {
    "collapsed": true,
    "deletable": true,
    "editable": true
   },
   "source": [
    "## Does this look odd?"
   ]
  },
  {
   "cell_type": "code",
   "execution_count": 17,
   "metadata": {
    "collapsed": false,
    "deletable": true,
    "editable": true
   },
   "outputs": [
    {
     "name": "stdout",
     "output_type": "stream",
     "text": [
      "1\n",
      "2\n",
      "3\n",
      "4\n",
      "5\n"
     ]
    }
   ],
   "source": [
    "x = tf.Variable(0, name='x')\n",
    "model = tf.global_variables_initializer()\n",
    "with tf.Session() as session:\n",
    "    for i in range(5):\n",
    "        session.run(model)\n",
    "        x = x + 1\n",
    "        print(session.run(x))"
   ]
  },
  {
   "cell_type": "code",
   "execution_count": 18,
   "metadata": {
    "collapsed": false,
    "deletable": true,
    "editable": true
   },
   "outputs": [
    {
     "name": "stdout",
     "output_type": "stream",
     "text": [
      "1\n",
      "2\n",
      "3\n",
      "4\n",
      "5\n"
     ]
    }
   ],
   "source": [
    "x = tf.Variable(0, name='x')\n",
    "model = tf.global_variables_initializer()\n",
    "with tf.Session() as session:\n",
    "    for i in range(5):\n",
    "        x = x + 1\n",
    "        session.run(model)\n",
    "        print(session.run(x))"
   ]
  },
  {
   "cell_type": "markdown",
   "metadata": {
    "deletable": true,
    "editable": true
   },
   "source": [
    "Nope, this makes perfect sense - we are not executing the computation graph until the ```run``` command. So whether we put the ```x = x + 1``` before or after ```session.run(model)```. This statement initializes ```x``` to be zero, and ```run``` executes the computation graph built so far.\n",
    "\n",
    "But what does ```global_variables_initializer``` do?\n",
    "\n",
    "It initializes all the *global variables* in the graph. The global variables are shared across machines in a distributed environment. Contrast with *local variables* which are per-process variables.\n",
    "\n",
    "We don't need to initialize ```Constant```, just ```Variable```. Reflect on that a little bit."
   ]
  },
  {
   "cell_type": "code",
   "execution_count": 17,
   "metadata": {
    "collapsed": true,
    "deletable": true,
    "editable": true
   },
   "outputs": [],
   "source": [
    "graph = tf.get_default_graph()\n",
    "summary_writer = tf.summary.FileWriter(\"/Users/driver.dan12/Temp\", graph)\n",
    "summary_writer.flush()"
   ]
  },
  {
   "cell_type": "markdown",
   "metadata": {
    "deletable": true,
    "editable": true
   },
   "source": [
    "Here is the computation graph ![graph2.png](graph2.png)"
   ]
  },
  {
   "cell_type": "code",
   "execution_count": 19,
   "metadata": {
    "collapsed": true,
    "deletable": true,
    "editable": true
   },
   "outputs": [],
   "source": [
    "tf.reset_default_graph()"
   ]
  },
  {
   "cell_type": "markdown",
   "metadata": {
    "deletable": true,
    "editable": true
   },
   "source": [
    "## Matrix Multiplication"
   ]
  },
  {
   "cell_type": "code",
   "execution_count": 20,
   "metadata": {
    "collapsed": true,
    "deletable": true,
    "editable": true
   },
   "outputs": [],
   "source": [
    "W = tf.Variable(tf.random_uniform([1000,1000]))\n",
    "x = tf.Variable(tf.ones([1000,1]))\n",
    "sess = tf.Session()"
   ]
  },
  {
   "cell_type": "code",
   "execution_count": 21,
   "metadata": {
    "collapsed": false,
    "deletable": true,
    "editable": true
   },
   "outputs": [
    {
     "ename": "FailedPreconditionError",
     "evalue": "Attempting to use uninitialized value Variable\n\t [[Node: Variable/read = Identity[T=DT_FLOAT, _class=[\"loc:@Variable\"], _device=\"/job:localhost/replica:0/task:0/cpu:0\"](Variable)]]\n\nCaused by op 'Variable/read', defined at:\n  File \"//anaconda/envs/tensorflow/lib/python3.6/runpy.py\", line 193, in _run_module_as_main\n    \"__main__\", mod_spec)\n  File \"//anaconda/envs/tensorflow/lib/python3.6/runpy.py\", line 85, in _run_code\n    exec(code, run_globals)\n  File \"//anaconda/envs/tensorflow/lib/python3.6/site-packages/ipykernel/__main__.py\", line 3, in <module>\n    app.launch_new_instance()\n  File \"//anaconda/envs/tensorflow/lib/python3.6/site-packages/traitlets/config/application.py\", line 658, in launch_instance\n    app.start()\n  File \"//anaconda/envs/tensorflow/lib/python3.6/site-packages/ipykernel/kernelapp.py\", line 474, in start\n    ioloop.IOLoop.instance().start()\n  File \"//anaconda/envs/tensorflow/lib/python3.6/site-packages/zmq/eventloop/ioloop.py\", line 177, in start\n    super(ZMQIOLoop, self).start()\n  File \"//anaconda/envs/tensorflow/lib/python3.6/site-packages/tornado/ioloop.py\", line 887, in start\n    handler_func(fd_obj, events)\n  File \"//anaconda/envs/tensorflow/lib/python3.6/site-packages/tornado/stack_context.py\", line 275, in null_wrapper\n    return fn(*args, **kwargs)\n  File \"//anaconda/envs/tensorflow/lib/python3.6/site-packages/zmq/eventloop/zmqstream.py\", line 440, in _handle_events\n    self._handle_recv()\n  File \"//anaconda/envs/tensorflow/lib/python3.6/site-packages/zmq/eventloop/zmqstream.py\", line 472, in _handle_recv\n    self._run_callback(callback, msg)\n  File \"//anaconda/envs/tensorflow/lib/python3.6/site-packages/zmq/eventloop/zmqstream.py\", line 414, in _run_callback\n    callback(*args, **kwargs)\n  File \"//anaconda/envs/tensorflow/lib/python3.6/site-packages/tornado/stack_context.py\", line 275, in null_wrapper\n    return fn(*args, **kwargs)\n  File \"//anaconda/envs/tensorflow/lib/python3.6/site-packages/ipykernel/kernelbase.py\", line 276, in dispatcher\n    return self.dispatch_shell(stream, msg)\n  File \"//anaconda/envs/tensorflow/lib/python3.6/site-packages/ipykernel/kernelbase.py\", line 228, in dispatch_shell\n    handler(stream, idents, msg)\n  File \"//anaconda/envs/tensorflow/lib/python3.6/site-packages/ipykernel/kernelbase.py\", line 390, in execute_request\n    user_expressions, allow_stdin)\n  File \"//anaconda/envs/tensorflow/lib/python3.6/site-packages/ipykernel/ipkernel.py\", line 196, in do_execute\n    res = shell.run_cell(code, store_history=store_history, silent=silent)\n  File \"//anaconda/envs/tensorflow/lib/python3.6/site-packages/ipykernel/zmqshell.py\", line 501, in run_cell\n    return super(ZMQInteractiveShell, self).run_cell(*args, **kwargs)\n  File \"//anaconda/envs/tensorflow/lib/python3.6/site-packages/IPython/core/interactiveshell.py\", line 2717, in run_cell\n    interactivity=interactivity, compiler=compiler, result=result)\n  File \"//anaconda/envs/tensorflow/lib/python3.6/site-packages/IPython/core/interactiveshell.py\", line 2821, in run_ast_nodes\n    if self.run_code(code, result):\n  File \"//anaconda/envs/tensorflow/lib/python3.6/site-packages/IPython/core/interactiveshell.py\", line 2881, in run_code\n    exec(code_obj, self.user_global_ns, self.user_ns)\n  File \"<ipython-input-20-803b4c44af68>\", line 1, in <module>\n    W = tf.Variable(tf.random_uniform([1000,1000]))\n  File \"//anaconda/envs/tensorflow/lib/python3.6/site-packages/tensorflow/python/ops/variables.py\", line 226, in __init__\n    expected_shape=expected_shape)\n  File \"//anaconda/envs/tensorflow/lib/python3.6/site-packages/tensorflow/python/ops/variables.py\", line 344, in _init_from_args\n    self._snapshot = array_ops.identity(self._variable, name=\"read\")\n  File \"//anaconda/envs/tensorflow/lib/python3.6/site-packages/tensorflow/python/ops/gen_array_ops.py\", line 1490, in identity\n    result = _op_def_lib.apply_op(\"Identity\", input=input, name=name)\n  File \"//anaconda/envs/tensorflow/lib/python3.6/site-packages/tensorflow/python/framework/op_def_library.py\", line 763, in apply_op\n    op_def=op_def)\n  File \"//anaconda/envs/tensorflow/lib/python3.6/site-packages/tensorflow/python/framework/ops.py\", line 2395, in create_op\n    original_op=self._default_original_op, op_def=op_def)\n  File \"//anaconda/envs/tensorflow/lib/python3.6/site-packages/tensorflow/python/framework/ops.py\", line 1264, in __init__\n    self._traceback = _extract_stack()\n\nFailedPreconditionError (see above for traceback): Attempting to use uninitialized value Variable\n\t [[Node: Variable/read = Identity[T=DT_FLOAT, _class=[\"loc:@Variable\"], _device=\"/job:localhost/replica:0/task:0/cpu:0\"](Variable)]]\n",
     "output_type": "error",
     "traceback": [
      "\u001b[0;31m---------------------------------------------------------------------------\u001b[0m",
      "\u001b[0;31mFailedPreconditionError\u001b[0m                   Traceback (most recent call last)",
      "\u001b[0;32m//anaconda/envs/tensorflow/lib/python3.6/site-packages/tensorflow/python/client/session.py\u001b[0m in \u001b[0;36m_do_call\u001b[0;34m(self, fn, *args)\u001b[0m\n\u001b[1;32m   1021\u001b[0m     \u001b[0;32mtry\u001b[0m\u001b[0;34m:\u001b[0m\u001b[0;34m\u001b[0m\u001b[0m\n\u001b[0;32m-> 1022\u001b[0;31m       \u001b[0;32mreturn\u001b[0m \u001b[0mfn\u001b[0m\u001b[0;34m(\u001b[0m\u001b[0;34m*\u001b[0m\u001b[0margs\u001b[0m\u001b[0;34m)\u001b[0m\u001b[0;34m\u001b[0m\u001b[0m\n\u001b[0m\u001b[1;32m   1023\u001b[0m     \u001b[0;32mexcept\u001b[0m \u001b[0merrors\u001b[0m\u001b[0;34m.\u001b[0m\u001b[0mOpError\u001b[0m \u001b[0;32mas\u001b[0m \u001b[0me\u001b[0m\u001b[0;34m:\u001b[0m\u001b[0;34m\u001b[0m\u001b[0m\n",
      "\u001b[0;32m//anaconda/envs/tensorflow/lib/python3.6/site-packages/tensorflow/python/client/session.py\u001b[0m in \u001b[0;36m_run_fn\u001b[0;34m(session, feed_dict, fetch_list, target_list, options, run_metadata)\u001b[0m\n\u001b[1;32m   1003\u001b[0m                                  \u001b[0mfeed_dict\u001b[0m\u001b[0;34m,\u001b[0m \u001b[0mfetch_list\u001b[0m\u001b[0;34m,\u001b[0m \u001b[0mtarget_list\u001b[0m\u001b[0;34m,\u001b[0m\u001b[0;34m\u001b[0m\u001b[0m\n\u001b[0;32m-> 1004\u001b[0;31m                                  status, run_metadata)\n\u001b[0m\u001b[1;32m   1005\u001b[0m \u001b[0;34m\u001b[0m\u001b[0m\n",
      "\u001b[0;32m//anaconda/envs/tensorflow/lib/python3.6/contextlib.py\u001b[0m in \u001b[0;36m__exit__\u001b[0;34m(self, type, value, traceback)\u001b[0m\n\u001b[1;32m     88\u001b[0m             \u001b[0;32mtry\u001b[0m\u001b[0;34m:\u001b[0m\u001b[0;34m\u001b[0m\u001b[0m\n\u001b[0;32m---> 89\u001b[0;31m                 \u001b[0mnext\u001b[0m\u001b[0;34m(\u001b[0m\u001b[0mself\u001b[0m\u001b[0;34m.\u001b[0m\u001b[0mgen\u001b[0m\u001b[0;34m)\u001b[0m\u001b[0;34m\u001b[0m\u001b[0m\n\u001b[0m\u001b[1;32m     90\u001b[0m             \u001b[0;32mexcept\u001b[0m \u001b[0mStopIteration\u001b[0m\u001b[0;34m:\u001b[0m\u001b[0;34m\u001b[0m\u001b[0m\n",
      "\u001b[0;32m//anaconda/envs/tensorflow/lib/python3.6/site-packages/tensorflow/python/framework/errors_impl.py\u001b[0m in \u001b[0;36mraise_exception_on_not_ok_status\u001b[0;34m()\u001b[0m\n\u001b[1;32m    468\u001b[0m           \u001b[0mcompat\u001b[0m\u001b[0;34m.\u001b[0m\u001b[0mas_text\u001b[0m\u001b[0;34m(\u001b[0m\u001b[0mpywrap_tensorflow\u001b[0m\u001b[0;34m.\u001b[0m\u001b[0mTF_Message\u001b[0m\u001b[0;34m(\u001b[0m\u001b[0mstatus\u001b[0m\u001b[0;34m)\u001b[0m\u001b[0;34m)\u001b[0m\u001b[0;34m,\u001b[0m\u001b[0;34m\u001b[0m\u001b[0m\n\u001b[0;32m--> 469\u001b[0;31m           pywrap_tensorflow.TF_GetCode(status))\n\u001b[0m\u001b[1;32m    470\u001b[0m   \u001b[0;32mfinally\u001b[0m\u001b[0;34m:\u001b[0m\u001b[0;34m\u001b[0m\u001b[0m\n",
      "\u001b[0;31mFailedPreconditionError\u001b[0m: Attempting to use uninitialized value Variable\n\t [[Node: Variable/read = Identity[T=DT_FLOAT, _class=[\"loc:@Variable\"], _device=\"/job:localhost/replica:0/task:0/cpu:0\"](Variable)]]",
      "\nDuring handling of the above exception, another exception occurred:\n",
      "\u001b[0;31mFailedPreconditionError\u001b[0m                   Traceback (most recent call last)",
      "\u001b[0;32m<ipython-input-21-e4351b59338e>\u001b[0m in \u001b[0;36m<module>\u001b[0;34m()\u001b[0m\n\u001b[0;32m----> 1\u001b[0;31m \u001b[0msess\u001b[0m\u001b[0;34m.\u001b[0m\u001b[0mrun\u001b[0m\u001b[0;34m(\u001b[0m\u001b[0mtf\u001b[0m\u001b[0;34m.\u001b[0m\u001b[0mmatmul\u001b[0m\u001b[0;34m(\u001b[0m\u001b[0mW\u001b[0m\u001b[0;34m,\u001b[0m \u001b[0mx\u001b[0m\u001b[0;34m)\u001b[0m\u001b[0;34m)\u001b[0m\u001b[0;34m\u001b[0m\u001b[0m\n\u001b[0m",
      "\u001b[0;32m//anaconda/envs/tensorflow/lib/python3.6/site-packages/tensorflow/python/client/session.py\u001b[0m in \u001b[0;36mrun\u001b[0;34m(self, fetches, feed_dict, options, run_metadata)\u001b[0m\n\u001b[1;32m    765\u001b[0m     \u001b[0;32mtry\u001b[0m\u001b[0;34m:\u001b[0m\u001b[0;34m\u001b[0m\u001b[0m\n\u001b[1;32m    766\u001b[0m       result = self._run(None, fetches, feed_dict, options_ptr,\n\u001b[0;32m--> 767\u001b[0;31m                          run_metadata_ptr)\n\u001b[0m\u001b[1;32m    768\u001b[0m       \u001b[0;32mif\u001b[0m \u001b[0mrun_metadata\u001b[0m\u001b[0;34m:\u001b[0m\u001b[0;34m\u001b[0m\u001b[0m\n\u001b[1;32m    769\u001b[0m         \u001b[0mproto_data\u001b[0m \u001b[0;34m=\u001b[0m \u001b[0mtf_session\u001b[0m\u001b[0;34m.\u001b[0m\u001b[0mTF_GetBuffer\u001b[0m\u001b[0;34m(\u001b[0m\u001b[0mrun_metadata_ptr\u001b[0m\u001b[0;34m)\u001b[0m\u001b[0;34m\u001b[0m\u001b[0m\n",
      "\u001b[0;32m//anaconda/envs/tensorflow/lib/python3.6/site-packages/tensorflow/python/client/session.py\u001b[0m in \u001b[0;36m_run\u001b[0;34m(self, handle, fetches, feed_dict, options, run_metadata)\u001b[0m\n\u001b[1;32m    963\u001b[0m     \u001b[0;32mif\u001b[0m \u001b[0mfinal_fetches\u001b[0m \u001b[0;32mor\u001b[0m \u001b[0mfinal_targets\u001b[0m\u001b[0;34m:\u001b[0m\u001b[0;34m\u001b[0m\u001b[0m\n\u001b[1;32m    964\u001b[0m       results = self._do_run(handle, final_targets, final_fetches,\n\u001b[0;32m--> 965\u001b[0;31m                              feed_dict_string, options, run_metadata)\n\u001b[0m\u001b[1;32m    966\u001b[0m     \u001b[0;32melse\u001b[0m\u001b[0;34m:\u001b[0m\u001b[0;34m\u001b[0m\u001b[0m\n\u001b[1;32m    967\u001b[0m       \u001b[0mresults\u001b[0m \u001b[0;34m=\u001b[0m \u001b[0;34m[\u001b[0m\u001b[0;34m]\u001b[0m\u001b[0;34m\u001b[0m\u001b[0m\n",
      "\u001b[0;32m//anaconda/envs/tensorflow/lib/python3.6/site-packages/tensorflow/python/client/session.py\u001b[0m in \u001b[0;36m_do_run\u001b[0;34m(self, handle, target_list, fetch_list, feed_dict, options, run_metadata)\u001b[0m\n\u001b[1;32m   1013\u001b[0m     \u001b[0;32mif\u001b[0m \u001b[0mhandle\u001b[0m \u001b[0;32mis\u001b[0m \u001b[0;32mNone\u001b[0m\u001b[0;34m:\u001b[0m\u001b[0;34m\u001b[0m\u001b[0m\n\u001b[1;32m   1014\u001b[0m       return self._do_call(_run_fn, self._session, feed_dict, fetch_list,\n\u001b[0;32m-> 1015\u001b[0;31m                            target_list, options, run_metadata)\n\u001b[0m\u001b[1;32m   1016\u001b[0m     \u001b[0;32melse\u001b[0m\u001b[0;34m:\u001b[0m\u001b[0;34m\u001b[0m\u001b[0m\n\u001b[1;32m   1017\u001b[0m       return self._do_call(_prun_fn, self._session, handle, feed_dict,\n",
      "\u001b[0;32m//anaconda/envs/tensorflow/lib/python3.6/site-packages/tensorflow/python/client/session.py\u001b[0m in \u001b[0;36m_do_call\u001b[0;34m(self, fn, *args)\u001b[0m\n\u001b[1;32m   1033\u001b[0m         \u001b[0;32mexcept\u001b[0m \u001b[0mKeyError\u001b[0m\u001b[0;34m:\u001b[0m\u001b[0;34m\u001b[0m\u001b[0m\n\u001b[1;32m   1034\u001b[0m           \u001b[0;32mpass\u001b[0m\u001b[0;34m\u001b[0m\u001b[0m\n\u001b[0;32m-> 1035\u001b[0;31m       \u001b[0;32mraise\u001b[0m \u001b[0mtype\u001b[0m\u001b[0;34m(\u001b[0m\u001b[0me\u001b[0m\u001b[0;34m)\u001b[0m\u001b[0;34m(\u001b[0m\u001b[0mnode_def\u001b[0m\u001b[0;34m,\u001b[0m \u001b[0mop\u001b[0m\u001b[0;34m,\u001b[0m \u001b[0mmessage\u001b[0m\u001b[0;34m)\u001b[0m\u001b[0;34m\u001b[0m\u001b[0m\n\u001b[0m\u001b[1;32m   1036\u001b[0m \u001b[0;34m\u001b[0m\u001b[0m\n\u001b[1;32m   1037\u001b[0m   \u001b[0;32mdef\u001b[0m \u001b[0m_extend_graph\u001b[0m\u001b[0;34m(\u001b[0m\u001b[0mself\u001b[0m\u001b[0;34m)\u001b[0m\u001b[0;34m:\u001b[0m\u001b[0;34m\u001b[0m\u001b[0m\n",
      "\u001b[0;31mFailedPreconditionError\u001b[0m: Attempting to use uninitialized value Variable\n\t [[Node: Variable/read = Identity[T=DT_FLOAT, _class=[\"loc:@Variable\"], _device=\"/job:localhost/replica:0/task:0/cpu:0\"](Variable)]]\n\nCaused by op 'Variable/read', defined at:\n  File \"//anaconda/envs/tensorflow/lib/python3.6/runpy.py\", line 193, in _run_module_as_main\n    \"__main__\", mod_spec)\n  File \"//anaconda/envs/tensorflow/lib/python3.6/runpy.py\", line 85, in _run_code\n    exec(code, run_globals)\n  File \"//anaconda/envs/tensorflow/lib/python3.6/site-packages/ipykernel/__main__.py\", line 3, in <module>\n    app.launch_new_instance()\n  File \"//anaconda/envs/tensorflow/lib/python3.6/site-packages/traitlets/config/application.py\", line 658, in launch_instance\n    app.start()\n  File \"//anaconda/envs/tensorflow/lib/python3.6/site-packages/ipykernel/kernelapp.py\", line 474, in start\n    ioloop.IOLoop.instance().start()\n  File \"//anaconda/envs/tensorflow/lib/python3.6/site-packages/zmq/eventloop/ioloop.py\", line 177, in start\n    super(ZMQIOLoop, self).start()\n  File \"//anaconda/envs/tensorflow/lib/python3.6/site-packages/tornado/ioloop.py\", line 887, in start\n    handler_func(fd_obj, events)\n  File \"//anaconda/envs/tensorflow/lib/python3.6/site-packages/tornado/stack_context.py\", line 275, in null_wrapper\n    return fn(*args, **kwargs)\n  File \"//anaconda/envs/tensorflow/lib/python3.6/site-packages/zmq/eventloop/zmqstream.py\", line 440, in _handle_events\n    self._handle_recv()\n  File \"//anaconda/envs/tensorflow/lib/python3.6/site-packages/zmq/eventloop/zmqstream.py\", line 472, in _handle_recv\n    self._run_callback(callback, msg)\n  File \"//anaconda/envs/tensorflow/lib/python3.6/site-packages/zmq/eventloop/zmqstream.py\", line 414, in _run_callback\n    callback(*args, **kwargs)\n  File \"//anaconda/envs/tensorflow/lib/python3.6/site-packages/tornado/stack_context.py\", line 275, in null_wrapper\n    return fn(*args, **kwargs)\n  File \"//anaconda/envs/tensorflow/lib/python3.6/site-packages/ipykernel/kernelbase.py\", line 276, in dispatcher\n    return self.dispatch_shell(stream, msg)\n  File \"//anaconda/envs/tensorflow/lib/python3.6/site-packages/ipykernel/kernelbase.py\", line 228, in dispatch_shell\n    handler(stream, idents, msg)\n  File \"//anaconda/envs/tensorflow/lib/python3.6/site-packages/ipykernel/kernelbase.py\", line 390, in execute_request\n    user_expressions, allow_stdin)\n  File \"//anaconda/envs/tensorflow/lib/python3.6/site-packages/ipykernel/ipkernel.py\", line 196, in do_execute\n    res = shell.run_cell(code, store_history=store_history, silent=silent)\n  File \"//anaconda/envs/tensorflow/lib/python3.6/site-packages/ipykernel/zmqshell.py\", line 501, in run_cell\n    return super(ZMQInteractiveShell, self).run_cell(*args, **kwargs)\n  File \"//anaconda/envs/tensorflow/lib/python3.6/site-packages/IPython/core/interactiveshell.py\", line 2717, in run_cell\n    interactivity=interactivity, compiler=compiler, result=result)\n  File \"//anaconda/envs/tensorflow/lib/python3.6/site-packages/IPython/core/interactiveshell.py\", line 2821, in run_ast_nodes\n    if self.run_code(code, result):\n  File \"//anaconda/envs/tensorflow/lib/python3.6/site-packages/IPython/core/interactiveshell.py\", line 2881, in run_code\n    exec(code_obj, self.user_global_ns, self.user_ns)\n  File \"<ipython-input-20-803b4c44af68>\", line 1, in <module>\n    W = tf.Variable(tf.random_uniform([1000,1000]))\n  File \"//anaconda/envs/tensorflow/lib/python3.6/site-packages/tensorflow/python/ops/variables.py\", line 226, in __init__\n    expected_shape=expected_shape)\n  File \"//anaconda/envs/tensorflow/lib/python3.6/site-packages/tensorflow/python/ops/variables.py\", line 344, in _init_from_args\n    self._snapshot = array_ops.identity(self._variable, name=\"read\")\n  File \"//anaconda/envs/tensorflow/lib/python3.6/site-packages/tensorflow/python/ops/gen_array_ops.py\", line 1490, in identity\n    result = _op_def_lib.apply_op(\"Identity\", input=input, name=name)\n  File \"//anaconda/envs/tensorflow/lib/python3.6/site-packages/tensorflow/python/framework/op_def_library.py\", line 763, in apply_op\n    op_def=op_def)\n  File \"//anaconda/envs/tensorflow/lib/python3.6/site-packages/tensorflow/python/framework/ops.py\", line 2395, in create_op\n    original_op=self._default_original_op, op_def=op_def)\n  File \"//anaconda/envs/tensorflow/lib/python3.6/site-packages/tensorflow/python/framework/ops.py\", line 1264, in __init__\n    self._traceback = _extract_stack()\n\nFailedPreconditionError (see above for traceback): Attempting to use uninitialized value Variable\n\t [[Node: Variable/read = Identity[T=DT_FLOAT, _class=[\"loc:@Variable\"], _device=\"/job:localhost/replica:0/task:0/cpu:0\"](Variable)]]\n"
     ]
    }
   ],
   "source": [
    "sess.run(tf.matmul(W, x))"
   ]
  },
  {
   "cell_type": "code",
   "execution_count": 22,
   "metadata": {
    "collapsed": true,
    "deletable": true,
    "editable": true
   },
   "outputs": [],
   "source": [
    "sess.run(tf.global_variables_initializer())"
   ]
  },
  {
   "cell_type": "code",
   "execution_count": 23,
   "metadata": {
    "collapsed": false,
    "deletable": true,
    "editable": true
   },
   "outputs": [
    {
     "data": {
      "text/plain": [
       "array([[ 513.67773438],\n",
       "       [ 486.7638855 ],\n",
       "       [ 504.49401855],\n",
       "       [ 499.72555542],\n",
       "       [ 495.87896729],\n",
       "       [ 511.04278564],\n",
       "       [ 492.54116821],\n",
       "       [ 519.60455322],\n",
       "       [ 515.26721191],\n",
       "       [ 507.90615845],\n",
       "       [ 494.32861328],\n",
       "       [ 486.29190063],\n",
       "       [ 505.69464111],\n",
       "       [ 496.29101562],\n",
       "       [ 503.07104492],\n",
       "       [ 502.17071533],\n",
       "       [ 517.3918457 ],\n",
       "       [ 500.72662354],\n",
       "       [ 496.21710205],\n",
       "       [ 519.97351074],\n",
       "       [ 498.82116699],\n",
       "       [ 496.81161499],\n",
       "       [ 502.06903076],\n",
       "       [ 514.77770996],\n",
       "       [ 515.63720703],\n",
       "       [ 482.14489746],\n",
       "       [ 505.35287476],\n",
       "       [ 502.90933228],\n",
       "       [ 506.31072998],\n",
       "       [ 501.13769531],\n",
       "       [ 504.12249756],\n",
       "       [ 502.22506714],\n",
       "       [ 499.8972168 ],\n",
       "       [ 498.03112793],\n",
       "       [ 490.36291504],\n",
       "       [ 492.543396  ],\n",
       "       [ 489.70007324],\n",
       "       [ 485.90362549],\n",
       "       [ 507.79223633],\n",
       "       [ 492.48773193],\n",
       "       [ 499.48648071],\n",
       "       [ 490.86816406],\n",
       "       [ 496.2414856 ],\n",
       "       [ 492.30541992],\n",
       "       [ 499.96923828],\n",
       "       [ 485.29083252],\n",
       "       [ 495.29092407],\n",
       "       [ 504.75787354],\n",
       "       [ 502.7628479 ],\n",
       "       [ 492.26831055],\n",
       "       [ 492.66992188],\n",
       "       [ 488.32501221],\n",
       "       [ 495.87286377],\n",
       "       [ 492.57446289],\n",
       "       [ 493.9927063 ],\n",
       "       [ 516.05200195],\n",
       "       [ 513.4375    ],\n",
       "       [ 492.57614136],\n",
       "       [ 502.95855713],\n",
       "       [ 502.13220215],\n",
       "       [ 490.90432739],\n",
       "       [ 503.15130615],\n",
       "       [ 505.72009277],\n",
       "       [ 498.83184814],\n",
       "       [ 496.30584717],\n",
       "       [ 497.85513306],\n",
       "       [ 501.31854248],\n",
       "       [ 507.15286255],\n",
       "       [ 512.387146  ],\n",
       "       [ 490.76428223],\n",
       "       [ 491.9432373 ],\n",
       "       [ 498.50088501],\n",
       "       [ 495.38879395],\n",
       "       [ 503.19100952],\n",
       "       [ 507.37017822],\n",
       "       [ 506.69924927],\n",
       "       [ 514.65686035],\n",
       "       [ 510.54632568],\n",
       "       [ 499.21548462],\n",
       "       [ 507.12884521],\n",
       "       [ 504.27758789],\n",
       "       [ 510.65777588],\n",
       "       [ 506.23321533],\n",
       "       [ 498.55941772],\n",
       "       [ 481.96737671],\n",
       "       [ 509.92874146],\n",
       "       [ 506.8678894 ],\n",
       "       [ 499.41107178],\n",
       "       [ 488.76446533],\n",
       "       [ 501.4039917 ],\n",
       "       [ 505.16848755],\n",
       "       [ 485.51452637],\n",
       "       [ 504.33377075],\n",
       "       [ 501.72833252],\n",
       "       [ 503.57421875],\n",
       "       [ 502.50653076],\n",
       "       [ 517.3939209 ],\n",
       "       [ 495.91986084],\n",
       "       [ 502.38452148],\n",
       "       [ 499.25732422],\n",
       "       [ 509.13705444],\n",
       "       [ 512.56604004],\n",
       "       [ 507.99139404],\n",
       "       [ 506.64572144],\n",
       "       [ 492.94363403],\n",
       "       [ 492.68707275],\n",
       "       [ 500.69091797],\n",
       "       [ 485.13867188],\n",
       "       [ 499.64306641],\n",
       "       [ 511.36886597],\n",
       "       [ 506.2019043 ],\n",
       "       [ 517.31787109],\n",
       "       [ 500.40112305],\n",
       "       [ 494.65478516],\n",
       "       [ 492.21472168],\n",
       "       [ 507.10202026],\n",
       "       [ 483.48706055],\n",
       "       [ 488.31744385],\n",
       "       [ 489.79766846],\n",
       "       [ 489.93075562],\n",
       "       [ 510.26611328],\n",
       "       [ 496.10830688],\n",
       "       [ 488.06369019],\n",
       "       [ 510.68685913],\n",
       "       [ 513.06237793],\n",
       "       [ 487.84014893],\n",
       "       [ 497.22714233],\n",
       "       [ 502.83724976],\n",
       "       [ 488.0269165 ],\n",
       "       [ 512.66314697],\n",
       "       [ 503.19476318],\n",
       "       [ 499.73144531],\n",
       "       [ 500.64581299],\n",
       "       [ 491.18334961],\n",
       "       [ 512.58447266],\n",
       "       [ 505.23886108],\n",
       "       [ 494.06201172],\n",
       "       [ 514.68597412],\n",
       "       [ 514.07391357],\n",
       "       [ 504.5942688 ],\n",
       "       [ 502.6473999 ],\n",
       "       [ 499.45614624],\n",
       "       [ 506.76785278],\n",
       "       [ 497.70010376],\n",
       "       [ 496.20806885],\n",
       "       [ 495.14547729],\n",
       "       [ 496.46115112],\n",
       "       [ 499.71081543],\n",
       "       [ 504.33453369],\n",
       "       [ 511.77578735],\n",
       "       [ 499.75933838],\n",
       "       [ 497.3605957 ],\n",
       "       [ 504.831604  ],\n",
       "       [ 487.24194336],\n",
       "       [ 501.54800415],\n",
       "       [ 519.35107422],\n",
       "       [ 502.45587158],\n",
       "       [ 482.23291016],\n",
       "       [ 494.60894775],\n",
       "       [ 504.67657471],\n",
       "       [ 502.21209717],\n",
       "       [ 490.6769104 ],\n",
       "       [ 486.99191284],\n",
       "       [ 503.81558228],\n",
       "       [ 510.11828613],\n",
       "       [ 499.73742676],\n",
       "       [ 492.96142578],\n",
       "       [ 503.11349487],\n",
       "       [ 484.78387451],\n",
       "       [ 491.55560303],\n",
       "       [ 503.24481201],\n",
       "       [ 503.11636353],\n",
       "       [ 496.74771118],\n",
       "       [ 496.84402466],\n",
       "       [ 505.89916992],\n",
       "       [ 509.06835938],\n",
       "       [ 498.95904541],\n",
       "       [ 521.72619629],\n",
       "       [ 501.8949585 ],\n",
       "       [ 499.82946777],\n",
       "       [ 501.58282471],\n",
       "       [ 516.00482178],\n",
       "       [ 514.45623779],\n",
       "       [ 503.56027222],\n",
       "       [ 497.24261475],\n",
       "       [ 511.11505127],\n",
       "       [ 496.32818604],\n",
       "       [ 500.87484741],\n",
       "       [ 500.37582397],\n",
       "       [ 493.75244141],\n",
       "       [ 496.3505249 ],\n",
       "       [ 493.09637451],\n",
       "       [ 499.59503174],\n",
       "       [ 498.09902954],\n",
       "       [ 494.0958252 ],\n",
       "       [ 498.77157593],\n",
       "       [ 503.89093018],\n",
       "       [ 504.25735474],\n",
       "       [ 489.10772705],\n",
       "       [ 495.45617676],\n",
       "       [ 495.16589355],\n",
       "       [ 499.71105957],\n",
       "       [ 481.2046814 ],\n",
       "       [ 499.2578125 ],\n",
       "       [ 493.04547119],\n",
       "       [ 499.56671143],\n",
       "       [ 480.40512085],\n",
       "       [ 490.25976562],\n",
       "       [ 508.0579834 ],\n",
       "       [ 491.92773438],\n",
       "       [ 486.62167358],\n",
       "       [ 498.16497803],\n",
       "       [ 512.5345459 ],\n",
       "       [ 513.27075195],\n",
       "       [ 504.36401367],\n",
       "       [ 489.67892456],\n",
       "       [ 510.09564209],\n",
       "       [ 499.31512451],\n",
       "       [ 504.13476562],\n",
       "       [ 489.22094727],\n",
       "       [ 494.95724487],\n",
       "       [ 505.34515381],\n",
       "       [ 497.15087891],\n",
       "       [ 482.95748901],\n",
       "       [ 506.09179688],\n",
       "       [ 490.14157104],\n",
       "       [ 512.05749512],\n",
       "       [ 508.38299561],\n",
       "       [ 496.84082031],\n",
       "       [ 491.47290039],\n",
       "       [ 493.36520386],\n",
       "       [ 501.27807617],\n",
       "       [ 507.27423096],\n",
       "       [ 490.82034302],\n",
       "       [ 495.13360596],\n",
       "       [ 503.65158081],\n",
       "       [ 497.55630493],\n",
       "       [ 504.40023804],\n",
       "       [ 496.87081909],\n",
       "       [ 512.80908203],\n",
       "       [ 503.86575317],\n",
       "       [ 506.07247925],\n",
       "       [ 507.35150146],\n",
       "       [ 503.78881836],\n",
       "       [ 507.47494507],\n",
       "       [ 488.71112061],\n",
       "       [ 494.99023438],\n",
       "       [ 502.12808228],\n",
       "       [ 504.63916016],\n",
       "       [ 497.78167725],\n",
       "       [ 492.11169434],\n",
       "       [ 486.85794067],\n",
       "       [ 485.56573486],\n",
       "       [ 508.99108887],\n",
       "       [ 503.69799805],\n",
       "       [ 503.21551514],\n",
       "       [ 513.90185547],\n",
       "       [ 487.5788269 ],\n",
       "       [ 505.85681152],\n",
       "       [ 500.05419922],\n",
       "       [ 504.56524658],\n",
       "       [ 513.64648438],\n",
       "       [ 500.86035156],\n",
       "       [ 480.20507812],\n",
       "       [ 494.99124146],\n",
       "       [ 493.39825439],\n",
       "       [ 489.62091064],\n",
       "       [ 508.36932373],\n",
       "       [ 502.42950439],\n",
       "       [ 512.31713867],\n",
       "       [ 498.21929932],\n",
       "       [ 494.03649902],\n",
       "       [ 498.32730103],\n",
       "       [ 502.27539062],\n",
       "       [ 499.89645386],\n",
       "       [ 487.24475098],\n",
       "       [ 511.31912231],\n",
       "       [ 493.27554321],\n",
       "       [ 494.69451904],\n",
       "       [ 487.1539917 ],\n",
       "       [ 491.09588623],\n",
       "       [ 499.89666748],\n",
       "       [ 488.78997803],\n",
       "       [ 493.14190674],\n",
       "       [ 506.09729004],\n",
       "       [ 514.63928223],\n",
       "       [ 500.1819458 ],\n",
       "       [ 484.52532959],\n",
       "       [ 491.00735474],\n",
       "       [ 488.86721802],\n",
       "       [ 503.23608398],\n",
       "       [ 493.23907471],\n",
       "       [ 496.95288086],\n",
       "       [ 517.2925415 ],\n",
       "       [ 502.74920654],\n",
       "       [ 487.60714722],\n",
       "       [ 483.94287109],\n",
       "       [ 482.20318604],\n",
       "       [ 475.41748047],\n",
       "       [ 497.7281189 ],\n",
       "       [ 508.84259033],\n",
       "       [ 509.12896729],\n",
       "       [ 496.621521  ],\n",
       "       [ 515.37518311],\n",
       "       [ 500.74273682],\n",
       "       [ 489.10314941],\n",
       "       [ 491.63751221],\n",
       "       [ 502.52264404],\n",
       "       [ 500.40884399],\n",
       "       [ 499.10040283],\n",
       "       [ 513.9052124 ],\n",
       "       [ 507.59085083],\n",
       "       [ 508.76226807],\n",
       "       [ 486.69055176],\n",
       "       [ 513.63049316],\n",
       "       [ 506.33911133],\n",
       "       [ 503.01324463],\n",
       "       [ 496.2019043 ],\n",
       "       [ 494.01773071],\n",
       "       [ 491.44107056],\n",
       "       [ 484.05508423],\n",
       "       [ 490.70812988],\n",
       "       [ 499.0291748 ],\n",
       "       [ 492.83575439],\n",
       "       [ 500.87628174],\n",
       "       [ 483.15649414],\n",
       "       [ 499.95169067],\n",
       "       [ 491.01696777],\n",
       "       [ 519.48144531],\n",
       "       [ 493.46960449],\n",
       "       [ 491.12316895],\n",
       "       [ 506.98620605],\n",
       "       [ 500.42382812],\n",
       "       [ 500.10604858],\n",
       "       [ 502.42474365],\n",
       "       [ 496.45346069],\n",
       "       [ 494.16262817],\n",
       "       [ 498.1987915 ],\n",
       "       [ 494.87310791],\n",
       "       [ 498.87698364],\n",
       "       [ 500.10882568],\n",
       "       [ 512.45446777],\n",
       "       [ 505.30761719],\n",
       "       [ 503.82543945],\n",
       "       [ 499.98510742],\n",
       "       [ 496.0255127 ],\n",
       "       [ 495.09796143],\n",
       "       [ 488.06497192],\n",
       "       [ 506.18945312],\n",
       "       [ 498.94049072],\n",
       "       [ 504.73443604],\n",
       "       [ 494.91143799],\n",
       "       [ 498.03738403],\n",
       "       [ 490.35214233],\n",
       "       [ 501.66210938],\n",
       "       [ 497.01660156],\n",
       "       [ 504.06958008],\n",
       "       [ 500.5423584 ],\n",
       "       [ 500.36456299],\n",
       "       [ 493.96148682],\n",
       "       [ 491.31234741],\n",
       "       [ 519.15429688],\n",
       "       [ 496.79940796],\n",
       "       [ 487.65222168],\n",
       "       [ 499.24066162],\n",
       "       [ 498.97503662],\n",
       "       [ 488.9730835 ],\n",
       "       [ 501.04754639],\n",
       "       [ 482.46228027],\n",
       "       [ 486.27600098],\n",
       "       [ 499.84918213],\n",
       "       [ 512.35571289],\n",
       "       [ 519.71881104],\n",
       "       [ 493.58041382],\n",
       "       [ 518.21063232],\n",
       "       [ 499.84466553],\n",
       "       [ 495.28909302],\n",
       "       [ 487.54907227],\n",
       "       [ 476.12774658],\n",
       "       [ 499.34307861],\n",
       "       [ 484.10449219],\n",
       "       [ 507.6625061 ],\n",
       "       [ 517.47619629],\n",
       "       [ 504.5302124 ],\n",
       "       [ 494.12469482],\n",
       "       [ 502.79223633],\n",
       "       [ 505.56176758],\n",
       "       [ 488.60134888],\n",
       "       [ 499.93771362],\n",
       "       [ 498.91452026],\n",
       "       [ 495.44537354],\n",
       "       [ 491.12042236],\n",
       "       [ 500.52435303],\n",
       "       [ 513.23181152],\n",
       "       [ 497.87640381],\n",
       "       [ 490.46789551],\n",
       "       [ 500.44195557],\n",
       "       [ 504.29003906],\n",
       "       [ 494.70809937],\n",
       "       [ 514.75604248],\n",
       "       [ 507.84747314],\n",
       "       [ 483.24816895],\n",
       "       [ 499.43066406],\n",
       "       [ 503.20300293],\n",
       "       [ 509.31015015],\n",
       "       [ 496.56195068],\n",
       "       [ 497.04400635],\n",
       "       [ 497.14361572],\n",
       "       [ 505.53982544],\n",
       "       [ 503.08203125],\n",
       "       [ 498.47982788],\n",
       "       [ 501.21810913],\n",
       "       [ 491.19470215],\n",
       "       [ 498.42749023],\n",
       "       [ 510.82788086],\n",
       "       [ 511.03543091],\n",
       "       [ 503.96514893],\n",
       "       [ 510.2411499 ],\n",
       "       [ 492.48065186],\n",
       "       [ 496.3074646 ],\n",
       "       [ 500.79595947],\n",
       "       [ 510.01202393],\n",
       "       [ 500.81588745],\n",
       "       [ 482.87194824],\n",
       "       [ 502.421875  ],\n",
       "       [ 489.25616455],\n",
       "       [ 499.55285645],\n",
       "       [ 503.27218628],\n",
       "       [ 492.08963013],\n",
       "       [ 507.78479004],\n",
       "       [ 498.03253174],\n",
       "       [ 507.74142456],\n",
       "       [ 508.6463623 ],\n",
       "       [ 519.84094238],\n",
       "       [ 512.89251709],\n",
       "       [ 487.35379028],\n",
       "       [ 517.8918457 ],\n",
       "       [ 503.29525757],\n",
       "       [ 483.85925293],\n",
       "       [ 500.33895874],\n",
       "       [ 501.29931641],\n",
       "       [ 489.49728394],\n",
       "       [ 498.61862183],\n",
       "       [ 485.02926636],\n",
       "       [ 500.50720215],\n",
       "       [ 495.76000977],\n",
       "       [ 509.1109314 ],\n",
       "       [ 513.18206787],\n",
       "       [ 497.71569824],\n",
       "       [ 499.07165527],\n",
       "       [ 505.00311279],\n",
       "       [ 502.06536865],\n",
       "       [ 504.68927002],\n",
       "       [ 496.98834229],\n",
       "       [ 478.50610352],\n",
       "       [ 508.00219727],\n",
       "       [ 493.50341797],\n",
       "       [ 499.3637085 ],\n",
       "       [ 482.73376465],\n",
       "       [ 509.565979  ],\n",
       "       [ 505.95751953],\n",
       "       [ 502.38720703],\n",
       "       [ 490.41156006],\n",
       "       [ 508.51678467],\n",
       "       [ 497.79974365],\n",
       "       [ 522.15374756],\n",
       "       [ 493.1239624 ],\n",
       "       [ 491.46105957],\n",
       "       [ 507.99615479],\n",
       "       [ 496.98461914],\n",
       "       [ 501.65213013],\n",
       "       [ 496.87979126],\n",
       "       [ 502.64144897],\n",
       "       [ 505.89349365],\n",
       "       [ 505.71621704],\n",
       "       [ 489.05184937],\n",
       "       [ 517.87866211],\n",
       "       [ 517.44616699],\n",
       "       [ 498.17697144],\n",
       "       [ 502.42556763],\n",
       "       [ 500.70843506],\n",
       "       [ 495.95294189],\n",
       "       [ 509.72955322],\n",
       "       [ 495.8269043 ],\n",
       "       [ 490.19351196],\n",
       "       [ 503.52276611],\n",
       "       [ 479.37664795],\n",
       "       [ 503.04708862],\n",
       "       [ 504.71084595],\n",
       "       [ 498.38858032],\n",
       "       [ 507.97650146],\n",
       "       [ 500.26916504],\n",
       "       [ 505.04754639],\n",
       "       [ 485.61349487],\n",
       "       [ 512.85253906],\n",
       "       [ 495.66671753],\n",
       "       [ 496.27529907],\n",
       "       [ 509.11959839],\n",
       "       [ 490.40698242],\n",
       "       [ 497.81890869],\n",
       "       [ 499.94125366],\n",
       "       [ 493.76766968],\n",
       "       [ 490.88684082],\n",
       "       [ 502.07171631],\n",
       "       [ 497.08184814],\n",
       "       [ 506.70327759],\n",
       "       [ 510.04592896],\n",
       "       [ 491.70355225],\n",
       "       [ 496.10366821],\n",
       "       [ 503.21258545],\n",
       "       [ 496.96432495],\n",
       "       [ 496.3704834 ],\n",
       "       [ 504.50244141],\n",
       "       [ 507.03878784],\n",
       "       [ 493.5960083 ],\n",
       "       [ 501.08804321],\n",
       "       [ 498.27462769],\n",
       "       [ 494.74389648],\n",
       "       [ 518.41394043],\n",
       "       [ 510.53961182],\n",
       "       [ 487.47674561],\n",
       "       [ 499.43530273],\n",
       "       [ 500.92956543],\n",
       "       [ 498.07925415],\n",
       "       [ 503.37768555],\n",
       "       [ 497.81207275],\n",
       "       [ 507.12701416],\n",
       "       [ 486.3170166 ],\n",
       "       [ 515.85229492],\n",
       "       [ 504.49111938],\n",
       "       [ 487.62536621],\n",
       "       [ 496.35986328],\n",
       "       [ 500.94476318],\n",
       "       [ 515.76904297],\n",
       "       [ 512.8918457 ],\n",
       "       [ 513.06103516],\n",
       "       [ 493.97003174],\n",
       "       [ 505.05224609],\n",
       "       [ 503.21917725],\n",
       "       [ 495.29425049],\n",
       "       [ 494.17077637],\n",
       "       [ 489.96002197],\n",
       "       [ 507.06021118],\n",
       "       [ 480.27575684],\n",
       "       [ 504.94195557],\n",
       "       [ 507.49386597],\n",
       "       [ 515.98632812],\n",
       "       [ 496.44287109],\n",
       "       [ 496.94818115],\n",
       "       [ 496.35519409],\n",
       "       [ 508.60772705],\n",
       "       [ 486.05160522],\n",
       "       [ 499.74743652],\n",
       "       [ 481.77542114],\n",
       "       [ 486.59558105],\n",
       "       [ 492.53601074],\n",
       "       [ 511.05230713],\n",
       "       [ 490.37783813],\n",
       "       [ 510.37414551],\n",
       "       [ 507.47216797],\n",
       "       [ 494.45602417],\n",
       "       [ 496.0770874 ],\n",
       "       [ 485.99249268],\n",
       "       [ 502.11410522],\n",
       "       [ 491.26184082],\n",
       "       [ 502.35534668],\n",
       "       [ 520.88500977],\n",
       "       [ 495.51068115],\n",
       "       [ 507.69317627],\n",
       "       [ 501.64025879],\n",
       "       [ 488.86813354],\n",
       "       [ 507.93499756],\n",
       "       [ 500.86209106],\n",
       "       [ 497.75521851],\n",
       "       [ 513.26013184],\n",
       "       [ 510.9682312 ],\n",
       "       [ 494.56079102],\n",
       "       [ 497.91931152],\n",
       "       [ 499.48828125],\n",
       "       [ 491.36990356],\n",
       "       [ 512.58294678],\n",
       "       [ 502.21887207],\n",
       "       [ 508.61248779],\n",
       "       [ 493.79180908],\n",
       "       [ 494.0970459 ],\n",
       "       [ 494.80767822],\n",
       "       [ 497.63885498],\n",
       "       [ 501.30258179],\n",
       "       [ 507.65643311],\n",
       "       [ 493.46435547],\n",
       "       [ 484.9932251 ],\n",
       "       [ 495.96179199],\n",
       "       [ 495.5425415 ],\n",
       "       [ 495.63690186],\n",
       "       [ 509.3994751 ],\n",
       "       [ 494.29537964],\n",
       "       [ 502.53079224],\n",
       "       [ 515.42956543],\n",
       "       [ 499.77587891],\n",
       "       [ 502.20349121],\n",
       "       [ 512.39880371],\n",
       "       [ 500.65783691],\n",
       "       [ 510.38256836],\n",
       "       [ 506.37579346],\n",
       "       [ 498.71685791],\n",
       "       [ 492.86679077],\n",
       "       [ 496.04248047],\n",
       "       [ 502.62261963],\n",
       "       [ 504.44659424],\n",
       "       [ 514.73681641],\n",
       "       [ 493.90899658],\n",
       "       [ 497.41992188],\n",
       "       [ 493.21453857],\n",
       "       [ 493.54415894],\n",
       "       [ 487.75622559],\n",
       "       [ 512.62097168],\n",
       "       [ 503.77474976],\n",
       "       [ 501.69729614],\n",
       "       [ 491.23950195],\n",
       "       [ 483.6519165 ],\n",
       "       [ 491.59729004],\n",
       "       [ 499.03808594],\n",
       "       [ 502.24246216],\n",
       "       [ 505.01867676],\n",
       "       [ 489.65332031],\n",
       "       [ 503.77770996],\n",
       "       [ 500.24597168],\n",
       "       [ 517.652771  ],\n",
       "       [ 486.66433716],\n",
       "       [ 505.14123535],\n",
       "       [ 524.73406982],\n",
       "       [ 493.1137085 ],\n",
       "       [ 498.6211853 ],\n",
       "       [ 503.09838867],\n",
       "       [ 507.10852051],\n",
       "       [ 505.50952148],\n",
       "       [ 497.41674805],\n",
       "       [ 502.59442139],\n",
       "       [ 492.94396973],\n",
       "       [ 487.78317261],\n",
       "       [ 494.66516113],\n",
       "       [ 502.95043945],\n",
       "       [ 506.66564941],\n",
       "       [ 497.09347534],\n",
       "       [ 499.17230225],\n",
       "       [ 522.0279541 ],\n",
       "       [ 489.27865601],\n",
       "       [ 496.25494385],\n",
       "       [ 496.16195679],\n",
       "       [ 500.95562744],\n",
       "       [ 497.53948975],\n",
       "       [ 505.45462036],\n",
       "       [ 495.73727417],\n",
       "       [ 503.22335815],\n",
       "       [ 464.84130859],\n",
       "       [ 502.22094727],\n",
       "       [ 506.03875732],\n",
       "       [ 503.01104736],\n",
       "       [ 502.69857788],\n",
       "       [ 496.89050293],\n",
       "       [ 490.24179077],\n",
       "       [ 516.99829102],\n",
       "       [ 510.27243042],\n",
       "       [ 486.23577881],\n",
       "       [ 494.20565796],\n",
       "       [ 513.93481445],\n",
       "       [ 499.82827759],\n",
       "       [ 494.34646606],\n",
       "       [ 493.53488159],\n",
       "       [ 496.32037354],\n",
       "       [ 499.26409912],\n",
       "       [ 500.29547119],\n",
       "       [ 500.67623901],\n",
       "       [ 489.76239014],\n",
       "       [ 508.28295898],\n",
       "       [ 500.41253662],\n",
       "       [ 493.39990234],\n",
       "       [ 487.2064209 ],\n",
       "       [ 490.90783691],\n",
       "       [ 504.18914795],\n",
       "       [ 507.47293091],\n",
       "       [ 515.98370361],\n",
       "       [ 503.85223389],\n",
       "       [ 496.21826172],\n",
       "       [ 484.18057251],\n",
       "       [ 522.37585449],\n",
       "       [ 503.04266357],\n",
       "       [ 492.25604248],\n",
       "       [ 489.74386597],\n",
       "       [ 486.43826294],\n",
       "       [ 505.51593018],\n",
       "       [ 504.95761108],\n",
       "       [ 501.82519531],\n",
       "       [ 498.4395752 ],\n",
       "       [ 478.42626953],\n",
       "       [ 505.14675903],\n",
       "       [ 500.65350342],\n",
       "       [ 494.66662598],\n",
       "       [ 514.78881836],\n",
       "       [ 494.5135498 ],\n",
       "       [ 497.24102783],\n",
       "       [ 504.93634033],\n",
       "       [ 494.2545166 ],\n",
       "       [ 500.43432617],\n",
       "       [ 500.92797852],\n",
       "       [ 496.37573242],\n",
       "       [ 498.93292236],\n",
       "       [ 498.5402832 ],\n",
       "       [ 496.4954834 ],\n",
       "       [ 490.37744141],\n",
       "       [ 478.27987671],\n",
       "       [ 492.73468018],\n",
       "       [ 499.15002441],\n",
       "       [ 486.99334717],\n",
       "       [ 489.29522705],\n",
       "       [ 515.03637695],\n",
       "       [ 485.19000244],\n",
       "       [ 503.86367798],\n",
       "       [ 510.79550171],\n",
       "       [ 494.32138062],\n",
       "       [ 491.45343018],\n",
       "       [ 509.98883057],\n",
       "       [ 500.77825928],\n",
       "       [ 491.22503662],\n",
       "       [ 511.23074341],\n",
       "       [ 498.13360596],\n",
       "       [ 504.44207764],\n",
       "       [ 504.93359375],\n",
       "       [ 512.81256104],\n",
       "       [ 514.81530762],\n",
       "       [ 494.97595215],\n",
       "       [ 493.08557129],\n",
       "       [ 500.36309814],\n",
       "       [ 485.69610596],\n",
       "       [ 504.54302979],\n",
       "       [ 510.66259766],\n",
       "       [ 495.61486816],\n",
       "       [ 502.74530029],\n",
       "       [ 494.7791748 ],\n",
       "       [ 515.12322998],\n",
       "       [ 511.05578613],\n",
       "       [ 493.38449097],\n",
       "       [ 514.71325684],\n",
       "       [ 521.97802734],\n",
       "       [ 502.0501709 ],\n",
       "       [ 487.06552124],\n",
       "       [ 500.08105469],\n",
       "       [ 487.040802  ],\n",
       "       [ 484.10836792],\n",
       "       [ 494.3939209 ],\n",
       "       [ 504.13366699],\n",
       "       [ 508.56396484],\n",
       "       [ 502.93081665],\n",
       "       [ 511.70541382],\n",
       "       [ 491.76852417],\n",
       "       [ 491.88195801],\n",
       "       [ 506.46914673],\n",
       "       [ 493.30709839],\n",
       "       [ 498.93261719],\n",
       "       [ 485.3605957 ],\n",
       "       [ 504.09799194],\n",
       "       [ 495.47805786],\n",
       "       [ 502.10168457],\n",
       "       [ 508.01489258],\n",
       "       [ 493.81134033],\n",
       "       [ 493.55712891],\n",
       "       [ 509.8175354 ],\n",
       "       [ 498.83224487],\n",
       "       [ 483.53396606],\n",
       "       [ 496.0531311 ],\n",
       "       [ 487.37173462],\n",
       "       [ 492.54785156],\n",
       "       [ 509.06710815],\n",
       "       [ 491.33666992],\n",
       "       [ 496.86999512],\n",
       "       [ 510.86499023],\n",
       "       [ 493.9942627 ],\n",
       "       [ 504.85394287],\n",
       "       [ 502.77713013],\n",
       "       [ 492.75201416],\n",
       "       [ 504.30010986],\n",
       "       [ 500.36483765],\n",
       "       [ 494.91094971],\n",
       "       [ 501.41851807],\n",
       "       [ 501.30895996],\n",
       "       [ 502.54251099],\n",
       "       [ 501.20288086],\n",
       "       [ 518.31347656],\n",
       "       [ 472.71951294],\n",
       "       [ 496.56613159],\n",
       "       [ 501.48193359],\n",
       "       [ 507.57574463],\n",
       "       [ 488.31530762],\n",
       "       [ 484.95071411],\n",
       "       [ 499.17144775],\n",
       "       [ 522.04846191],\n",
       "       [ 497.3717041 ],\n",
       "       [ 500.80111694],\n",
       "       [ 501.07550049],\n",
       "       [ 511.52636719],\n",
       "       [ 497.42590332],\n",
       "       [ 483.12420654],\n",
       "       [ 486.99139404],\n",
       "       [ 497.84335327],\n",
       "       [ 506.68798828],\n",
       "       [ 498.50338745],\n",
       "       [ 497.10836792],\n",
       "       [ 495.22796631],\n",
       "       [ 492.82177734],\n",
       "       [ 486.83837891],\n",
       "       [ 496.61315918],\n",
       "       [ 511.85015869],\n",
       "       [ 508.78274536],\n",
       "       [ 511.81195068],\n",
       "       [ 488.15075684],\n",
       "       [ 507.76818848],\n",
       "       [ 494.53216553],\n",
       "       [ 500.95751953],\n",
       "       [ 489.3180542 ],\n",
       "       [ 505.83602905],\n",
       "       [ 508.81860352],\n",
       "       [ 510.82235718],\n",
       "       [ 493.98739624],\n",
       "       [ 502.59777832],\n",
       "       [ 498.69628906],\n",
       "       [ 505.68301392],\n",
       "       [ 489.67190552],\n",
       "       [ 513.29187012],\n",
       "       [ 485.15527344],\n",
       "       [ 497.41772461],\n",
       "       [ 483.86428833],\n",
       "       [ 479.06988525],\n",
       "       [ 506.12634277],\n",
       "       [ 492.0112915 ],\n",
       "       [ 512.91918945],\n",
       "       [ 498.57208252],\n",
       "       [ 511.18707275],\n",
       "       [ 494.35351562],\n",
       "       [ 498.46685791],\n",
       "       [ 516.69458008],\n",
       "       [ 508.4029541 ],\n",
       "       [ 499.33172607],\n",
       "       [ 509.28259277],\n",
       "       [ 487.81472778],\n",
       "       [ 483.93170166],\n",
       "       [ 481.8046875 ],\n",
       "       [ 494.22982788],\n",
       "       [ 503.69793701],\n",
       "       [ 500.65786743],\n",
       "       [ 500.90374756],\n",
       "       [ 495.68600464],\n",
       "       [ 495.54272461],\n",
       "       [ 497.99871826],\n",
       "       [ 503.79556274],\n",
       "       [ 492.22753906],\n",
       "       [ 491.35198975],\n",
       "       [ 488.9319458 ],\n",
       "       [ 491.84033203],\n",
       "       [ 489.46484375],\n",
       "       [ 493.82168579],\n",
       "       [ 494.28842163],\n",
       "       [ 510.71987915],\n",
       "       [ 491.97125244],\n",
       "       [ 491.30184937],\n",
       "       [ 491.95983887],\n",
       "       [ 509.74047852],\n",
       "       [ 501.86749268],\n",
       "       [ 478.25537109],\n",
       "       [ 499.64227295],\n",
       "       [ 492.70458984],\n",
       "       [ 508.12017822],\n",
       "       [ 513.13879395],\n",
       "       [ 504.03283691],\n",
       "       [ 499.18896484],\n",
       "       [ 495.97094727],\n",
       "       [ 486.95770264],\n",
       "       [ 487.06011963],\n",
       "       [ 492.97857666],\n",
       "       [ 492.6776123 ],\n",
       "       [ 511.2220459 ],\n",
       "       [ 502.3883667 ],\n",
       "       [ 510.39135742],\n",
       "       [ 494.43365479],\n",
       "       [ 494.22341919],\n",
       "       [ 507.11898804],\n",
       "       [ 501.36254883],\n",
       "       [ 489.2286377 ],\n",
       "       [ 503.99990845],\n",
       "       [ 490.34683228],\n",
       "       [ 492.92648315],\n",
       "       [ 493.16741943],\n",
       "       [ 502.51904297],\n",
       "       [ 495.82971191],\n",
       "       [ 506.60125732],\n",
       "       [ 486.77023315],\n",
       "       [ 507.85394287],\n",
       "       [ 500.2477417 ],\n",
       "       [ 501.48028564],\n",
       "       [ 502.74261475],\n",
       "       [ 508.51394653],\n",
       "       [ 499.53045654],\n",
       "       [ 499.89501953],\n",
       "       [ 503.00161743],\n",
       "       [ 485.08605957],\n",
       "       [ 482.49151611],\n",
       "       [ 495.30755615],\n",
       "       [ 488.81567383],\n",
       "       [ 505.08312988],\n",
       "       [ 484.73171997],\n",
       "       [ 505.59298706],\n",
       "       [ 492.76589966],\n",
       "       [ 494.41943359],\n",
       "       [ 503.48175049],\n",
       "       [ 485.03921509],\n",
       "       [ 515.9362793 ],\n",
       "       [ 506.88891602],\n",
       "       [ 513.44494629],\n",
       "       [ 504.14221191],\n",
       "       [ 497.58358765],\n",
       "       [ 499.69927979],\n",
       "       [ 512.92834473],\n",
       "       [ 504.80831909],\n",
       "       [ 488.95025635],\n",
       "       [ 478.48944092],\n",
       "       [ 501.96557617],\n",
       "       [ 497.9359436 ],\n",
       "       [ 493.25909424],\n",
       "       [ 520.37561035],\n",
       "       [ 506.21261597],\n",
       "       [ 488.9185791 ],\n",
       "       [ 503.60446167],\n",
       "       [ 507.96917725],\n",
       "       [ 492.52062988],\n",
       "       [ 488.95870972],\n",
       "       [ 510.24487305],\n",
       "       [ 491.34622192],\n",
       "       [ 496.75408936],\n",
       "       [ 487.03015137],\n",
       "       [ 517.25537109],\n",
       "       [ 486.78717041],\n",
       "       [ 488.81488037],\n",
       "       [ 502.59088135],\n",
       "       [ 492.76635742],\n",
       "       [ 508.69076538],\n",
       "       [ 504.19485474],\n",
       "       [ 520.90356445],\n",
       "       [ 509.98358154],\n",
       "       [ 495.88345337],\n",
       "       [ 486.32559204],\n",
       "       [ 501.92745972],\n",
       "       [ 495.60275269],\n",
       "       [ 520.93688965],\n",
       "       [ 494.64035034],\n",
       "       [ 492.10189819],\n",
       "       [ 497.16455078],\n",
       "       [ 508.65264893],\n",
       "       [ 515.27404785],\n",
       "       [ 491.48043823],\n",
       "       [ 499.453125  ],\n",
       "       [ 492.11532593],\n",
       "       [ 499.73580933],\n",
       "       [ 518.95422363],\n",
       "       [ 493.04840088],\n",
       "       [ 497.82241821],\n",
       "       [ 492.33291626],\n",
       "       [ 516.38616943],\n",
       "       [ 489.53430176],\n",
       "       [ 502.49942017],\n",
       "       [ 498.72824097],\n",
       "       [ 502.39178467],\n",
       "       [ 497.50326538],\n",
       "       [ 499.02960205],\n",
       "       [ 499.95129395],\n",
       "       [ 504.15405273],\n",
       "       [ 497.3394165 ],\n",
       "       [ 482.5703125 ],\n",
       "       [ 486.63357544],\n",
       "       [ 495.93572998],\n",
       "       [ 491.8999939 ],\n",
       "       [ 504.94073486],\n",
       "       [ 492.17950439],\n",
       "       [ 484.64120483],\n",
       "       [ 499.52279663],\n",
       "       [ 485.51464844],\n",
       "       [ 493.03363037],\n",
       "       [ 504.37017822],\n",
       "       [ 505.77890015],\n",
       "       [ 503.0324707 ],\n",
       "       [ 506.46194458],\n",
       "       [ 497.27929688],\n",
       "       [ 526.28790283],\n",
       "       [ 509.01712036],\n",
       "       [ 492.88360596],\n",
       "       [ 482.16567993],\n",
       "       [ 494.08441162],\n",
       "       [ 502.9223938 ],\n",
       "       [ 499.94970703],\n",
       "       [ 492.17974854],\n",
       "       [ 513.70861816],\n",
       "       [ 482.76690674]], dtype=float32)"
      ]
     },
     "execution_count": 23,
     "metadata": {},
     "output_type": "execute_result"
    }
   ],
   "source": [
    "sess.run(tf.matmul(W, x))"
   ]
  },
  {
   "cell_type": "code",
   "execution_count": 23,
   "metadata": {
    "collapsed": true,
    "deletable": true,
    "editable": true
   },
   "outputs": [],
   "source": [
    "graph = tf.get_default_graph()\n",
    "summary_writer = tf.summary.FileWriter(\"/Users/dtsmith/Temp\", graph)\n",
    "summary_writer.flush()"
   ]
  },
  {
   "cell_type": "markdown",
   "metadata": {
    "deletable": true,
    "editable": true
   },
   "source": [
    "http://localhost:6006 for Tensorboard and the computation graph is ![graph3.png](graph3.png)"
   ]
  },
  {
   "cell_type": "code",
   "execution_count": 24,
   "metadata": {
    "collapsed": true,
    "deletable": true,
    "editable": true
   },
   "outputs": [],
   "source": [
    "sess.close()\n",
    "tf.reset_default_graph()"
   ]
  },
  {
   "cell_type": "markdown",
   "metadata": {
    "deletable": true,
    "editable": true
   },
   "source": [
    "## Numpy Style Slicing is Not Supported!\n",
    "\n",
    "Slicing a matrix requires reshaping into a vector and using an index vector.\n",
    "\n",
    "## Let's Look at Linear Regression in TensorFlow\n",
    "\n",
    "For another example, see http://tneal.org/post/tensorflow-iris/TensorFlowIris/."
   ]
  },
  {
   "cell_type": "code",
   "execution_count": 25,
   "metadata": {
    "collapsed": true,
    "deletable": true,
    "editable": true
   },
   "outputs": [],
   "source": [
    "w=tf.Variable(tf.random_uniform([4, 1]))"
   ]
  },
  {
   "cell_type": "code",
   "execution_count": 26,
   "metadata": {
    "collapsed": true,
    "deletable": true,
    "editable": true
   },
   "outputs": [],
   "source": [
    "sess = tf.Session()"
   ]
  },
  {
   "cell_type": "code",
   "execution_count": 27,
   "metadata": {
    "collapsed": false,
    "deletable": true,
    "editable": true,
    "scrolled": true
   },
   "outputs": [
    {
     "ename": "FailedPreconditionError",
     "evalue": "Attempting to use uninitialized value Variable\n\t [[Node: _send_Variable_0 = _Send[T=DT_FLOAT, client_terminated=true, recv_device=\"/job:localhost/replica:0/task:0/cpu:0\", send_device=\"/job:localhost/replica:0/task:0/cpu:0\", send_device_incarnation=-6966595245303910397, tensor_name=\"Variable:0\", _device=\"/job:localhost/replica:0/task:0/cpu:0\"](Variable)]]",
     "output_type": "error",
     "traceback": [
      "\u001b[0;31m---------------------------------------------------------------------------\u001b[0m",
      "\u001b[0;31mFailedPreconditionError\u001b[0m                   Traceback (most recent call last)",
      "\u001b[0;32m//anaconda/envs/tensorflow/lib/python3.6/site-packages/tensorflow/python/client/session.py\u001b[0m in \u001b[0;36m_do_call\u001b[0;34m(self, fn, *args)\u001b[0m\n\u001b[1;32m   1021\u001b[0m     \u001b[0;32mtry\u001b[0m\u001b[0;34m:\u001b[0m\u001b[0;34m\u001b[0m\u001b[0m\n\u001b[0;32m-> 1022\u001b[0;31m       \u001b[0;32mreturn\u001b[0m \u001b[0mfn\u001b[0m\u001b[0;34m(\u001b[0m\u001b[0;34m*\u001b[0m\u001b[0margs\u001b[0m\u001b[0;34m)\u001b[0m\u001b[0;34m\u001b[0m\u001b[0m\n\u001b[0m\u001b[1;32m   1023\u001b[0m     \u001b[0;32mexcept\u001b[0m \u001b[0merrors\u001b[0m\u001b[0;34m.\u001b[0m\u001b[0mOpError\u001b[0m \u001b[0;32mas\u001b[0m \u001b[0me\u001b[0m\u001b[0;34m:\u001b[0m\u001b[0;34m\u001b[0m\u001b[0m\n",
      "\u001b[0;32m//anaconda/envs/tensorflow/lib/python3.6/site-packages/tensorflow/python/client/session.py\u001b[0m in \u001b[0;36m_run_fn\u001b[0;34m(session, feed_dict, fetch_list, target_list, options, run_metadata)\u001b[0m\n\u001b[1;32m   1003\u001b[0m                                  \u001b[0mfeed_dict\u001b[0m\u001b[0;34m,\u001b[0m \u001b[0mfetch_list\u001b[0m\u001b[0;34m,\u001b[0m \u001b[0mtarget_list\u001b[0m\u001b[0;34m,\u001b[0m\u001b[0;34m\u001b[0m\u001b[0m\n\u001b[0;32m-> 1004\u001b[0;31m                                  status, run_metadata)\n\u001b[0m\u001b[1;32m   1005\u001b[0m \u001b[0;34m\u001b[0m\u001b[0m\n",
      "\u001b[0;32m//anaconda/envs/tensorflow/lib/python3.6/contextlib.py\u001b[0m in \u001b[0;36m__exit__\u001b[0;34m(self, type, value, traceback)\u001b[0m\n\u001b[1;32m     88\u001b[0m             \u001b[0;32mtry\u001b[0m\u001b[0;34m:\u001b[0m\u001b[0;34m\u001b[0m\u001b[0m\n\u001b[0;32m---> 89\u001b[0;31m                 \u001b[0mnext\u001b[0m\u001b[0;34m(\u001b[0m\u001b[0mself\u001b[0m\u001b[0;34m.\u001b[0m\u001b[0mgen\u001b[0m\u001b[0;34m)\u001b[0m\u001b[0;34m\u001b[0m\u001b[0m\n\u001b[0m\u001b[1;32m     90\u001b[0m             \u001b[0;32mexcept\u001b[0m \u001b[0mStopIteration\u001b[0m\u001b[0;34m:\u001b[0m\u001b[0;34m\u001b[0m\u001b[0m\n",
      "\u001b[0;32m//anaconda/envs/tensorflow/lib/python3.6/site-packages/tensorflow/python/framework/errors_impl.py\u001b[0m in \u001b[0;36mraise_exception_on_not_ok_status\u001b[0;34m()\u001b[0m\n\u001b[1;32m    468\u001b[0m           \u001b[0mcompat\u001b[0m\u001b[0;34m.\u001b[0m\u001b[0mas_text\u001b[0m\u001b[0;34m(\u001b[0m\u001b[0mpywrap_tensorflow\u001b[0m\u001b[0;34m.\u001b[0m\u001b[0mTF_Message\u001b[0m\u001b[0;34m(\u001b[0m\u001b[0mstatus\u001b[0m\u001b[0;34m)\u001b[0m\u001b[0;34m)\u001b[0m\u001b[0;34m,\u001b[0m\u001b[0;34m\u001b[0m\u001b[0m\n\u001b[0;32m--> 469\u001b[0;31m           pywrap_tensorflow.TF_GetCode(status))\n\u001b[0m\u001b[1;32m    470\u001b[0m   \u001b[0;32mfinally\u001b[0m\u001b[0;34m:\u001b[0m\u001b[0;34m\u001b[0m\u001b[0m\n",
      "\u001b[0;31mFailedPreconditionError\u001b[0m: Attempting to use uninitialized value Variable\n\t [[Node: _send_Variable_0 = _Send[T=DT_FLOAT, client_terminated=true, recv_device=\"/job:localhost/replica:0/task:0/cpu:0\", send_device=\"/job:localhost/replica:0/task:0/cpu:0\", send_device_incarnation=-6966595245303910397, tensor_name=\"Variable:0\", _device=\"/job:localhost/replica:0/task:0/cpu:0\"](Variable)]]",
      "\nDuring handling of the above exception, another exception occurred:\n",
      "\u001b[0;31mFailedPreconditionError\u001b[0m                   Traceback (most recent call last)",
      "\u001b[0;32m<ipython-input-27-e7d66903f6cd>\u001b[0m in \u001b[0;36m<module>\u001b[0;34m()\u001b[0m\n\u001b[0;32m----> 1\u001b[0;31m \u001b[0msess\u001b[0m\u001b[0;34m.\u001b[0m\u001b[0mrun\u001b[0m\u001b[0;34m(\u001b[0m\u001b[0mw\u001b[0m\u001b[0;34m)\u001b[0m\u001b[0;34m\u001b[0m\u001b[0m\n\u001b[0m",
      "\u001b[0;32m//anaconda/envs/tensorflow/lib/python3.6/site-packages/tensorflow/python/client/session.py\u001b[0m in \u001b[0;36mrun\u001b[0;34m(self, fetches, feed_dict, options, run_metadata)\u001b[0m\n\u001b[1;32m    765\u001b[0m     \u001b[0;32mtry\u001b[0m\u001b[0;34m:\u001b[0m\u001b[0;34m\u001b[0m\u001b[0m\n\u001b[1;32m    766\u001b[0m       result = self._run(None, fetches, feed_dict, options_ptr,\n\u001b[0;32m--> 767\u001b[0;31m                          run_metadata_ptr)\n\u001b[0m\u001b[1;32m    768\u001b[0m       \u001b[0;32mif\u001b[0m \u001b[0mrun_metadata\u001b[0m\u001b[0;34m:\u001b[0m\u001b[0;34m\u001b[0m\u001b[0m\n\u001b[1;32m    769\u001b[0m         \u001b[0mproto_data\u001b[0m \u001b[0;34m=\u001b[0m \u001b[0mtf_session\u001b[0m\u001b[0;34m.\u001b[0m\u001b[0mTF_GetBuffer\u001b[0m\u001b[0;34m(\u001b[0m\u001b[0mrun_metadata_ptr\u001b[0m\u001b[0;34m)\u001b[0m\u001b[0;34m\u001b[0m\u001b[0m\n",
      "\u001b[0;32m//anaconda/envs/tensorflow/lib/python3.6/site-packages/tensorflow/python/client/session.py\u001b[0m in \u001b[0;36m_run\u001b[0;34m(self, handle, fetches, feed_dict, options, run_metadata)\u001b[0m\n\u001b[1;32m    963\u001b[0m     \u001b[0;32mif\u001b[0m \u001b[0mfinal_fetches\u001b[0m \u001b[0;32mor\u001b[0m \u001b[0mfinal_targets\u001b[0m\u001b[0;34m:\u001b[0m\u001b[0;34m\u001b[0m\u001b[0m\n\u001b[1;32m    964\u001b[0m       results = self._do_run(handle, final_targets, final_fetches,\n\u001b[0;32m--> 965\u001b[0;31m                              feed_dict_string, options, run_metadata)\n\u001b[0m\u001b[1;32m    966\u001b[0m     \u001b[0;32melse\u001b[0m\u001b[0;34m:\u001b[0m\u001b[0;34m\u001b[0m\u001b[0m\n\u001b[1;32m    967\u001b[0m       \u001b[0mresults\u001b[0m \u001b[0;34m=\u001b[0m \u001b[0;34m[\u001b[0m\u001b[0;34m]\u001b[0m\u001b[0;34m\u001b[0m\u001b[0m\n",
      "\u001b[0;32m//anaconda/envs/tensorflow/lib/python3.6/site-packages/tensorflow/python/client/session.py\u001b[0m in \u001b[0;36m_do_run\u001b[0;34m(self, handle, target_list, fetch_list, feed_dict, options, run_metadata)\u001b[0m\n\u001b[1;32m   1013\u001b[0m     \u001b[0;32mif\u001b[0m \u001b[0mhandle\u001b[0m \u001b[0;32mis\u001b[0m \u001b[0;32mNone\u001b[0m\u001b[0;34m:\u001b[0m\u001b[0;34m\u001b[0m\u001b[0m\n\u001b[1;32m   1014\u001b[0m       return self._do_call(_run_fn, self._session, feed_dict, fetch_list,\n\u001b[0;32m-> 1015\u001b[0;31m                            target_list, options, run_metadata)\n\u001b[0m\u001b[1;32m   1016\u001b[0m     \u001b[0;32melse\u001b[0m\u001b[0;34m:\u001b[0m\u001b[0;34m\u001b[0m\u001b[0m\n\u001b[1;32m   1017\u001b[0m       return self._do_call(_prun_fn, self._session, handle, feed_dict,\n",
      "\u001b[0;32m//anaconda/envs/tensorflow/lib/python3.6/site-packages/tensorflow/python/client/session.py\u001b[0m in \u001b[0;36m_do_call\u001b[0;34m(self, fn, *args)\u001b[0m\n\u001b[1;32m   1033\u001b[0m         \u001b[0;32mexcept\u001b[0m \u001b[0mKeyError\u001b[0m\u001b[0;34m:\u001b[0m\u001b[0;34m\u001b[0m\u001b[0m\n\u001b[1;32m   1034\u001b[0m           \u001b[0;32mpass\u001b[0m\u001b[0;34m\u001b[0m\u001b[0m\n\u001b[0;32m-> 1035\u001b[0;31m       \u001b[0;32mraise\u001b[0m \u001b[0mtype\u001b[0m\u001b[0;34m(\u001b[0m\u001b[0me\u001b[0m\u001b[0;34m)\u001b[0m\u001b[0;34m(\u001b[0m\u001b[0mnode_def\u001b[0m\u001b[0;34m,\u001b[0m \u001b[0mop\u001b[0m\u001b[0;34m,\u001b[0m \u001b[0mmessage\u001b[0m\u001b[0;34m)\u001b[0m\u001b[0;34m\u001b[0m\u001b[0m\n\u001b[0m\u001b[1;32m   1036\u001b[0m \u001b[0;34m\u001b[0m\u001b[0m\n\u001b[1;32m   1037\u001b[0m   \u001b[0;32mdef\u001b[0m \u001b[0m_extend_graph\u001b[0m\u001b[0;34m(\u001b[0m\u001b[0mself\u001b[0m\u001b[0;34m)\u001b[0m\u001b[0;34m:\u001b[0m\u001b[0;34m\u001b[0m\u001b[0m\n",
      "\u001b[0;31mFailedPreconditionError\u001b[0m: Attempting to use uninitialized value Variable\n\t [[Node: _send_Variable_0 = _Send[T=DT_FLOAT, client_terminated=true, recv_device=\"/job:localhost/replica:0/task:0/cpu:0\", send_device=\"/job:localhost/replica:0/task:0/cpu:0\", send_device_incarnation=-6966595245303910397, tensor_name=\"Variable:0\", _device=\"/job:localhost/replica:0/task:0/cpu:0\"](Variable)]]"
     ]
    }
   ],
   "source": [
    "sess.run(w)"
   ]
  },
  {
   "cell_type": "code",
   "execution_count": 28,
   "metadata": {
    "collapsed": true,
    "deletable": true,
    "editable": true
   },
   "outputs": [],
   "source": [
    "sess.run(tf.global_variables_initializer())"
   ]
  },
  {
   "cell_type": "code",
   "execution_count": 29,
   "metadata": {
    "collapsed": false,
    "deletable": true,
    "editable": true
   },
   "outputs": [
    {
     "data": {
      "text/plain": [
       "array([[ 0.33409262],\n",
       "       [ 0.46041727],\n",
       "       [ 0.10946929],\n",
       "       [ 0.79474235]], dtype=float32)"
      ]
     },
     "execution_count": 29,
     "metadata": {},
     "output_type": "execute_result"
    }
   ],
   "source": [
    "sess.run(w)"
   ]
  },
  {
   "cell_type": "code",
   "execution_count": 30,
   "metadata": {
    "collapsed": true,
    "deletable": true,
    "editable": true
   },
   "outputs": [],
   "source": [
    "def f(X):\n",
    "\treturn tf.matmul(X, w)"
   ]
  },
  {
   "cell_type": "code",
   "execution_count": 31,
   "metadata": {
    "collapsed": true,
    "deletable": true,
    "editable": true
   },
   "outputs": [],
   "source": [
    "def objective(X, Y):\n",
    "\treturn tf.reduce_sum(tf.square(tf.subtract(Y,f(X))))"
   ]
  },
  {
   "cell_type": "markdown",
   "metadata": {
    "deletable": true,
    "editable": true
   },
   "source": [
    "Let's generate some synthetic data, and see how we can get a numpy array into TensorFlow."
   ]
  },
  {
   "cell_type": "code",
   "execution_count": 32,
   "metadata": {
    "collapsed": false,
    "deletable": true,
    "editable": true
   },
   "outputs": [
    {
     "data": {
      "text/plain": [
       "array([[ 1.,  2.,  3.,  4.]], dtype=float32)"
      ]
     },
     "execution_count": 32,
     "metadata": {},
     "output_type": "execute_result"
    }
   ],
   "source": [
    "a = np.array([[1, 2, 3, 4]], dtype=np.float32)\n",
    "a"
   ]
  },
  {
   "cell_type": "code",
   "execution_count": 33,
   "metadata": {
    "collapsed": false,
    "deletable": true,
    "editable": true
   },
   "outputs": [
    {
     "data": {
      "text/plain": [
       "array([[ 0.88188774,  0.67464137,  0.48440156,  0.37848818],\n",
       "       [ 0.76772672,  0.84867809,  0.61436298,  0.55006959],\n",
       "       [ 0.53387272,  0.51001335,  0.41807708,  0.32036248],\n",
       "       ..., \n",
       "       [ 0.23904654,  0.71770961,  0.8896081 ,  0.9268231 ],\n",
       "       [ 0.94013785,  0.50352542,  0.02433777,  0.49397177],\n",
       "       [ 0.38520675,  0.50389889,  0.25341349,  0.68202109]])"
      ]
     },
     "execution_count": 33,
     "metadata": {},
     "output_type": "execute_result"
    }
   ],
   "source": [
    "XX = np.random.rand(10000, 4)\n",
    "XX"
   ]
  },
  {
   "cell_type": "code",
   "execution_count": 34,
   "metadata": {
    "collapsed": false,
    "deletable": true,
    "editable": true
   },
   "outputs": [
    {
     "data": {
      "text/plain": [
       "array([[ 5.19832786],\n",
       "       [ 6.50845019],\n",
       "       [ 4.08958055],\n",
       "       ..., \n",
       "       [ 8.05058245],\n",
       "       [ 3.99608907],\n",
       "       [ 4.88132933]])"
      ]
     },
     "execution_count": 34,
     "metadata": {},
     "output_type": "execute_result"
    }
   ],
   "source": [
    "YY = np.dot(XX, a.transpose())\n",
    "YY"
   ]
  },
  {
   "cell_type": "code",
   "execution_count": 35,
   "metadata": {
    "collapsed": true,
    "deletable": true,
    "editable": true
   },
   "outputs": [],
   "source": [
    "X = tf.placeholder(tf.float32, [None, 4])\n",
    "Y = tf.placeholder(tf.float32, [None, 1])"
   ]
  },
  {
   "cell_type": "markdown",
   "metadata": {
    "deletable": true,
    "editable": true
   },
   "source": [
    "**Automatic differentiation** at work here - no more calculus by hand."
   ]
  },
  {
   "cell_type": "code",
   "execution_count": 36,
   "metadata": {
    "collapsed": false,
    "deletable": true,
    "editable": true
   },
   "outputs": [],
   "source": [
    "grad = tf.gradients(objective(X,Y), [w])"
   ]
  },
  {
   "cell_type": "markdown",
   "metadata": {
    "deletable": true,
    "editable": true
   },
   "source": [
    "Let's set up the optimization problem. We want to adjust the weights ```w``` in order to mimimize the sum of squared differences.\n",
    "\n",
    "```python\n",
    "def objective(X, Y):\n",
    "    return tf.reduce_sum(tf.square(tf.subtract(Y,f(X))))\n",
    "```"
   ]
  },
  {
   "cell_type": "code",
   "execution_count": 37,
   "metadata": {
    "collapsed": true,
    "deletable": true,
    "editable": true
   },
   "outputs": [],
   "source": [
    "step = tf.constant(1e-5)"
   ]
  },
  {
   "cell_type": "code",
   "execution_count": 38,
   "metadata": {
    "collapsed": false,
    "deletable": true,
    "editable": true
   },
   "outputs": [],
   "source": [
    "sess.run(tf.global_variables_initializer())"
   ]
  },
  {
   "cell_type": "code",
   "execution_count": 39,
   "metadata": {
    "collapsed": false,
    "deletable": true,
    "editable": true
   },
   "outputs": [],
   "source": [
    "for i in range(200):\n",
    "\tsess.run(tf.assign_add(w, tf.multiply(-step, grad[0])), feed_dict={X:XX, Y:YY})"
   ]
  },
  {
   "cell_type": "code",
   "execution_count": 40,
   "metadata": {
    "collapsed": false,
    "deletable": true,
    "editable": true
   },
   "outputs": [
    {
     "data": {
      "text/plain": [
       "array([[ 1.06247234],\n",
       "       [ 2.00820899],\n",
       "       [ 2.99523067],\n",
       "       [ 3.93403554]], dtype=float32)"
      ]
     },
     "execution_count": 40,
     "metadata": {},
     "output_type": "execute_result"
    }
   ],
   "source": [
    "sess.run(w)"
   ]
  },
  {
   "cell_type": "markdown",
   "metadata": {
    "deletable": true,
    "editable": true
   },
   "source": [
    "What is ```w```? Remember, we're trying to find the weights that fit\n",
    "\n",
    "```python\n",
    "def f(X):\n",
    "\treturn tf.matmul(X, w)\n",
    "```\n",
    "\n",
    "to ```Y```."
   ]
  },
  {
   "cell_type": "code",
   "execution_count": 41,
   "metadata": {
    "collapsed": false,
    "deletable": true,
    "editable": true
   },
   "outputs": [
    {
     "ename": "InvalidArgumentError",
     "evalue": "You must feed a value for placeholder tensor 'Placeholder' with dtype float\n\t [[Node: Placeholder = Placeholder[dtype=DT_FLOAT, shape=[], _device=\"/job:localhost/replica:0/task:0/cpu:0\"]()]]\n\nCaused by op 'Placeholder', defined at:\n  File \"//anaconda/envs/tensorflow/lib/python3.6/runpy.py\", line 193, in _run_module_as_main\n    \"__main__\", mod_spec)\n  File \"//anaconda/envs/tensorflow/lib/python3.6/runpy.py\", line 85, in _run_code\n    exec(code, run_globals)\n  File \"//anaconda/envs/tensorflow/lib/python3.6/site-packages/ipykernel/__main__.py\", line 3, in <module>\n    app.launch_new_instance()\n  File \"//anaconda/envs/tensorflow/lib/python3.6/site-packages/traitlets/config/application.py\", line 658, in launch_instance\n    app.start()\n  File \"//anaconda/envs/tensorflow/lib/python3.6/site-packages/ipykernel/kernelapp.py\", line 474, in start\n    ioloop.IOLoop.instance().start()\n  File \"//anaconda/envs/tensorflow/lib/python3.6/site-packages/zmq/eventloop/ioloop.py\", line 177, in start\n    super(ZMQIOLoop, self).start()\n  File \"//anaconda/envs/tensorflow/lib/python3.6/site-packages/tornado/ioloop.py\", line 887, in start\n    handler_func(fd_obj, events)\n  File \"//anaconda/envs/tensorflow/lib/python3.6/site-packages/tornado/stack_context.py\", line 275, in null_wrapper\n    return fn(*args, **kwargs)\n  File \"//anaconda/envs/tensorflow/lib/python3.6/site-packages/zmq/eventloop/zmqstream.py\", line 440, in _handle_events\n    self._handle_recv()\n  File \"//anaconda/envs/tensorflow/lib/python3.6/site-packages/zmq/eventloop/zmqstream.py\", line 472, in _handle_recv\n    self._run_callback(callback, msg)\n  File \"//anaconda/envs/tensorflow/lib/python3.6/site-packages/zmq/eventloop/zmqstream.py\", line 414, in _run_callback\n    callback(*args, **kwargs)\n  File \"//anaconda/envs/tensorflow/lib/python3.6/site-packages/tornado/stack_context.py\", line 275, in null_wrapper\n    return fn(*args, **kwargs)\n  File \"//anaconda/envs/tensorflow/lib/python3.6/site-packages/ipykernel/kernelbase.py\", line 276, in dispatcher\n    return self.dispatch_shell(stream, msg)\n  File \"//anaconda/envs/tensorflow/lib/python3.6/site-packages/ipykernel/kernelbase.py\", line 228, in dispatch_shell\n    handler(stream, idents, msg)\n  File \"//anaconda/envs/tensorflow/lib/python3.6/site-packages/ipykernel/kernelbase.py\", line 390, in execute_request\n    user_expressions, allow_stdin)\n  File \"//anaconda/envs/tensorflow/lib/python3.6/site-packages/ipykernel/ipkernel.py\", line 196, in do_execute\n    res = shell.run_cell(code, store_history=store_history, silent=silent)\n  File \"//anaconda/envs/tensorflow/lib/python3.6/site-packages/ipykernel/zmqshell.py\", line 501, in run_cell\n    return super(ZMQInteractiveShell, self).run_cell(*args, **kwargs)\n  File \"//anaconda/envs/tensorflow/lib/python3.6/site-packages/IPython/core/interactiveshell.py\", line 2717, in run_cell\n    interactivity=interactivity, compiler=compiler, result=result)\n  File \"//anaconda/envs/tensorflow/lib/python3.6/site-packages/IPython/core/interactiveshell.py\", line 2821, in run_ast_nodes\n    if self.run_code(code, result):\n  File \"//anaconda/envs/tensorflow/lib/python3.6/site-packages/IPython/core/interactiveshell.py\", line 2881, in run_code\n    exec(code_obj, self.user_global_ns, self.user_ns)\n  File \"<ipython-input-35-bfdb0d5263c1>\", line 1, in <module>\n    X = tf.placeholder(tf.float32, [None, 4])\n  File \"//anaconda/envs/tensorflow/lib/python3.6/site-packages/tensorflow/python/ops/array_ops.py\", line 1520, in placeholder\n    name=name)\n  File \"//anaconda/envs/tensorflow/lib/python3.6/site-packages/tensorflow/python/ops/gen_array_ops.py\", line 2149, in _placeholder\n    name=name)\n  File \"//anaconda/envs/tensorflow/lib/python3.6/site-packages/tensorflow/python/framework/op_def_library.py\", line 763, in apply_op\n    op_def=op_def)\n  File \"//anaconda/envs/tensorflow/lib/python3.6/site-packages/tensorflow/python/framework/ops.py\", line 2395, in create_op\n    original_op=self._default_original_op, op_def=op_def)\n  File \"//anaconda/envs/tensorflow/lib/python3.6/site-packages/tensorflow/python/framework/ops.py\", line 1264, in __init__\n    self._traceback = _extract_stack()\n\nInvalidArgumentError (see above for traceback): You must feed a value for placeholder tensor 'Placeholder' with dtype float\n\t [[Node: Placeholder = Placeholder[dtype=DT_FLOAT, shape=[], _device=\"/job:localhost/replica:0/task:0/cpu:0\"]()]]\n",
     "output_type": "error",
     "traceback": [
      "\u001b[0;31m---------------------------------------------------------------------------\u001b[0m",
      "\u001b[0;31mInvalidArgumentError\u001b[0m                      Traceback (most recent call last)",
      "\u001b[0;32m//anaconda/envs/tensorflow/lib/python3.6/site-packages/tensorflow/python/client/session.py\u001b[0m in \u001b[0;36m_do_call\u001b[0;34m(self, fn, *args)\u001b[0m\n\u001b[1;32m   1021\u001b[0m     \u001b[0;32mtry\u001b[0m\u001b[0;34m:\u001b[0m\u001b[0;34m\u001b[0m\u001b[0m\n\u001b[0;32m-> 1022\u001b[0;31m       \u001b[0;32mreturn\u001b[0m \u001b[0mfn\u001b[0m\u001b[0;34m(\u001b[0m\u001b[0;34m*\u001b[0m\u001b[0margs\u001b[0m\u001b[0;34m)\u001b[0m\u001b[0;34m\u001b[0m\u001b[0m\n\u001b[0m\u001b[1;32m   1023\u001b[0m     \u001b[0;32mexcept\u001b[0m \u001b[0merrors\u001b[0m\u001b[0;34m.\u001b[0m\u001b[0mOpError\u001b[0m \u001b[0;32mas\u001b[0m \u001b[0me\u001b[0m\u001b[0;34m:\u001b[0m\u001b[0;34m\u001b[0m\u001b[0m\n",
      "\u001b[0;32m//anaconda/envs/tensorflow/lib/python3.6/site-packages/tensorflow/python/client/session.py\u001b[0m in \u001b[0;36m_run_fn\u001b[0;34m(session, feed_dict, fetch_list, target_list, options, run_metadata)\u001b[0m\n\u001b[1;32m   1003\u001b[0m                                  \u001b[0mfeed_dict\u001b[0m\u001b[0;34m,\u001b[0m \u001b[0mfetch_list\u001b[0m\u001b[0;34m,\u001b[0m \u001b[0mtarget_list\u001b[0m\u001b[0;34m,\u001b[0m\u001b[0;34m\u001b[0m\u001b[0m\n\u001b[0;32m-> 1004\u001b[0;31m                                  status, run_metadata)\n\u001b[0m\u001b[1;32m   1005\u001b[0m \u001b[0;34m\u001b[0m\u001b[0m\n",
      "\u001b[0;32m//anaconda/envs/tensorflow/lib/python3.6/contextlib.py\u001b[0m in \u001b[0;36m__exit__\u001b[0;34m(self, type, value, traceback)\u001b[0m\n\u001b[1;32m     88\u001b[0m             \u001b[0;32mtry\u001b[0m\u001b[0;34m:\u001b[0m\u001b[0;34m\u001b[0m\u001b[0m\n\u001b[0;32m---> 89\u001b[0;31m                 \u001b[0mnext\u001b[0m\u001b[0;34m(\u001b[0m\u001b[0mself\u001b[0m\u001b[0;34m.\u001b[0m\u001b[0mgen\u001b[0m\u001b[0;34m)\u001b[0m\u001b[0;34m\u001b[0m\u001b[0m\n\u001b[0m\u001b[1;32m     90\u001b[0m             \u001b[0;32mexcept\u001b[0m \u001b[0mStopIteration\u001b[0m\u001b[0;34m:\u001b[0m\u001b[0;34m\u001b[0m\u001b[0m\n",
      "\u001b[0;32m//anaconda/envs/tensorflow/lib/python3.6/site-packages/tensorflow/python/framework/errors_impl.py\u001b[0m in \u001b[0;36mraise_exception_on_not_ok_status\u001b[0;34m()\u001b[0m\n\u001b[1;32m    468\u001b[0m           \u001b[0mcompat\u001b[0m\u001b[0;34m.\u001b[0m\u001b[0mas_text\u001b[0m\u001b[0;34m(\u001b[0m\u001b[0mpywrap_tensorflow\u001b[0m\u001b[0;34m.\u001b[0m\u001b[0mTF_Message\u001b[0m\u001b[0;34m(\u001b[0m\u001b[0mstatus\u001b[0m\u001b[0;34m)\u001b[0m\u001b[0;34m)\u001b[0m\u001b[0;34m,\u001b[0m\u001b[0;34m\u001b[0m\u001b[0m\n\u001b[0;32m--> 469\u001b[0;31m           pywrap_tensorflow.TF_GetCode(status))\n\u001b[0m\u001b[1;32m    470\u001b[0m   \u001b[0;32mfinally\u001b[0m\u001b[0;34m:\u001b[0m\u001b[0;34m\u001b[0m\u001b[0m\n",
      "\u001b[0;31mInvalidArgumentError\u001b[0m: You must feed a value for placeholder tensor 'Placeholder' with dtype float\n\t [[Node: Placeholder = Placeholder[dtype=DT_FLOAT, shape=[], _device=\"/job:localhost/replica:0/task:0/cpu:0\"]()]]",
      "\nDuring handling of the above exception, another exception occurred:\n",
      "\u001b[0;31mInvalidArgumentError\u001b[0m                      Traceback (most recent call last)",
      "\u001b[0;32m<ipython-input-41-3ccd8f6bf29a>\u001b[0m in \u001b[0;36m<module>\u001b[0;34m()\u001b[0m\n\u001b[0;32m----> 1\u001b[0;31m \u001b[0msess\u001b[0m\u001b[0;34m.\u001b[0m\u001b[0mrun\u001b[0m\u001b[0;34m(\u001b[0m\u001b[0mobjective\u001b[0m\u001b[0;34m(\u001b[0m\u001b[0mX\u001b[0m\u001b[0;34m,\u001b[0m \u001b[0mY\u001b[0m\u001b[0;34m)\u001b[0m\u001b[0;34m)\u001b[0m\u001b[0;34m\u001b[0m\u001b[0m\n\u001b[0m",
      "\u001b[0;32m//anaconda/envs/tensorflow/lib/python3.6/site-packages/tensorflow/python/client/session.py\u001b[0m in \u001b[0;36mrun\u001b[0;34m(self, fetches, feed_dict, options, run_metadata)\u001b[0m\n\u001b[1;32m    765\u001b[0m     \u001b[0;32mtry\u001b[0m\u001b[0;34m:\u001b[0m\u001b[0;34m\u001b[0m\u001b[0m\n\u001b[1;32m    766\u001b[0m       result = self._run(None, fetches, feed_dict, options_ptr,\n\u001b[0;32m--> 767\u001b[0;31m                          run_metadata_ptr)\n\u001b[0m\u001b[1;32m    768\u001b[0m       \u001b[0;32mif\u001b[0m \u001b[0mrun_metadata\u001b[0m\u001b[0;34m:\u001b[0m\u001b[0;34m\u001b[0m\u001b[0m\n\u001b[1;32m    769\u001b[0m         \u001b[0mproto_data\u001b[0m \u001b[0;34m=\u001b[0m \u001b[0mtf_session\u001b[0m\u001b[0;34m.\u001b[0m\u001b[0mTF_GetBuffer\u001b[0m\u001b[0;34m(\u001b[0m\u001b[0mrun_metadata_ptr\u001b[0m\u001b[0;34m)\u001b[0m\u001b[0;34m\u001b[0m\u001b[0m\n",
      "\u001b[0;32m//anaconda/envs/tensorflow/lib/python3.6/site-packages/tensorflow/python/client/session.py\u001b[0m in \u001b[0;36m_run\u001b[0;34m(self, handle, fetches, feed_dict, options, run_metadata)\u001b[0m\n\u001b[1;32m    963\u001b[0m     \u001b[0;32mif\u001b[0m \u001b[0mfinal_fetches\u001b[0m \u001b[0;32mor\u001b[0m \u001b[0mfinal_targets\u001b[0m\u001b[0;34m:\u001b[0m\u001b[0;34m\u001b[0m\u001b[0m\n\u001b[1;32m    964\u001b[0m       results = self._do_run(handle, final_targets, final_fetches,\n\u001b[0;32m--> 965\u001b[0;31m                              feed_dict_string, options, run_metadata)\n\u001b[0m\u001b[1;32m    966\u001b[0m     \u001b[0;32melse\u001b[0m\u001b[0;34m:\u001b[0m\u001b[0;34m\u001b[0m\u001b[0m\n\u001b[1;32m    967\u001b[0m       \u001b[0mresults\u001b[0m \u001b[0;34m=\u001b[0m \u001b[0;34m[\u001b[0m\u001b[0;34m]\u001b[0m\u001b[0;34m\u001b[0m\u001b[0m\n",
      "\u001b[0;32m//anaconda/envs/tensorflow/lib/python3.6/site-packages/tensorflow/python/client/session.py\u001b[0m in \u001b[0;36m_do_run\u001b[0;34m(self, handle, target_list, fetch_list, feed_dict, options, run_metadata)\u001b[0m\n\u001b[1;32m   1013\u001b[0m     \u001b[0;32mif\u001b[0m \u001b[0mhandle\u001b[0m \u001b[0;32mis\u001b[0m \u001b[0;32mNone\u001b[0m\u001b[0;34m:\u001b[0m\u001b[0;34m\u001b[0m\u001b[0m\n\u001b[1;32m   1014\u001b[0m       return self._do_call(_run_fn, self._session, feed_dict, fetch_list,\n\u001b[0;32m-> 1015\u001b[0;31m                            target_list, options, run_metadata)\n\u001b[0m\u001b[1;32m   1016\u001b[0m     \u001b[0;32melse\u001b[0m\u001b[0;34m:\u001b[0m\u001b[0;34m\u001b[0m\u001b[0m\n\u001b[1;32m   1017\u001b[0m       return self._do_call(_prun_fn, self._session, handle, feed_dict,\n",
      "\u001b[0;32m//anaconda/envs/tensorflow/lib/python3.6/site-packages/tensorflow/python/client/session.py\u001b[0m in \u001b[0;36m_do_call\u001b[0;34m(self, fn, *args)\u001b[0m\n\u001b[1;32m   1033\u001b[0m         \u001b[0;32mexcept\u001b[0m \u001b[0mKeyError\u001b[0m\u001b[0;34m:\u001b[0m\u001b[0;34m\u001b[0m\u001b[0m\n\u001b[1;32m   1034\u001b[0m           \u001b[0;32mpass\u001b[0m\u001b[0;34m\u001b[0m\u001b[0m\n\u001b[0;32m-> 1035\u001b[0;31m       \u001b[0;32mraise\u001b[0m \u001b[0mtype\u001b[0m\u001b[0;34m(\u001b[0m\u001b[0me\u001b[0m\u001b[0;34m)\u001b[0m\u001b[0;34m(\u001b[0m\u001b[0mnode_def\u001b[0m\u001b[0;34m,\u001b[0m \u001b[0mop\u001b[0m\u001b[0;34m,\u001b[0m \u001b[0mmessage\u001b[0m\u001b[0;34m)\u001b[0m\u001b[0;34m\u001b[0m\u001b[0m\n\u001b[0m\u001b[1;32m   1036\u001b[0m \u001b[0;34m\u001b[0m\u001b[0m\n\u001b[1;32m   1037\u001b[0m   \u001b[0;32mdef\u001b[0m \u001b[0m_extend_graph\u001b[0m\u001b[0;34m(\u001b[0m\u001b[0mself\u001b[0m\u001b[0;34m)\u001b[0m\u001b[0;34m:\u001b[0m\u001b[0;34m\u001b[0m\u001b[0m\n",
      "\u001b[0;31mInvalidArgumentError\u001b[0m: You must feed a value for placeholder tensor 'Placeholder' with dtype float\n\t [[Node: Placeholder = Placeholder[dtype=DT_FLOAT, shape=[], _device=\"/job:localhost/replica:0/task:0/cpu:0\"]()]]\n\nCaused by op 'Placeholder', defined at:\n  File \"//anaconda/envs/tensorflow/lib/python3.6/runpy.py\", line 193, in _run_module_as_main\n    \"__main__\", mod_spec)\n  File \"//anaconda/envs/tensorflow/lib/python3.6/runpy.py\", line 85, in _run_code\n    exec(code, run_globals)\n  File \"//anaconda/envs/tensorflow/lib/python3.6/site-packages/ipykernel/__main__.py\", line 3, in <module>\n    app.launch_new_instance()\n  File \"//anaconda/envs/tensorflow/lib/python3.6/site-packages/traitlets/config/application.py\", line 658, in launch_instance\n    app.start()\n  File \"//anaconda/envs/tensorflow/lib/python3.6/site-packages/ipykernel/kernelapp.py\", line 474, in start\n    ioloop.IOLoop.instance().start()\n  File \"//anaconda/envs/tensorflow/lib/python3.6/site-packages/zmq/eventloop/ioloop.py\", line 177, in start\n    super(ZMQIOLoop, self).start()\n  File \"//anaconda/envs/tensorflow/lib/python3.6/site-packages/tornado/ioloop.py\", line 887, in start\n    handler_func(fd_obj, events)\n  File \"//anaconda/envs/tensorflow/lib/python3.6/site-packages/tornado/stack_context.py\", line 275, in null_wrapper\n    return fn(*args, **kwargs)\n  File \"//anaconda/envs/tensorflow/lib/python3.6/site-packages/zmq/eventloop/zmqstream.py\", line 440, in _handle_events\n    self._handle_recv()\n  File \"//anaconda/envs/tensorflow/lib/python3.6/site-packages/zmq/eventloop/zmqstream.py\", line 472, in _handle_recv\n    self._run_callback(callback, msg)\n  File \"//anaconda/envs/tensorflow/lib/python3.6/site-packages/zmq/eventloop/zmqstream.py\", line 414, in _run_callback\n    callback(*args, **kwargs)\n  File \"//anaconda/envs/tensorflow/lib/python3.6/site-packages/tornado/stack_context.py\", line 275, in null_wrapper\n    return fn(*args, **kwargs)\n  File \"//anaconda/envs/tensorflow/lib/python3.6/site-packages/ipykernel/kernelbase.py\", line 276, in dispatcher\n    return self.dispatch_shell(stream, msg)\n  File \"//anaconda/envs/tensorflow/lib/python3.6/site-packages/ipykernel/kernelbase.py\", line 228, in dispatch_shell\n    handler(stream, idents, msg)\n  File \"//anaconda/envs/tensorflow/lib/python3.6/site-packages/ipykernel/kernelbase.py\", line 390, in execute_request\n    user_expressions, allow_stdin)\n  File \"//anaconda/envs/tensorflow/lib/python3.6/site-packages/ipykernel/ipkernel.py\", line 196, in do_execute\n    res = shell.run_cell(code, store_history=store_history, silent=silent)\n  File \"//anaconda/envs/tensorflow/lib/python3.6/site-packages/ipykernel/zmqshell.py\", line 501, in run_cell\n    return super(ZMQInteractiveShell, self).run_cell(*args, **kwargs)\n  File \"//anaconda/envs/tensorflow/lib/python3.6/site-packages/IPython/core/interactiveshell.py\", line 2717, in run_cell\n    interactivity=interactivity, compiler=compiler, result=result)\n  File \"//anaconda/envs/tensorflow/lib/python3.6/site-packages/IPython/core/interactiveshell.py\", line 2821, in run_ast_nodes\n    if self.run_code(code, result):\n  File \"//anaconda/envs/tensorflow/lib/python3.6/site-packages/IPython/core/interactiveshell.py\", line 2881, in run_code\n    exec(code_obj, self.user_global_ns, self.user_ns)\n  File \"<ipython-input-35-bfdb0d5263c1>\", line 1, in <module>\n    X = tf.placeholder(tf.float32, [None, 4])\n  File \"//anaconda/envs/tensorflow/lib/python3.6/site-packages/tensorflow/python/ops/array_ops.py\", line 1520, in placeholder\n    name=name)\n  File \"//anaconda/envs/tensorflow/lib/python3.6/site-packages/tensorflow/python/ops/gen_array_ops.py\", line 2149, in _placeholder\n    name=name)\n  File \"//anaconda/envs/tensorflow/lib/python3.6/site-packages/tensorflow/python/framework/op_def_library.py\", line 763, in apply_op\n    op_def=op_def)\n  File \"//anaconda/envs/tensorflow/lib/python3.6/site-packages/tensorflow/python/framework/ops.py\", line 2395, in create_op\n    original_op=self._default_original_op, op_def=op_def)\n  File \"//anaconda/envs/tensorflow/lib/python3.6/site-packages/tensorflow/python/framework/ops.py\", line 1264, in __init__\n    self._traceback = _extract_stack()\n\nInvalidArgumentError (see above for traceback): You must feed a value for placeholder tensor 'Placeholder' with dtype float\n\t [[Node: Placeholder = Placeholder[dtype=DT_FLOAT, shape=[], _device=\"/job:localhost/replica:0/task:0/cpu:0\"]()]]\n"
     ]
    }
   ],
   "source": [
    "sess.run(objective(X, Y))"
   ]
  },
  {
   "cell_type": "markdown",
   "metadata": {
    "deletable": true,
    "editable": true
   },
   "source": [
    "How do we fix this? Remember, ```X``` and ```Y``` are *placeholders*, and we need to tell TensorFlow what they should be using ```feed_dict```. See http://stackoverflow.com/questions/33810990/how-to-feed-a-placeholder."
   ]
  },
  {
   "cell_type": "code",
   "execution_count": 42,
   "metadata": {
    "collapsed": false,
    "deletable": true,
    "editable": true
   },
   "outputs": [
    {
     "data": {
      "text/plain": [
       "6.9916677"
      ]
     },
     "execution_count": 42,
     "metadata": {},
     "output_type": "execute_result"
    }
   ],
   "source": [
    "sess.run(objective(X, Y), feed_dict={X:XX, Y:YY})"
   ]
  },
  {
   "cell_type": "markdown",
   "metadata": {
    "deletable": true,
    "editable": true
   },
   "source": [
    "# Finis\n",
    "\n",
    "We're finished with this tutorial.\n",
    "\n",
    "You can practice by using TensorFlow to [fit a linear regression model to housing prices](http://www.learndatasci.com/predicting-housing-prices-linear-regression-using-python-pandas-statsmodels/).\n",
    "\n",
    "And to facilitate your TensorFlow work on GPU, you can [run notebooks on AWS](https://blog.keras.io/running-jupyter-notebooks-on-gpu-on-aws-a-starter-guide.html).\n",
    "\n",
    "[Set up an instance with TensorFlow and Jupyter notebooks](https://medium.com/@vamsiramakrishnan/setup-a-cloud-based-machine-learning-system-from-scratch-aws-ec2-g-2x2-9216449d558d)."
   ]
  }
 ],
 "metadata": {
  "kernelspec": {
   "display_name": "Python 3",
   "language": "python",
   "name": "python3"
  },
  "language_info": {
   "codemirror_mode": {
    "name": "ipython",
    "version": 3
   },
   "file_extension": ".py",
   "mimetype": "text/x-python",
   "name": "python",
   "nbconvert_exporter": "python",
   "pygments_lexer": "ipython3",
   "version": "3.6.0"
  }
 },
 "nbformat": 4,
 "nbformat_minor": 2
}
