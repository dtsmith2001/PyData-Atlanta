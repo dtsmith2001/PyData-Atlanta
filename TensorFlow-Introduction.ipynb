{
 "cells": [
  {
   "cell_type": "markdown",
   "metadata": {
    "deletable": true,
    "editable": true
   },
   "source": [
    "# TensorFlow Introduction\n",
    "\n",
    "Dale Smith, Ph.D. Math, Georgia Tech.\n",
    "\n",
    "Data Scientist with FraudScope.\n",
    "\n",
    "https://github.com/dtsmith2001\n",
    "\n",
    "## Preliminaries\n",
    "\n",
    "I am using Anaconda 4.3.1. I ran\n",
    "\n",
    "    conda update --yes conda\n",
    "    conda update --all --yes\n",
    "\n",
    "TensorFlow can be installed via conda-forge but it's version 0.12. Use\n",
    "\n",
    "    pip install tensorflow\n",
    "\n",
    "For GPU use, follow the [instructions](https://www.tensorflow.org/install/), or use an AWS instance that is already configured. You can also build your own instance; see [http://expressionflow.com/2016/10/09/installing-tensorflow-on-an-aws-ec2-p2-gpu-instance/](http://expressionflow.com/2016/10/09/installing-tensorflow-on-an-aws-ec2-p2-gpu-instance/) but note this uses an older version of TensorFlow.\n",
    "\n",
    "I also installed [jupyter-themer](https://github.com/transcranial/jupyter-themer), which is why my Pandas tables have every other row grey.\n",
    "\n",
    "## TensorFlow\n",
    "\n",
    "TensorFlow was created internally at Google to serve as their AI platform for deep learning, but it does more than deep learning or neural networks. We will use it to train a linear regression model.\n",
    "\n",
    "[Keras](https://keras.io) was recently adopted by Google as their neural network front-end. I highly recommend using Keras instead of TensorFlow to build a neural network.\n",
    "\n",
    "Many people believe Google open sourced TensorFlow because they realized the data is more valuable than the code itself.\n",
    "\n",
    "## Declarative versus Imperative Programming\n",
    "\n",
    "With **declarative programming** you tell the computer what you want to do, but not how to do it. This is what you do when you write an SQL query or a program in TensorFlow.\n",
    "\n",
    "**Imperative programming** requires you to tell the computer how to do the job (Python, C/C++, C#, etc).\n",
    "\n",
    "## Let's get started!"
   ]
  },
  {
   "cell_type": "code",
   "execution_count": 1,
   "metadata": {
    "collapsed": true,
    "deletable": true,
    "editable": true
   },
   "outputs": [],
   "source": [
    "import tensorflow as tf\n",
    "import numpy as np"
   ]
  },
  {
   "cell_type": "code",
   "execution_count": 2,
   "metadata": {
    "collapsed": false,
    "deletable": true,
    "editable": true
   },
   "outputs": [
    {
     "data": {
      "text/plain": [
       "<tf.Tensor 'Const:0' shape=() dtype=string>"
      ]
     },
     "execution_count": 2,
     "metadata": {},
     "output_type": "execute_result"
    }
   ],
   "source": [
    "hello = tf.constant('Hello, TensorFlow!')\n",
    "hello"
   ]
  },
  {
   "cell_type": "code",
   "execution_count": 3,
   "metadata": {
    "collapsed": true,
    "deletable": true,
    "editable": true
   },
   "outputs": [],
   "source": [
    "sess = tf.Session()"
   ]
  },
  {
   "cell_type": "markdown",
   "metadata": {
    "deletable": true,
    "editable": true
   },
   "source": [
    "**Note**: Nothing happens until you run the session."
   ]
  },
  {
   "cell_type": "code",
   "execution_count": 4,
   "metadata": {
    "collapsed": false,
    "deletable": true,
    "editable": true
   },
   "outputs": [
    {
     "name": "stdout",
     "output_type": "stream",
     "text": [
      "b'Hello, TensorFlow!'\n"
     ]
    }
   ],
   "source": [
    "print(sess.run(hello))"
   ]
  },
  {
   "cell_type": "markdown",
   "metadata": {
    "deletable": true,
    "editable": true
   },
   "source": [
    "## Computational Graphs\n",
    "\n",
    "Yes, these are real graph structures. I would describe them as acyclic directed graphs. These structures are often used to find best paths to recompute, say, bond prices.\n",
    "\n",
    "A **computational graph** is a series of operations (+, -, etc) expressed as nodes of the graph. Each node takes a tensor as input and a tensor as output.\n",
    "\n",
    "A **[tensor](https://en.wikipedia.org/wiki/Tensor)** is an object represented as a multidimensional array with respect to a basis, much as a matrix is a representation of a **linear transformation** with respect to a basis. The Stress tensor and curvature tensor are used extensively in elastic materials and general relativity. Tensors were also used in psychology to handle multidimensional data, and more recently in machine learning.\n",
    "\n",
    "### Create Nodes and Visualize a Simple Computation Graph\n",
    "\n",
    "We can create a constant node as"
   ]
  },
  {
   "cell_type": "code",
   "execution_count": 5,
   "metadata": {
    "collapsed": true,
    "deletable": true,
    "editable": true
   },
   "outputs": [],
   "source": [
    "node1 = tf.constant(3.0)"
   ]
  },
  {
   "cell_type": "code",
   "execution_count": 6,
   "metadata": {
    "collapsed": true,
    "deletable": true,
    "editable": true
   },
   "outputs": [],
   "source": [
    "node2 = tf.constant(4.0)"
   ]
  },
  {
   "cell_type": "code",
   "execution_count": 7,
   "metadata": {
    "collapsed": false,
    "deletable": true,
    "editable": true
   },
   "outputs": [
    {
     "data": {
      "text/plain": [
       "<tf.Tensor 'Const_2:0' shape=() dtype=float32>"
      ]
     },
     "execution_count": 7,
     "metadata": {},
     "output_type": "execute_result"
    }
   ],
   "source": [
    "node2"
   ]
  },
  {
   "cell_type": "markdown",
   "metadata": {
    "deletable": true,
    "editable": true
   },
   "source": [
    "Add two objects:"
   ]
  },
  {
   "cell_type": "code",
   "execution_count": 8,
   "metadata": {
    "collapsed": false,
    "deletable": true,
    "editable": true
   },
   "outputs": [
    {
     "data": {
      "text/plain": [
       "<tf.Tensor 'Add:0' shape=() dtype=float32>"
      ]
     },
     "execution_count": 8,
     "metadata": {},
     "output_type": "execute_result"
    }
   ],
   "source": [
    "node3 = tf.add(node1, node2)\n",
    "node3"
   ]
  },
  {
   "cell_type": "code",
   "execution_count": 9,
   "metadata": {
    "collapsed": true,
    "deletable": true,
    "editable": true
   },
   "outputs": [],
   "source": [
    "sess = tf.Session()"
   ]
  },
  {
   "cell_type": "code",
   "execution_count": 10,
   "metadata": {
    "collapsed": false,
    "deletable": true,
    "editable": true
   },
   "outputs": [
    {
     "name": "stdout",
     "output_type": "stream",
     "text": [
      "sess.run(node3):  7.0\n"
     ]
    }
   ],
   "source": [
    "print(\"sess.run(node3): \", sess.run(node3))"
   ]
  },
  {
   "cell_type": "code",
   "execution_count": 11,
   "metadata": {
    "collapsed": false,
    "deletable": true,
    "editable": true
   },
   "outputs": [],
   "source": [
    "node4 = tf.constant(10.0)"
   ]
  },
  {
   "cell_type": "code",
   "execution_count": 12,
   "metadata": {
    "collapsed": false,
    "deletable": true,
    "editable": true
   },
   "outputs": [],
   "source": [
    "node5 = tf.add(node3, node4)"
   ]
  },
  {
   "cell_type": "markdown",
   "metadata": {
    "deletable": true,
    "editable": true
   },
   "source": [
    "TensorFlow comes with an application called **TensorBoard** which we can use to visualize the computational graph for the nodes we've constructed."
   ]
  },
  {
   "cell_type": "code",
   "execution_count": 13,
   "metadata": {
    "collapsed": true,
    "deletable": true,
    "editable": true
   },
   "outputs": [],
   "source": [
    "graph = tf.get_default_graph()\n",
    "summary_writer = tf.summary.FileWriter(\"/Users/driver.dan12/Temp\", graph)\n",
    "summary_writer.flush()"
   ]
  },
  {
   "cell_type": "markdown",
   "metadata": {
    "deletable": true,
    "editable": true
   },
   "source": [
    "Now run ```tensorboard --logdir=/Users/driver.dan12/Temp``` and click on http://localhost:6006. Here is the computation graph ![graph1.png](graph1.png)."
   ]
  },
  {
   "cell_type": "markdown",
   "metadata": {
    "collapsed": true,
    "deletable": true,
    "editable": true
   },
   "source": [
    "## Warnings from TensorFlow\n",
    "\n",
    "> ```The TensorFlow library wasn't compiled to use SSE4.1 instructions, but these are available on your machine and could speed up CPU computations.```\n",
    "\n",
    "Compile your own TensorFlow. See http://stackoverflow.com/questions/42270739/how-do-i-resolve-these-tensorflow-warnings/42975902#42975902."
   ]
  },
  {
   "cell_type": "markdown",
   "metadata": {
    "deletable": true,
    "editable": true
   },
   "source": [
    "Let's clear the default graph and take a look at this more closely."
   ]
  },
  {
   "cell_type": "code",
   "execution_count": 14,
   "metadata": {
    "collapsed": true,
    "deletable": true,
    "editable": true
   },
   "outputs": [],
   "source": [
    "tf.reset_default_graph()"
   ]
  },
  {
   "cell_type": "markdown",
   "metadata": {
    "collapsed": true,
    "deletable": true,
    "editable": true
   },
   "source": [
    "## Does this look odd?"
   ]
  },
  {
   "cell_type": "code",
   "execution_count": 15,
   "metadata": {
    "collapsed": false,
    "deletable": true,
    "editable": true
   },
   "outputs": [
    {
     "name": "stdout",
     "output_type": "stream",
     "text": [
      "1\n",
      "2\n",
      "3\n",
      "4\n",
      "5\n"
     ]
    }
   ],
   "source": [
    "x = tf.Variable(0, name='x')\n",
    "model = tf.global_variables_initializer()\n",
    "with tf.Session() as session:\n",
    "    for i in range(5):\n",
    "        session.run(model)\n",
    "        x = x + 1\n",
    "        print(session.run(x))"
   ]
  },
  {
   "cell_type": "code",
   "execution_count": 16,
   "metadata": {
    "collapsed": false,
    "deletable": true,
    "editable": true
   },
   "outputs": [
    {
     "name": "stdout",
     "output_type": "stream",
     "text": [
      "1\n",
      "2\n",
      "3\n",
      "4\n",
      "5\n"
     ]
    }
   ],
   "source": [
    "x = tf.Variable(0, name='x')\n",
    "model = tf.global_variables_initializer()\n",
    "with tf.Session() as session:\n",
    "    for i in range(5):\n",
    "        x = x + 1\n",
    "        session.run(model)\n",
    "        print(session.run(x))"
   ]
  },
  {
   "cell_type": "markdown",
   "metadata": {
    "deletable": true,
    "editable": true
   },
   "source": [
    "Nope, this makes perfect sense - we are not executing the computation graph until the ```run``` command. So whether we put the ```x = x + 1``` before or after ```session.run(model)```. This statement initializes ```x``` to be zero, and ```run``` executes the computation graph built so far.\n",
    "\n",
    "But what does ```global_variables_initializer``` do?\n",
    "\n",
    "It initializes all the *global variables* in the graph. The global variables are shared across machines in a distributed environment. Contrast with *local variables* which are per-process variables.\n",
    "\n",
    "We don't need to initialize ```Constant```, just ```Variable```. Reflect on that a little bit."
   ]
  },
  {
   "cell_type": "code",
   "execution_count": 17,
   "metadata": {
    "collapsed": true,
    "deletable": true,
    "editable": true
   },
   "outputs": [],
   "source": [
    "graph = tf.get_default_graph()\n",
    "summary_writer = tf.summary.FileWriter(\"/Users/driver.dan12/Temp\", graph)\n",
    "summary_writer.flush()"
   ]
  },
  {
   "cell_type": "markdown",
   "metadata": {
    "deletable": true,
    "editable": true
   },
   "source": [
    "Here is the computation graph ![graph2.png](graph2.png)"
   ]
  },
  {
   "cell_type": "code",
   "execution_count": 18,
   "metadata": {
    "collapsed": true,
    "deletable": true,
    "editable": true
   },
   "outputs": [],
   "source": [
    "tf.reset_default_graph()"
   ]
  },
  {
   "cell_type": "markdown",
   "metadata": {
    "deletable": true,
    "editable": true
   },
   "source": [
    "## Matrix Multiplication"
   ]
  },
  {
   "cell_type": "code",
   "execution_count": 19,
   "metadata": {
    "collapsed": true,
    "deletable": true,
    "editable": true
   },
   "outputs": [],
   "source": [
    "W = tf.Variable(tf.random_uniform([1000,1000]))\n",
    "x = tf.Variable(tf.ones([1000,1]))\n",
    "sess = tf.Session()"
   ]
  },
  {
   "cell_type": "code",
   "execution_count": 20,
   "metadata": {
    "collapsed": false,
    "deletable": true,
    "editable": true
   },
   "outputs": [
    {
     "ename": "FailedPreconditionError",
     "evalue": "Attempting to use uninitialized value Variable_1\n\t [[Node: Variable_1/read = Identity[T=DT_FLOAT, _class=[\"loc:@Variable_1\"], _device=\"/job:localhost/replica:0/task:0/cpu:0\"](Variable_1)]]\n\nCaused by op 'Variable_1/read', defined at:\n  File \"/Applications/anaconda/lib/python3.5/runpy.py\", line 193, in _run_module_as_main\n    \"__main__\", mod_spec)\n  File \"/Applications/anaconda/lib/python3.5/runpy.py\", line 85, in _run_code\n    exec(code, run_globals)\n  File \"/Applications/anaconda/lib/python3.5/site-packages/ipykernel/__main__.py\", line 3, in <module>\n    app.launch_new_instance()\n  File \"/Applications/anaconda/lib/python3.5/site-packages/traitlets/config/application.py\", line 658, in launch_instance\n    app.start()\n  File \"/Applications/anaconda/lib/python3.5/site-packages/ipykernel/kernelapp.py\", line 474, in start\n    ioloop.IOLoop.instance().start()\n  File \"/Applications/anaconda/lib/python3.5/site-packages/zmq/eventloop/ioloop.py\", line 177, in start\n    super(ZMQIOLoop, self).start()\n  File \"/Applications/anaconda/lib/python3.5/site-packages/tornado/ioloop.py\", line 887, in start\n    handler_func(fd_obj, events)\n  File \"/Applications/anaconda/lib/python3.5/site-packages/tornado/stack_context.py\", line 275, in null_wrapper\n    return fn(*args, **kwargs)\n  File \"/Applications/anaconda/lib/python3.5/site-packages/zmq/eventloop/zmqstream.py\", line 440, in _handle_events\n    self._handle_recv()\n  File \"/Applications/anaconda/lib/python3.5/site-packages/zmq/eventloop/zmqstream.py\", line 472, in _handle_recv\n    self._run_callback(callback, msg)\n  File \"/Applications/anaconda/lib/python3.5/site-packages/zmq/eventloop/zmqstream.py\", line 414, in _run_callback\n    callback(*args, **kwargs)\n  File \"/Applications/anaconda/lib/python3.5/site-packages/tornado/stack_context.py\", line 275, in null_wrapper\n    return fn(*args, **kwargs)\n  File \"/Applications/anaconda/lib/python3.5/site-packages/ipykernel/kernelbase.py\", line 276, in dispatcher\n    return self.dispatch_shell(stream, msg)\n  File \"/Applications/anaconda/lib/python3.5/site-packages/ipykernel/kernelbase.py\", line 228, in dispatch_shell\n    handler(stream, idents, msg)\n  File \"/Applications/anaconda/lib/python3.5/site-packages/ipykernel/kernelbase.py\", line 390, in execute_request\n    user_expressions, allow_stdin)\n  File \"/Applications/anaconda/lib/python3.5/site-packages/ipykernel/ipkernel.py\", line 196, in do_execute\n    res = shell.run_cell(code, store_history=store_history, silent=silent)\n  File \"/Applications/anaconda/lib/python3.5/site-packages/ipykernel/zmqshell.py\", line 501, in run_cell\n    return super(ZMQInteractiveShell, self).run_cell(*args, **kwargs)\n  File \"/Applications/anaconda/lib/python3.5/site-packages/IPython/core/interactiveshell.py\", line 2717, in run_cell\n    interactivity=interactivity, compiler=compiler, result=result)\n  File \"/Applications/anaconda/lib/python3.5/site-packages/IPython/core/interactiveshell.py\", line 2821, in run_ast_nodes\n    if self.run_code(code, result):\n  File \"/Applications/anaconda/lib/python3.5/site-packages/IPython/core/interactiveshell.py\", line 2881, in run_code\n    exec(code_obj, self.user_global_ns, self.user_ns)\n  File \"<ipython-input-19-803b4c44af68>\", line 2, in <module>\n    x = tf.Variable(tf.ones([1000,1]))\n  File \"/Applications/anaconda/lib/python3.5/site-packages/tensorflow/python/ops/variables.py\", line 197, in __init__\n    expected_shape=expected_shape)\n  File \"/Applications/anaconda/lib/python3.5/site-packages/tensorflow/python/ops/variables.py\", line 315, in _init_from_args\n    self._snapshot = array_ops.identity(self._variable, name=\"read\")\n  File \"/Applications/anaconda/lib/python3.5/site-packages/tensorflow/python/ops/gen_array_ops.py\", line 1490, in identity\n    result = _op_def_lib.apply_op(\"Identity\", input=input, name=name)\n  File \"/Applications/anaconda/lib/python3.5/site-packages/tensorflow/python/framework/op_def_library.py\", line 763, in apply_op\n    op_def=op_def)\n  File \"/Applications/anaconda/lib/python3.5/site-packages/tensorflow/python/framework/ops.py\", line 2327, in create_op\n    original_op=self._default_original_op, op_def=op_def)\n  File \"/Applications/anaconda/lib/python3.5/site-packages/tensorflow/python/framework/ops.py\", line 1226, in __init__\n    self._traceback = _extract_stack()\n\nFailedPreconditionError (see above for traceback): Attempting to use uninitialized value Variable_1\n\t [[Node: Variable_1/read = Identity[T=DT_FLOAT, _class=[\"loc:@Variable_1\"], _device=\"/job:localhost/replica:0/task:0/cpu:0\"](Variable_1)]]\n",
     "output_type": "error",
     "traceback": [
      "\u001b[0;31m---------------------------------------------------------------------------\u001b[0m",
      "\u001b[0;31mFailedPreconditionError\u001b[0m                   Traceback (most recent call last)",
      "\u001b[0;32m/Applications/anaconda/lib/python3.5/site-packages/tensorflow/python/client/session.py\u001b[0m in \u001b[0;36m_do_call\u001b[0;34m(self, fn, *args)\u001b[0m\n\u001b[1;32m   1021\u001b[0m     \u001b[0;32mtry\u001b[0m\u001b[0;34m:\u001b[0m\u001b[0;34m\u001b[0m\u001b[0m\n\u001b[0;32m-> 1022\u001b[0;31m       \u001b[0;32mreturn\u001b[0m \u001b[0mfn\u001b[0m\u001b[0;34m(\u001b[0m\u001b[0;34m*\u001b[0m\u001b[0margs\u001b[0m\u001b[0;34m)\u001b[0m\u001b[0;34m\u001b[0m\u001b[0m\n\u001b[0m\u001b[1;32m   1023\u001b[0m     \u001b[0;32mexcept\u001b[0m \u001b[0merrors\u001b[0m\u001b[0;34m.\u001b[0m\u001b[0mOpError\u001b[0m \u001b[0;32mas\u001b[0m \u001b[0me\u001b[0m\u001b[0;34m:\u001b[0m\u001b[0;34m\u001b[0m\u001b[0m\n",
      "\u001b[0;32m/Applications/anaconda/lib/python3.5/site-packages/tensorflow/python/client/session.py\u001b[0m in \u001b[0;36m_run_fn\u001b[0;34m(session, feed_dict, fetch_list, target_list, options, run_metadata)\u001b[0m\n\u001b[1;32m   1003\u001b[0m                                  \u001b[0mfeed_dict\u001b[0m\u001b[0;34m,\u001b[0m \u001b[0mfetch_list\u001b[0m\u001b[0;34m,\u001b[0m \u001b[0mtarget_list\u001b[0m\u001b[0;34m,\u001b[0m\u001b[0;34m\u001b[0m\u001b[0m\n\u001b[0;32m-> 1004\u001b[0;31m                                  status, run_metadata)\n\u001b[0m\u001b[1;32m   1005\u001b[0m \u001b[0;34m\u001b[0m\u001b[0m\n",
      "\u001b[0;32m/Applications/anaconda/lib/python3.5/contextlib.py\u001b[0m in \u001b[0;36m__exit__\u001b[0;34m(self, type, value, traceback)\u001b[0m\n\u001b[1;32m     65\u001b[0m             \u001b[0;32mtry\u001b[0m\u001b[0;34m:\u001b[0m\u001b[0;34m\u001b[0m\u001b[0m\n\u001b[0;32m---> 66\u001b[0;31m                 \u001b[0mnext\u001b[0m\u001b[0;34m(\u001b[0m\u001b[0mself\u001b[0m\u001b[0;34m.\u001b[0m\u001b[0mgen\u001b[0m\u001b[0;34m)\u001b[0m\u001b[0;34m\u001b[0m\u001b[0m\n\u001b[0m\u001b[1;32m     67\u001b[0m             \u001b[0;32mexcept\u001b[0m \u001b[0mStopIteration\u001b[0m\u001b[0;34m:\u001b[0m\u001b[0;34m\u001b[0m\u001b[0m\n",
      "\u001b[0;32m/Applications/anaconda/lib/python3.5/site-packages/tensorflow/python/framework/errors_impl.py\u001b[0m in \u001b[0;36mraise_exception_on_not_ok_status\u001b[0;34m()\u001b[0m\n\u001b[1;32m    465\u001b[0m           \u001b[0mcompat\u001b[0m\u001b[0;34m.\u001b[0m\u001b[0mas_text\u001b[0m\u001b[0;34m(\u001b[0m\u001b[0mpywrap_tensorflow\u001b[0m\u001b[0;34m.\u001b[0m\u001b[0mTF_Message\u001b[0m\u001b[0;34m(\u001b[0m\u001b[0mstatus\u001b[0m\u001b[0;34m)\u001b[0m\u001b[0;34m)\u001b[0m\u001b[0;34m,\u001b[0m\u001b[0;34m\u001b[0m\u001b[0m\n\u001b[0;32m--> 466\u001b[0;31m           pywrap_tensorflow.TF_GetCode(status))\n\u001b[0m\u001b[1;32m    467\u001b[0m   \u001b[0;32mfinally\u001b[0m\u001b[0;34m:\u001b[0m\u001b[0;34m\u001b[0m\u001b[0m\n",
      "\u001b[0;31mFailedPreconditionError\u001b[0m: Attempting to use uninitialized value Variable_1\n\t [[Node: Variable_1/read = Identity[T=DT_FLOAT, _class=[\"loc:@Variable_1\"], _device=\"/job:localhost/replica:0/task:0/cpu:0\"](Variable_1)]]",
      "\nDuring handling of the above exception, another exception occurred:\n",
      "\u001b[0;31mFailedPreconditionError\u001b[0m                   Traceback (most recent call last)",
      "\u001b[0;32m<ipython-input-20-e4351b59338e>\u001b[0m in \u001b[0;36m<module>\u001b[0;34m()\u001b[0m\n\u001b[0;32m----> 1\u001b[0;31m \u001b[0msess\u001b[0m\u001b[0;34m.\u001b[0m\u001b[0mrun\u001b[0m\u001b[0;34m(\u001b[0m\u001b[0mtf\u001b[0m\u001b[0;34m.\u001b[0m\u001b[0mmatmul\u001b[0m\u001b[0;34m(\u001b[0m\u001b[0mW\u001b[0m\u001b[0;34m,\u001b[0m \u001b[0mx\u001b[0m\u001b[0;34m)\u001b[0m\u001b[0;34m)\u001b[0m\u001b[0;34m\u001b[0m\u001b[0m\n\u001b[0m",
      "\u001b[0;32m/Applications/anaconda/lib/python3.5/site-packages/tensorflow/python/client/session.py\u001b[0m in \u001b[0;36mrun\u001b[0;34m(self, fetches, feed_dict, options, run_metadata)\u001b[0m\n\u001b[1;32m    765\u001b[0m     \u001b[0;32mtry\u001b[0m\u001b[0;34m:\u001b[0m\u001b[0;34m\u001b[0m\u001b[0m\n\u001b[1;32m    766\u001b[0m       result = self._run(None, fetches, feed_dict, options_ptr,\n\u001b[0;32m--> 767\u001b[0;31m                          run_metadata_ptr)\n\u001b[0m\u001b[1;32m    768\u001b[0m       \u001b[0;32mif\u001b[0m \u001b[0mrun_metadata\u001b[0m\u001b[0;34m:\u001b[0m\u001b[0;34m\u001b[0m\u001b[0m\n\u001b[1;32m    769\u001b[0m         \u001b[0mproto_data\u001b[0m \u001b[0;34m=\u001b[0m \u001b[0mtf_session\u001b[0m\u001b[0;34m.\u001b[0m\u001b[0mTF_GetBuffer\u001b[0m\u001b[0;34m(\u001b[0m\u001b[0mrun_metadata_ptr\u001b[0m\u001b[0;34m)\u001b[0m\u001b[0;34m\u001b[0m\u001b[0m\n",
      "\u001b[0;32m/Applications/anaconda/lib/python3.5/site-packages/tensorflow/python/client/session.py\u001b[0m in \u001b[0;36m_run\u001b[0;34m(self, handle, fetches, feed_dict, options, run_metadata)\u001b[0m\n\u001b[1;32m    963\u001b[0m     \u001b[0;32mif\u001b[0m \u001b[0mfinal_fetches\u001b[0m \u001b[0;32mor\u001b[0m \u001b[0mfinal_targets\u001b[0m\u001b[0;34m:\u001b[0m\u001b[0;34m\u001b[0m\u001b[0m\n\u001b[1;32m    964\u001b[0m       results = self._do_run(handle, final_targets, final_fetches,\n\u001b[0;32m--> 965\u001b[0;31m                              feed_dict_string, options, run_metadata)\n\u001b[0m\u001b[1;32m    966\u001b[0m     \u001b[0;32melse\u001b[0m\u001b[0;34m:\u001b[0m\u001b[0;34m\u001b[0m\u001b[0m\n\u001b[1;32m    967\u001b[0m       \u001b[0mresults\u001b[0m \u001b[0;34m=\u001b[0m \u001b[0;34m[\u001b[0m\u001b[0;34m]\u001b[0m\u001b[0;34m\u001b[0m\u001b[0m\n",
      "\u001b[0;32m/Applications/anaconda/lib/python3.5/site-packages/tensorflow/python/client/session.py\u001b[0m in \u001b[0;36m_do_run\u001b[0;34m(self, handle, target_list, fetch_list, feed_dict, options, run_metadata)\u001b[0m\n\u001b[1;32m   1013\u001b[0m     \u001b[0;32mif\u001b[0m \u001b[0mhandle\u001b[0m \u001b[0;32mis\u001b[0m \u001b[0;32mNone\u001b[0m\u001b[0;34m:\u001b[0m\u001b[0;34m\u001b[0m\u001b[0m\n\u001b[1;32m   1014\u001b[0m       return self._do_call(_run_fn, self._session, feed_dict, fetch_list,\n\u001b[0;32m-> 1015\u001b[0;31m                            target_list, options, run_metadata)\n\u001b[0m\u001b[1;32m   1016\u001b[0m     \u001b[0;32melse\u001b[0m\u001b[0;34m:\u001b[0m\u001b[0;34m\u001b[0m\u001b[0m\n\u001b[1;32m   1017\u001b[0m       return self._do_call(_prun_fn, self._session, handle, feed_dict,\n",
      "\u001b[0;32m/Applications/anaconda/lib/python3.5/site-packages/tensorflow/python/client/session.py\u001b[0m in \u001b[0;36m_do_call\u001b[0;34m(self, fn, *args)\u001b[0m\n\u001b[1;32m   1033\u001b[0m         \u001b[0;32mexcept\u001b[0m \u001b[0mKeyError\u001b[0m\u001b[0;34m:\u001b[0m\u001b[0;34m\u001b[0m\u001b[0m\n\u001b[1;32m   1034\u001b[0m           \u001b[0;32mpass\u001b[0m\u001b[0;34m\u001b[0m\u001b[0m\n\u001b[0;32m-> 1035\u001b[0;31m       \u001b[0;32mraise\u001b[0m \u001b[0mtype\u001b[0m\u001b[0;34m(\u001b[0m\u001b[0me\u001b[0m\u001b[0;34m)\u001b[0m\u001b[0;34m(\u001b[0m\u001b[0mnode_def\u001b[0m\u001b[0;34m,\u001b[0m \u001b[0mop\u001b[0m\u001b[0;34m,\u001b[0m \u001b[0mmessage\u001b[0m\u001b[0;34m)\u001b[0m\u001b[0;34m\u001b[0m\u001b[0m\n\u001b[0m\u001b[1;32m   1036\u001b[0m \u001b[0;34m\u001b[0m\u001b[0m\n\u001b[1;32m   1037\u001b[0m   \u001b[0;32mdef\u001b[0m \u001b[0m_extend_graph\u001b[0m\u001b[0;34m(\u001b[0m\u001b[0mself\u001b[0m\u001b[0;34m)\u001b[0m\u001b[0;34m:\u001b[0m\u001b[0;34m\u001b[0m\u001b[0m\n",
      "\u001b[0;31mFailedPreconditionError\u001b[0m: Attempting to use uninitialized value Variable_1\n\t [[Node: Variable_1/read = Identity[T=DT_FLOAT, _class=[\"loc:@Variable_1\"], _device=\"/job:localhost/replica:0/task:0/cpu:0\"](Variable_1)]]\n\nCaused by op 'Variable_1/read', defined at:\n  File \"/Applications/anaconda/lib/python3.5/runpy.py\", line 193, in _run_module_as_main\n    \"__main__\", mod_spec)\n  File \"/Applications/anaconda/lib/python3.5/runpy.py\", line 85, in _run_code\n    exec(code, run_globals)\n  File \"/Applications/anaconda/lib/python3.5/site-packages/ipykernel/__main__.py\", line 3, in <module>\n    app.launch_new_instance()\n  File \"/Applications/anaconda/lib/python3.5/site-packages/traitlets/config/application.py\", line 658, in launch_instance\n    app.start()\n  File \"/Applications/anaconda/lib/python3.5/site-packages/ipykernel/kernelapp.py\", line 474, in start\n    ioloop.IOLoop.instance().start()\n  File \"/Applications/anaconda/lib/python3.5/site-packages/zmq/eventloop/ioloop.py\", line 177, in start\n    super(ZMQIOLoop, self).start()\n  File \"/Applications/anaconda/lib/python3.5/site-packages/tornado/ioloop.py\", line 887, in start\n    handler_func(fd_obj, events)\n  File \"/Applications/anaconda/lib/python3.5/site-packages/tornado/stack_context.py\", line 275, in null_wrapper\n    return fn(*args, **kwargs)\n  File \"/Applications/anaconda/lib/python3.5/site-packages/zmq/eventloop/zmqstream.py\", line 440, in _handle_events\n    self._handle_recv()\n  File \"/Applications/anaconda/lib/python3.5/site-packages/zmq/eventloop/zmqstream.py\", line 472, in _handle_recv\n    self._run_callback(callback, msg)\n  File \"/Applications/anaconda/lib/python3.5/site-packages/zmq/eventloop/zmqstream.py\", line 414, in _run_callback\n    callback(*args, **kwargs)\n  File \"/Applications/anaconda/lib/python3.5/site-packages/tornado/stack_context.py\", line 275, in null_wrapper\n    return fn(*args, **kwargs)\n  File \"/Applications/anaconda/lib/python3.5/site-packages/ipykernel/kernelbase.py\", line 276, in dispatcher\n    return self.dispatch_shell(stream, msg)\n  File \"/Applications/anaconda/lib/python3.5/site-packages/ipykernel/kernelbase.py\", line 228, in dispatch_shell\n    handler(stream, idents, msg)\n  File \"/Applications/anaconda/lib/python3.5/site-packages/ipykernel/kernelbase.py\", line 390, in execute_request\n    user_expressions, allow_stdin)\n  File \"/Applications/anaconda/lib/python3.5/site-packages/ipykernel/ipkernel.py\", line 196, in do_execute\n    res = shell.run_cell(code, store_history=store_history, silent=silent)\n  File \"/Applications/anaconda/lib/python3.5/site-packages/ipykernel/zmqshell.py\", line 501, in run_cell\n    return super(ZMQInteractiveShell, self).run_cell(*args, **kwargs)\n  File \"/Applications/anaconda/lib/python3.5/site-packages/IPython/core/interactiveshell.py\", line 2717, in run_cell\n    interactivity=interactivity, compiler=compiler, result=result)\n  File \"/Applications/anaconda/lib/python3.5/site-packages/IPython/core/interactiveshell.py\", line 2821, in run_ast_nodes\n    if self.run_code(code, result):\n  File \"/Applications/anaconda/lib/python3.5/site-packages/IPython/core/interactiveshell.py\", line 2881, in run_code\n    exec(code_obj, self.user_global_ns, self.user_ns)\n  File \"<ipython-input-19-803b4c44af68>\", line 2, in <module>\n    x = tf.Variable(tf.ones([1000,1]))\n  File \"/Applications/anaconda/lib/python3.5/site-packages/tensorflow/python/ops/variables.py\", line 197, in __init__\n    expected_shape=expected_shape)\n  File \"/Applications/anaconda/lib/python3.5/site-packages/tensorflow/python/ops/variables.py\", line 315, in _init_from_args\n    self._snapshot = array_ops.identity(self._variable, name=\"read\")\n  File \"/Applications/anaconda/lib/python3.5/site-packages/tensorflow/python/ops/gen_array_ops.py\", line 1490, in identity\n    result = _op_def_lib.apply_op(\"Identity\", input=input, name=name)\n  File \"/Applications/anaconda/lib/python3.5/site-packages/tensorflow/python/framework/op_def_library.py\", line 763, in apply_op\n    op_def=op_def)\n  File \"/Applications/anaconda/lib/python3.5/site-packages/tensorflow/python/framework/ops.py\", line 2327, in create_op\n    original_op=self._default_original_op, op_def=op_def)\n  File \"/Applications/anaconda/lib/python3.5/site-packages/tensorflow/python/framework/ops.py\", line 1226, in __init__\n    self._traceback = _extract_stack()\n\nFailedPreconditionError (see above for traceback): Attempting to use uninitialized value Variable_1\n\t [[Node: Variable_1/read = Identity[T=DT_FLOAT, _class=[\"loc:@Variable_1\"], _device=\"/job:localhost/replica:0/task:0/cpu:0\"](Variable_1)]]\n"
     ]
    }
   ],
   "source": [
    "sess.run(tf.matmul(W, x))"
   ]
  },
  {
   "cell_type": "code",
   "execution_count": 21,
   "metadata": {
    "collapsed": true,
    "deletable": true,
    "editable": true
   },
   "outputs": [],
   "source": [
    "sess.run(tf.global_variables_initializer())"
   ]
  },
  {
   "cell_type": "code",
   "execution_count": 22,
   "metadata": {
    "collapsed": false,
    "deletable": true,
    "editable": true
   },
   "outputs": [
    {
     "data": {
      "text/plain": [
       "array([[ 486.96716309],\n",
       "       [ 494.3180542 ],\n",
       "       [ 493.93426514],\n",
       "       [ 498.88598633],\n",
       "       [ 496.36682129],\n",
       "       [ 490.76159668],\n",
       "       [ 496.66485596],\n",
       "       [ 501.85339355],\n",
       "       [ 496.61224365],\n",
       "       [ 484.89224243],\n",
       "       [ 499.96755981],\n",
       "       [ 502.76635742],\n",
       "       [ 485.69223022],\n",
       "       [ 489.42373657],\n",
       "       [ 499.30114746],\n",
       "       [ 479.47381592],\n",
       "       [ 518.17590332],\n",
       "       [ 502.5244751 ],\n",
       "       [ 492.92700195],\n",
       "       [ 507.40032959],\n",
       "       [ 488.90527344],\n",
       "       [ 521.24780273],\n",
       "       [ 500.87557983],\n",
       "       [ 483.1940918 ],\n",
       "       [ 502.75689697],\n",
       "       [ 473.52655029],\n",
       "       [ 500.91094971],\n",
       "       [ 503.74822998],\n",
       "       [ 500.21224976],\n",
       "       [ 500.36148071],\n",
       "       [ 504.19726562],\n",
       "       [ 493.81417847],\n",
       "       [ 494.17263794],\n",
       "       [ 504.15057373],\n",
       "       [ 498.22952271],\n",
       "       [ 504.20053101],\n",
       "       [ 506.99389648],\n",
       "       [ 499.05679321],\n",
       "       [ 502.36593628],\n",
       "       [ 509.06689453],\n",
       "       [ 496.71917725],\n",
       "       [ 488.8236084 ],\n",
       "       [ 492.7310791 ],\n",
       "       [ 505.64852905],\n",
       "       [ 501.45980835],\n",
       "       [ 518.31121826],\n",
       "       [ 501.71557617],\n",
       "       [ 498.11209106],\n",
       "       [ 501.63482666],\n",
       "       [ 478.18463135],\n",
       "       [ 503.40298462],\n",
       "       [ 510.78927612],\n",
       "       [ 495.47698975],\n",
       "       [ 498.215271  ],\n",
       "       [ 512.6081543 ],\n",
       "       [ 497.74526978],\n",
       "       [ 481.12667847],\n",
       "       [ 499.63580322],\n",
       "       [ 491.92019653],\n",
       "       [ 491.53567505],\n",
       "       [ 508.83334351],\n",
       "       [ 480.72393799],\n",
       "       [ 485.99798584],\n",
       "       [ 496.70880127],\n",
       "       [ 489.64630127],\n",
       "       [ 494.08560181],\n",
       "       [ 506.45056152],\n",
       "       [ 499.01733398],\n",
       "       [ 504.13519287],\n",
       "       [ 502.82467651],\n",
       "       [ 494.3137207 ],\n",
       "       [ 485.31866455],\n",
       "       [ 494.09008789],\n",
       "       [ 490.92602539],\n",
       "       [ 514.42895508],\n",
       "       [ 497.14910889],\n",
       "       [ 499.39523315],\n",
       "       [ 494.6373291 ],\n",
       "       [ 508.4730835 ],\n",
       "       [ 511.49731445],\n",
       "       [ 496.11279297],\n",
       "       [ 509.26251221],\n",
       "       [ 512.72113037],\n",
       "       [ 510.790802  ],\n",
       "       [ 510.9425354 ],\n",
       "       [ 500.19256592],\n",
       "       [ 503.46020508],\n",
       "       [ 503.43139648],\n",
       "       [ 484.67871094],\n",
       "       [ 493.125     ],\n",
       "       [ 495.62857056],\n",
       "       [ 489.83154297],\n",
       "       [ 503.19418335],\n",
       "       [ 496.11434937],\n",
       "       [ 502.96228027],\n",
       "       [ 498.63031006],\n",
       "       [ 489.12072754],\n",
       "       [ 498.14758301],\n",
       "       [ 505.72229004],\n",
       "       [ 496.4944458 ],\n",
       "       [ 498.57019043],\n",
       "       [ 500.17367554],\n",
       "       [ 500.33401489],\n",
       "       [ 494.22698975],\n",
       "       [ 501.55093384],\n",
       "       [ 492.97836304],\n",
       "       [ 511.35882568],\n",
       "       [ 514.05163574],\n",
       "       [ 505.46273804],\n",
       "       [ 511.73937988],\n",
       "       [ 493.51467896],\n",
       "       [ 505.61605835],\n",
       "       [ 489.2532959 ],\n",
       "       [ 511.30178833],\n",
       "       [ 489.29312134],\n",
       "       [ 495.02890015],\n",
       "       [ 501.06188965],\n",
       "       [ 505.45330811],\n",
       "       [ 482.18609619],\n",
       "       [ 504.98727417],\n",
       "       [ 510.11602783],\n",
       "       [ 499.27886963],\n",
       "       [ 503.83676147],\n",
       "       [ 496.31555176],\n",
       "       [ 521.91607666],\n",
       "       [ 491.48046875],\n",
       "       [ 503.37460327],\n",
       "       [ 493.59802246],\n",
       "       [ 508.9624939 ],\n",
       "       [ 504.93032837],\n",
       "       [ 496.84671021],\n",
       "       [ 480.35125732],\n",
       "       [ 489.52813721],\n",
       "       [ 487.00335693],\n",
       "       [ 493.59210205],\n",
       "       [ 498.71582031],\n",
       "       [ 498.94256592],\n",
       "       [ 486.10202026],\n",
       "       [ 512.95245361],\n",
       "       [ 494.60784912],\n",
       "       [ 499.48641968],\n",
       "       [ 503.54382324],\n",
       "       [ 496.7288208 ],\n",
       "       [ 505.05789185],\n",
       "       [ 505.20904541],\n",
       "       [ 499.09912109],\n",
       "       [ 517.66027832],\n",
       "       [ 508.08428955],\n",
       "       [ 510.66525269],\n",
       "       [ 501.12017822],\n",
       "       [ 488.04681396],\n",
       "       [ 502.85198975],\n",
       "       [ 499.00424194],\n",
       "       [ 495.17059326],\n",
       "       [ 520.48510742],\n",
       "       [ 487.18551636],\n",
       "       [ 501.29785156],\n",
       "       [ 508.18548584],\n",
       "       [ 495.53250122],\n",
       "       [ 497.26443481],\n",
       "       [ 493.55145264],\n",
       "       [ 496.99206543],\n",
       "       [ 493.34658813],\n",
       "       [ 510.45550537],\n",
       "       [ 484.77142334],\n",
       "       [ 510.25372314],\n",
       "       [ 496.47180176],\n",
       "       [ 492.59469604],\n",
       "       [ 500.43060303],\n",
       "       [ 499.79455566],\n",
       "       [ 508.87493896],\n",
       "       [ 499.52758789],\n",
       "       [ 506.86618042],\n",
       "       [ 497.31591797],\n",
       "       [ 487.08303833],\n",
       "       [ 503.09512329],\n",
       "       [ 490.16610718],\n",
       "       [ 488.90716553],\n",
       "       [ 487.92089844],\n",
       "       [ 504.27545166],\n",
       "       [ 504.93151855],\n",
       "       [ 510.434021  ],\n",
       "       [ 497.85516357],\n",
       "       [ 503.59109497],\n",
       "       [ 507.87670898],\n",
       "       [ 486.45922852],\n",
       "       [ 491.85653687],\n",
       "       [ 498.29772949],\n",
       "       [ 518.9786377 ],\n",
       "       [ 512.8939209 ],\n",
       "       [ 506.36645508],\n",
       "       [ 488.24417114],\n",
       "       [ 509.29180908],\n",
       "       [ 499.08081055],\n",
       "       [ 500.54922485],\n",
       "       [ 516.85119629],\n",
       "       [ 489.44384766],\n",
       "       [ 495.4937439 ],\n",
       "       [ 502.00518799],\n",
       "       [ 488.63079834],\n",
       "       [ 501.34436035],\n",
       "       [ 507.11312866],\n",
       "       [ 484.80654907],\n",
       "       [ 496.09591675],\n",
       "       [ 489.27966309],\n",
       "       [ 485.68261719],\n",
       "       [ 498.74353027],\n",
       "       [ 494.71463013],\n",
       "       [ 490.65466309],\n",
       "       [ 505.47494507],\n",
       "       [ 493.00216675],\n",
       "       [ 514.1885376 ],\n",
       "       [ 495.26010132],\n",
       "       [ 515.11572266],\n",
       "       [ 489.1390686 ],\n",
       "       [ 491.66656494],\n",
       "       [ 500.75164795],\n",
       "       [ 513.58648682],\n",
       "       [ 508.11038208],\n",
       "       [ 505.47277832],\n",
       "       [ 495.85491943],\n",
       "       [ 504.5625    ],\n",
       "       [ 505.44442749],\n",
       "       [ 490.18768311],\n",
       "       [ 501.08197021],\n",
       "       [ 509.89825439],\n",
       "       [ 488.5098877 ],\n",
       "       [ 503.58651733],\n",
       "       [ 499.80239868],\n",
       "       [ 513.42358398],\n",
       "       [ 491.09719849],\n",
       "       [ 500.22094727],\n",
       "       [ 502.92593384],\n",
       "       [ 502.94552612],\n",
       "       [ 494.7925415 ],\n",
       "       [ 512.66680908],\n",
       "       [ 505.57702637],\n",
       "       [ 502.7019043 ],\n",
       "       [ 506.94659424],\n",
       "       [ 491.49859619],\n",
       "       [ 485.08215332],\n",
       "       [ 498.25476074],\n",
       "       [ 507.07751465],\n",
       "       [ 483.84454346],\n",
       "       [ 490.30209351],\n",
       "       [ 498.36047363],\n",
       "       [ 499.75744629],\n",
       "       [ 492.63861084],\n",
       "       [ 498.01141357],\n",
       "       [ 494.5123291 ],\n",
       "       [ 485.54550171],\n",
       "       [ 515.97076416],\n",
       "       [ 487.2331543 ],\n",
       "       [ 509.48730469],\n",
       "       [ 502.97314453],\n",
       "       [ 501.22436523],\n",
       "       [ 497.19290161],\n",
       "       [ 505.0597229 ],\n",
       "       [ 502.99499512],\n",
       "       [ 487.22149658],\n",
       "       [ 477.44049072],\n",
       "       [ 494.1734314 ],\n",
       "       [ 495.84973145],\n",
       "       [ 497.57440186],\n",
       "       [ 505.93771362],\n",
       "       [ 505.26791382],\n",
       "       [ 484.56170654],\n",
       "       [ 491.63323975],\n",
       "       [ 494.9543457 ],\n",
       "       [ 509.16287231],\n",
       "       [ 496.71252441],\n",
       "       [ 495.84564209],\n",
       "       [ 490.67144775],\n",
       "       [ 499.8699646 ],\n",
       "       [ 513.29345703],\n",
       "       [ 509.22052002],\n",
       "       [ 492.94335938],\n",
       "       [ 497.90942383],\n",
       "       [ 521.88989258],\n",
       "       [ 495.37472534],\n",
       "       [ 508.30810547],\n",
       "       [ 523.52087402],\n",
       "       [ 504.05487061],\n",
       "       [ 495.26547241],\n",
       "       [ 501.09494019],\n",
       "       [ 494.59176636],\n",
       "       [ 516.71435547],\n",
       "       [ 503.11651611],\n",
       "       [ 501.644104  ],\n",
       "       [ 527.43499756],\n",
       "       [ 514.56164551],\n",
       "       [ 514.31848145],\n",
       "       [ 486.76574707],\n",
       "       [ 492.5632019 ],\n",
       "       [ 491.98376465],\n",
       "       [ 505.92892456],\n",
       "       [ 491.78265381],\n",
       "       [ 506.19464111],\n",
       "       [ 498.68078613],\n",
       "       [ 514.28527832],\n",
       "       [ 516.60961914],\n",
       "       [ 495.85690308],\n",
       "       [ 496.84399414],\n",
       "       [ 500.83776855],\n",
       "       [ 510.8821106 ],\n",
       "       [ 492.01412964],\n",
       "       [ 515.51074219],\n",
       "       [ 508.55737305],\n",
       "       [ 504.5871582 ],\n",
       "       [ 489.00424194],\n",
       "       [ 491.13412476],\n",
       "       [ 509.42205811],\n",
       "       [ 500.29382324],\n",
       "       [ 496.58850098],\n",
       "       [ 496.38421631],\n",
       "       [ 497.07382202],\n",
       "       [ 488.53463745],\n",
       "       [ 502.80291748],\n",
       "       [ 494.94772339],\n",
       "       [ 496.98220825],\n",
       "       [ 494.46334839],\n",
       "       [ 483.80145264],\n",
       "       [ 490.64880371],\n",
       "       [ 500.17132568],\n",
       "       [ 501.21160889],\n",
       "       [ 503.73104858],\n",
       "       [ 495.37243652],\n",
       "       [ 516.55761719],\n",
       "       [ 513.97772217],\n",
       "       [ 495.42971802],\n",
       "       [ 505.57629395],\n",
       "       [ 509.0574646 ],\n",
       "       [ 509.22540283],\n",
       "       [ 505.78289795],\n",
       "       [ 497.01379395],\n",
       "       [ 500.6975708 ],\n",
       "       [ 502.59124756],\n",
       "       [ 498.53320312],\n",
       "       [ 504.67242432],\n",
       "       [ 506.29498291],\n",
       "       [ 475.72564697],\n",
       "       [ 492.16973877],\n",
       "       [ 492.48550415],\n",
       "       [ 499.69354248],\n",
       "       [ 500.75421143],\n",
       "       [ 510.37112427],\n",
       "       [ 516.41607666],\n",
       "       [ 497.35284424],\n",
       "       [ 495.24304199],\n",
       "       [ 498.36953735],\n",
       "       [ 489.45904541],\n",
       "       [ 494.43423462],\n",
       "       [ 497.47741699],\n",
       "       [ 505.8190918 ],\n",
       "       [ 504.28436279],\n",
       "       [ 501.32629395],\n",
       "       [ 498.0435791 ],\n",
       "       [ 486.56698608],\n",
       "       [ 496.72711182],\n",
       "       [ 493.07965088],\n",
       "       [ 504.66888428],\n",
       "       [ 498.94903564],\n",
       "       [ 504.85400391],\n",
       "       [ 513.89935303],\n",
       "       [ 492.37878418],\n",
       "       [ 499.35559082],\n",
       "       [ 488.84609985],\n",
       "       [ 515.29107666],\n",
       "       [ 489.40472412],\n",
       "       [ 505.32479858],\n",
       "       [ 489.97253418],\n",
       "       [ 512.44812012],\n",
       "       [ 496.64837646],\n",
       "       [ 491.50079346],\n",
       "       [ 504.42886353],\n",
       "       [ 519.68103027],\n",
       "       [ 488.02679443],\n",
       "       [ 496.87960815],\n",
       "       [ 513.17614746],\n",
       "       [ 500.04071045],\n",
       "       [ 486.53942871],\n",
       "       [ 512.70751953],\n",
       "       [ 494.44873047],\n",
       "       [ 499.3843689 ],\n",
       "       [ 499.61541748],\n",
       "       [ 497.83636475],\n",
       "       [ 493.70211792],\n",
       "       [ 503.36889648],\n",
       "       [ 512.61950684],\n",
       "       [ 489.73016357],\n",
       "       [ 491.81112671],\n",
       "       [ 500.45635986],\n",
       "       [ 500.80957031],\n",
       "       [ 508.64535522],\n",
       "       [ 492.98724365],\n",
       "       [ 498.75054932],\n",
       "       [ 498.7583313 ],\n",
       "       [ 488.51791382],\n",
       "       [ 504.97070312],\n",
       "       [ 489.89016724],\n",
       "       [ 507.75524902],\n",
       "       [ 501.90411377],\n",
       "       [ 479.94921875],\n",
       "       [ 497.12466431],\n",
       "       [ 501.9006958 ],\n",
       "       [ 481.59078979],\n",
       "       [ 518.68353271],\n",
       "       [ 491.61260986],\n",
       "       [ 496.98626709],\n",
       "       [ 491.95111084],\n",
       "       [ 511.13143921],\n",
       "       [ 500.00262451],\n",
       "       [ 491.74603271],\n",
       "       [ 493.82897949],\n",
       "       [ 487.01574707],\n",
       "       [ 493.42419434],\n",
       "       [ 491.54510498],\n",
       "       [ 498.12384033],\n",
       "       [ 497.30575562],\n",
       "       [ 503.50796509],\n",
       "       [ 494.72839355],\n",
       "       [ 500.48379517],\n",
       "       [ 485.34918213],\n",
       "       [ 475.48010254],\n",
       "       [ 507.34701538],\n",
       "       [ 489.55548096],\n",
       "       [ 496.44549561],\n",
       "       [ 506.08270264],\n",
       "       [ 513.17297363],\n",
       "       [ 507.59802246],\n",
       "       [ 506.08041382],\n",
       "       [ 487.03341675],\n",
       "       [ 496.14849854],\n",
       "       [ 495.71707153],\n",
       "       [ 488.18475342],\n",
       "       [ 480.71310425],\n",
       "       [ 506.85650635],\n",
       "       [ 490.85168457],\n",
       "       [ 492.74786377],\n",
       "       [ 498.16796875],\n",
       "       [ 496.39401245],\n",
       "       [ 484.9760437 ],\n",
       "       [ 515.0916748 ],\n",
       "       [ 496.31097412],\n",
       "       [ 522.0612793 ],\n",
       "       [ 505.75289917],\n",
       "       [ 490.1630249 ],\n",
       "       [ 502.07299805],\n",
       "       [ 506.65927124],\n",
       "       [ 501.05239868],\n",
       "       [ 506.83291626],\n",
       "       [ 494.33618164],\n",
       "       [ 510.52539062],\n",
       "       [ 502.12506104],\n",
       "       [ 504.86999512],\n",
       "       [ 498.22665405],\n",
       "       [ 508.46047974],\n",
       "       [ 498.1383667 ],\n",
       "       [ 510.59881592],\n",
       "       [ 488.60031128],\n",
       "       [ 499.93487549],\n",
       "       [ 497.8449707 ],\n",
       "       [ 504.46783447],\n",
       "       [ 502.79040527],\n",
       "       [ 490.78723145],\n",
       "       [ 486.61886597],\n",
       "       [ 508.41595459],\n",
       "       [ 496.33242798],\n",
       "       [ 489.30871582],\n",
       "       [ 500.12872314],\n",
       "       [ 499.60766602],\n",
       "       [ 509.97418213],\n",
       "       [ 502.91378784],\n",
       "       [ 508.0144043 ],\n",
       "       [ 490.16345215],\n",
       "       [ 495.47052002],\n",
       "       [ 498.52246094],\n",
       "       [ 482.89678955],\n",
       "       [ 502.32873535],\n",
       "       [ 508.16342163],\n",
       "       [ 499.91677856],\n",
       "       [ 508.63925171],\n",
       "       [ 503.83825684],\n",
       "       [ 491.53530884],\n",
       "       [ 504.05352783],\n",
       "       [ 507.859375  ],\n",
       "       [ 500.60653687],\n",
       "       [ 503.41113281],\n",
       "       [ 510.75463867],\n",
       "       [ 519.85235596],\n",
       "       [ 511.27035522],\n",
       "       [ 520.94683838],\n",
       "       [ 487.16513062],\n",
       "       [ 488.33908081],\n",
       "       [ 496.08966064],\n",
       "       [ 516.22668457],\n",
       "       [ 495.3772583 ],\n",
       "       [ 510.19067383],\n",
       "       [ 515.61853027],\n",
       "       [ 499.72085571],\n",
       "       [ 505.29327393],\n",
       "       [ 486.51580811],\n",
       "       [ 492.18225098],\n",
       "       [ 489.67599487],\n",
       "       [ 494.83078003],\n",
       "       [ 505.35888672],\n",
       "       [ 507.28289795],\n",
       "       [ 508.22277832],\n",
       "       [ 488.24511719],\n",
       "       [ 507.2824707 ],\n",
       "       [ 510.52130127],\n",
       "       [ 517.46374512],\n",
       "       [ 482.20687866],\n",
       "       [ 503.23577881],\n",
       "       [ 500.59173584],\n",
       "       [ 485.62249756],\n",
       "       [ 509.85516357],\n",
       "       [ 495.5743103 ],\n",
       "       [ 501.14276123],\n",
       "       [ 495.00195312],\n",
       "       [ 491.95230103],\n",
       "       [ 495.2946167 ],\n",
       "       [ 487.89324951],\n",
       "       [ 489.70910645],\n",
       "       [ 507.47772217],\n",
       "       [ 504.36373901],\n",
       "       [ 493.80609131],\n",
       "       [ 481.88897705],\n",
       "       [ 508.34729004],\n",
       "       [ 497.409729  ],\n",
       "       [ 489.79229736],\n",
       "       [ 492.97790527],\n",
       "       [ 512.05847168],\n",
       "       [ 492.72821045],\n",
       "       [ 491.57757568],\n",
       "       [ 496.00762939],\n",
       "       [ 506.49401855],\n",
       "       [ 497.70602417],\n",
       "       [ 503.63085938],\n",
       "       [ 490.53482056],\n",
       "       [ 489.43652344],\n",
       "       [ 505.1947937 ],\n",
       "       [ 503.72415161],\n",
       "       [ 491.10742188],\n",
       "       [ 511.92462158],\n",
       "       [ 489.83944702],\n",
       "       [ 507.04699707],\n",
       "       [ 510.42681885],\n",
       "       [ 501.89654541],\n",
       "       [ 501.42144775],\n",
       "       [ 502.81616211],\n",
       "       [ 493.20471191],\n",
       "       [ 492.63867188],\n",
       "       [ 521.96386719],\n",
       "       [ 497.57394409],\n",
       "       [ 501.78591919],\n",
       "       [ 492.26568604],\n",
       "       [ 487.38568115],\n",
       "       [ 498.28546143],\n",
       "       [ 493.15301514],\n",
       "       [ 508.80264282],\n",
       "       [ 492.42196655],\n",
       "       [ 492.73254395],\n",
       "       [ 504.45361328],\n",
       "       [ 491.59448242],\n",
       "       [ 513.99151611],\n",
       "       [ 499.23812866],\n",
       "       [ 496.0272522 ],\n",
       "       [ 509.91674805],\n",
       "       [ 498.80517578],\n",
       "       [ 486.08032227],\n",
       "       [ 501.31591797],\n",
       "       [ 501.24633789],\n",
       "       [ 499.42126465],\n",
       "       [ 491.45288086],\n",
       "       [ 504.64108276],\n",
       "       [ 517.20617676],\n",
       "       [ 502.68756104],\n",
       "       [ 494.75610352],\n",
       "       [ 510.21899414],\n",
       "       [ 502.33282471],\n",
       "       [ 497.81335449],\n",
       "       [ 491.69851685],\n",
       "       [ 500.05691528],\n",
       "       [ 506.20495605],\n",
       "       [ 504.89758301],\n",
       "       [ 507.56216431],\n",
       "       [ 499.77285767],\n",
       "       [ 488.51898193],\n",
       "       [ 487.39251709],\n",
       "       [ 488.16491699],\n",
       "       [ 505.8397522 ],\n",
       "       [ 505.3894043 ],\n",
       "       [ 486.88134766],\n",
       "       [ 501.34527588],\n",
       "       [ 498.85626221],\n",
       "       [ 503.13873291],\n",
       "       [ 503.98199463],\n",
       "       [ 505.84729004],\n",
       "       [ 491.38967896],\n",
       "       [ 505.85333252],\n",
       "       [ 493.9432373 ],\n",
       "       [ 511.6739502 ],\n",
       "       [ 505.84320068],\n",
       "       [ 507.50582886],\n",
       "       [ 502.04846191],\n",
       "       [ 492.59326172],\n",
       "       [ 499.79156494],\n",
       "       [ 504.73120117],\n",
       "       [ 511.61071777],\n",
       "       [ 492.65475464],\n",
       "       [ 494.26196289],\n",
       "       [ 500.53710938],\n",
       "       [ 494.30963135],\n",
       "       [ 502.44708252],\n",
       "       [ 511.29592896],\n",
       "       [ 492.33312988],\n",
       "       [ 499.91098022],\n",
       "       [ 497.25006104],\n",
       "       [ 498.80316162],\n",
       "       [ 516.84820557],\n",
       "       [ 482.84524536],\n",
       "       [ 487.91644287],\n",
       "       [ 499.66931152],\n",
       "       [ 502.21624756],\n",
       "       [ 480.67016602],\n",
       "       [ 492.32852173],\n",
       "       [ 525.45446777],\n",
       "       [ 495.06750488],\n",
       "       [ 508.76327515],\n",
       "       [ 496.52072144],\n",
       "       [ 503.1517334 ],\n",
       "       [ 509.89453125],\n",
       "       [ 508.88238525],\n",
       "       [ 475.95825195],\n",
       "       [ 514.63586426],\n",
       "       [ 504.98822021],\n",
       "       [ 496.40899658],\n",
       "       [ 510.2220459 ],\n",
       "       [ 499.87094116],\n",
       "       [ 495.27856445],\n",
       "       [ 502.16647339],\n",
       "       [ 498.4161377 ],\n",
       "       [ 506.05703735],\n",
       "       [ 492.77471924],\n",
       "       [ 509.65960693],\n",
       "       [ 495.86175537],\n",
       "       [ 509.2467041 ],\n",
       "       [ 501.15090942],\n",
       "       [ 504.32833862],\n",
       "       [ 499.2243042 ],\n",
       "       [ 506.28955078],\n",
       "       [ 503.11373901],\n",
       "       [ 502.42364502],\n",
       "       [ 496.93588257],\n",
       "       [ 505.36730957],\n",
       "       [ 502.7482605 ],\n",
       "       [ 511.01547241],\n",
       "       [ 492.47842407],\n",
       "       [ 492.0513916 ],\n",
       "       [ 499.90643311],\n",
       "       [ 476.05691528],\n",
       "       [ 494.0446167 ],\n",
       "       [ 526.01177979],\n",
       "       [ 512.08654785],\n",
       "       [ 515.84667969],\n",
       "       [ 498.18243408],\n",
       "       [ 489.54302979],\n",
       "       [ 497.64453125],\n",
       "       [ 505.02163696],\n",
       "       [ 500.61392212],\n",
       "       [ 497.88717651],\n",
       "       [ 488.1545105 ],\n",
       "       [ 497.34869385],\n",
       "       [ 490.0657959 ],\n",
       "       [ 501.02709961],\n",
       "       [ 510.7467041 ],\n",
       "       [ 506.93600464],\n",
       "       [ 502.07620239],\n",
       "       [ 496.78353882],\n",
       "       [ 494.59863281],\n",
       "       [ 490.58853149],\n",
       "       [ 488.47998047],\n",
       "       [ 496.62219238],\n",
       "       [ 494.6541748 ],\n",
       "       [ 496.58575439],\n",
       "       [ 500.36141968],\n",
       "       [ 497.96893311],\n",
       "       [ 494.2779541 ],\n",
       "       [ 525.93658447],\n",
       "       [ 520.76397705],\n",
       "       [ 501.95874023],\n",
       "       [ 507.74560547],\n",
       "       [ 507.55377197],\n",
       "       [ 503.92684937],\n",
       "       [ 490.60916138],\n",
       "       [ 487.07305908],\n",
       "       [ 491.91662598],\n",
       "       [ 492.68927002],\n",
       "       [ 498.85385132],\n",
       "       [ 497.59805298],\n",
       "       [ 508.13500977],\n",
       "       [ 499.54382324],\n",
       "       [ 497.64248657],\n",
       "       [ 503.85079956],\n",
       "       [ 515.58929443],\n",
       "       [ 516.07189941],\n",
       "       [ 497.35565186],\n",
       "       [ 501.92138672],\n",
       "       [ 502.91940308],\n",
       "       [ 486.80584717],\n",
       "       [ 506.19448853],\n",
       "       [ 497.36907959],\n",
       "       [ 501.37628174],\n",
       "       [ 517.87353516],\n",
       "       [ 498.68023682],\n",
       "       [ 507.5927124 ],\n",
       "       [ 512.70794678],\n",
       "       [ 495.61297607],\n",
       "       [ 477.66372681],\n",
       "       [ 494.38739014],\n",
       "       [ 507.39526367],\n",
       "       [ 520.35717773],\n",
       "       [ 515.88818359],\n",
       "       [ 495.50653076],\n",
       "       [ 486.33126831],\n",
       "       [ 503.44186401],\n",
       "       [ 503.01611328],\n",
       "       [ 504.95581055],\n",
       "       [ 489.13897705],\n",
       "       [ 508.60116577],\n",
       "       [ 496.1237793 ],\n",
       "       [ 489.08581543],\n",
       "       [ 492.62683105],\n",
       "       [ 489.91278076],\n",
       "       [ 513.51904297],\n",
       "       [ 497.63897705],\n",
       "       [ 486.35144043],\n",
       "       [ 494.2734375 ],\n",
       "       [ 512.75732422],\n",
       "       [ 492.85101318],\n",
       "       [ 507.50918579],\n",
       "       [ 508.59515381],\n",
       "       [ 497.76855469],\n",
       "       [ 519.6817627 ],\n",
       "       [ 489.01983643],\n",
       "       [ 493.87866211],\n",
       "       [ 498.65316772],\n",
       "       [ 493.53967285],\n",
       "       [ 484.35494995],\n",
       "       [ 513.43200684],\n",
       "       [ 504.18267822],\n",
       "       [ 512.8638916 ],\n",
       "       [ 496.90023804],\n",
       "       [ 502.4831543 ],\n",
       "       [ 493.10198975],\n",
       "       [ 497.54718018],\n",
       "       [ 499.35314941],\n",
       "       [ 507.1423645 ],\n",
       "       [ 499.0111084 ],\n",
       "       [ 495.08627319],\n",
       "       [ 491.14456177],\n",
       "       [ 500.52655029],\n",
       "       [ 497.07855225],\n",
       "       [ 499.97753906],\n",
       "       [ 503.13397217],\n",
       "       [ 504.95593262],\n",
       "       [ 483.47155762],\n",
       "       [ 477.55923462],\n",
       "       [ 494.59289551],\n",
       "       [ 508.48471069],\n",
       "       [ 505.11956787],\n",
       "       [ 517.77416992],\n",
       "       [ 494.91168213],\n",
       "       [ 514.60668945],\n",
       "       [ 499.01794434],\n",
       "       [ 510.43969727],\n",
       "       [ 493.98748779],\n",
       "       [ 499.61044312],\n",
       "       [ 503.82559204],\n",
       "       [ 511.82202148],\n",
       "       [ 500.37390137],\n",
       "       [ 492.40960693],\n",
       "       [ 510.1206665 ],\n",
       "       [ 507.78863525],\n",
       "       [ 496.48388672],\n",
       "       [ 510.12185669],\n",
       "       [ 495.22927856],\n",
       "       [ 514.44958496],\n",
       "       [ 480.80316162],\n",
       "       [ 514.85980225],\n",
       "       [ 503.84848022],\n",
       "       [ 517.9909668 ],\n",
       "       [ 495.78875732],\n",
       "       [ 514.5       ],\n",
       "       [ 501.04019165],\n",
       "       [ 485.06030273],\n",
       "       [ 487.84039307],\n",
       "       [ 502.14077759],\n",
       "       [ 491.97570801],\n",
       "       [ 503.88290405],\n",
       "       [ 507.20925903],\n",
       "       [ 490.04830933],\n",
       "       [ 487.01202393],\n",
       "       [ 512.2722168 ],\n",
       "       [ 478.79925537],\n",
       "       [ 490.56610107],\n",
       "       [ 506.38208008],\n",
       "       [ 513.84466553],\n",
       "       [ 501.54107666],\n",
       "       [ 493.51620483],\n",
       "       [ 486.3416748 ],\n",
       "       [ 504.75543213],\n",
       "       [ 499.37207031],\n",
       "       [ 499.59692383],\n",
       "       [ 504.55554199],\n",
       "       [ 505.09402466],\n",
       "       [ 504.8737793 ],\n",
       "       [ 514.81890869],\n",
       "       [ 501.53955078],\n",
       "       [ 506.95031738],\n",
       "       [ 501.27822876],\n",
       "       [ 518.20458984],\n",
       "       [ 505.38363647],\n",
       "       [ 484.30950928],\n",
       "       [ 497.67929077],\n",
       "       [ 504.21697998],\n",
       "       [ 505.39447021],\n",
       "       [ 475.6373291 ],\n",
       "       [ 490.99880981],\n",
       "       [ 497.49630737],\n",
       "       [ 507.35998535],\n",
       "       [ 495.18688965],\n",
       "       [ 494.67779541],\n",
       "       [ 494.84191895],\n",
       "       [ 504.70410156],\n",
       "       [ 499.22628784],\n",
       "       [ 508.38043213],\n",
       "       [ 501.96331787],\n",
       "       [ 476.0355835 ],\n",
       "       [ 503.29602051],\n",
       "       [ 510.25244141],\n",
       "       [ 500.28192139],\n",
       "       [ 494.56765747],\n",
       "       [ 486.00628662],\n",
       "       [ 496.49914551],\n",
       "       [ 494.63000488],\n",
       "       [ 505.19848633],\n",
       "       [ 491.96212769],\n",
       "       [ 486.50039673],\n",
       "       [ 483.12023926],\n",
       "       [ 503.35968018],\n",
       "       [ 507.72814941],\n",
       "       [ 489.67852783],\n",
       "       [ 508.76742554],\n",
       "       [ 516.73022461],\n",
       "       [ 510.26428223],\n",
       "       [ 495.74688721],\n",
       "       [ 492.02038574],\n",
       "       [ 504.9979248 ],\n",
       "       [ 510.54217529],\n",
       "       [ 507.18280029],\n",
       "       [ 494.69345093],\n",
       "       [ 491.25079346],\n",
       "       [ 500.41436768],\n",
       "       [ 487.81378174],\n",
       "       [ 495.09130859],\n",
       "       [ 494.62304688],\n",
       "       [ 505.33050537],\n",
       "       [ 489.60916138],\n",
       "       [ 504.37368774],\n",
       "       [ 528.05889893],\n",
       "       [ 510.46459961],\n",
       "       [ 504.68792725],\n",
       "       [ 498.54840088],\n",
       "       [ 506.73175049],\n",
       "       [ 492.95849609],\n",
       "       [ 502.73608398],\n",
       "       [ 503.48638916],\n",
       "       [ 497.67089844],\n",
       "       [ 498.19378662],\n",
       "       [ 508.81253052],\n",
       "       [ 509.47439575],\n",
       "       [ 498.32485962],\n",
       "       [ 517.33190918],\n",
       "       [ 498.62619019],\n",
       "       [ 492.07446289],\n",
       "       [ 511.23999023],\n",
       "       [ 497.2230835 ],\n",
       "       [ 499.54693604],\n",
       "       [ 508.68432617],\n",
       "       [ 506.61993408],\n",
       "       [ 488.85354614],\n",
       "       [ 504.04318237],\n",
       "       [ 494.4901123 ],\n",
       "       [ 494.56604004],\n",
       "       [ 500.44763184],\n",
       "       [ 499.52081299],\n",
       "       [ 499.99890137],\n",
       "       [ 488.11462402],\n",
       "       [ 504.05761719],\n",
       "       [ 512.35253906],\n",
       "       [ 501.66571045],\n",
       "       [ 505.29266357],\n",
       "       [ 492.49908447],\n",
       "       [ 479.88690186],\n",
       "       [ 497.98953247],\n",
       "       [ 492.27471924],\n",
       "       [ 499.0043335 ],\n",
       "       [ 500.1368103 ],\n",
       "       [ 494.6729126 ],\n",
       "       [ 504.79147339],\n",
       "       [ 491.71340942],\n",
       "       [ 499.07952881],\n",
       "       [ 506.72229004],\n",
       "       [ 485.29678345],\n",
       "       [ 499.49801636],\n",
       "       [ 493.7935791 ],\n",
       "       [ 498.99041748],\n",
       "       [ 495.10009766],\n",
       "       [ 504.00970459],\n",
       "       [ 497.22265625],\n",
       "       [ 487.75109863],\n",
       "       [ 487.4168396 ],\n",
       "       [ 511.92785645],\n",
       "       [ 499.82324219],\n",
       "       [ 501.2833252 ],\n",
       "       [ 502.39868164],\n",
       "       [ 510.78768921],\n",
       "       [ 507.29263306],\n",
       "       [ 494.70611572],\n",
       "       [ 495.18237305],\n",
       "       [ 482.92068481],\n",
       "       [ 500.95373535],\n",
       "       [ 486.3298645 ],\n",
       "       [ 487.62237549],\n",
       "       [ 493.65441895],\n",
       "       [ 506.2684021 ],\n",
       "       [ 498.64260864],\n",
       "       [ 503.15542603],\n",
       "       [ 500.05484009],\n",
       "       [ 498.66033936],\n",
       "       [ 504.3526001 ],\n",
       "       [ 491.4631958 ],\n",
       "       [ 503.93682861],\n",
       "       [ 487.42791748],\n",
       "       [ 509.05126953],\n",
       "       [ 490.02624512],\n",
       "       [ 489.0390625 ],\n",
       "       [ 489.71411133],\n",
       "       [ 501.34747314],\n",
       "       [ 503.99743652],\n",
       "       [ 505.63842773],\n",
       "       [ 496.63983154],\n",
       "       [ 507.85647583],\n",
       "       [ 492.96917725],\n",
       "       [ 496.84976196],\n",
       "       [ 498.99655151],\n",
       "       [ 504.34353638],\n",
       "       [ 500.00732422],\n",
       "       [ 480.43579102],\n",
       "       [ 513.67712402],\n",
       "       [ 497.13256836],\n",
       "       [ 513.75604248],\n",
       "       [ 493.2124939 ],\n",
       "       [ 491.96096802],\n",
       "       [ 512.6105957 ],\n",
       "       [ 512.76586914],\n",
       "       [ 496.61737061],\n",
       "       [ 502.61178589],\n",
       "       [ 484.65948486],\n",
       "       [ 499.75524902],\n",
       "       [ 496.21234131],\n",
       "       [ 496.26763916],\n",
       "       [ 489.22323608],\n",
       "       [ 499.03881836],\n",
       "       [ 487.2744751 ],\n",
       "       [ 499.50195312],\n",
       "       [ 500.478302  ],\n",
       "       [ 497.58514404],\n",
       "       [ 500.63745117],\n",
       "       [ 510.61114502],\n",
       "       [ 498.94888306],\n",
       "       [ 493.15722656],\n",
       "       [ 501.39266968],\n",
       "       [ 487.81921387],\n",
       "       [ 513.08312988],\n",
       "       [ 489.70098877],\n",
       "       [ 507.65466309],\n",
       "       [ 506.64666748],\n",
       "       [ 503.91845703],\n",
       "       [ 493.24780273],\n",
       "       [ 487.31918335],\n",
       "       [ 491.99588013],\n",
       "       [ 501.23065186],\n",
       "       [ 490.78726196],\n",
       "       [ 513.84814453],\n",
       "       [ 503.61373901],\n",
       "       [ 498.66320801],\n",
       "       [ 507.43951416]], dtype=float32)"
      ]
     },
     "execution_count": 22,
     "metadata": {},
     "output_type": "execute_result"
    }
   ],
   "source": [
    "sess.run(tf.matmul(W, x))"
   ]
  },
  {
   "cell_type": "code",
   "execution_count": 23,
   "metadata": {
    "collapsed": true,
    "deletable": true,
    "editable": true
   },
   "outputs": [],
   "source": [
    "graph = tf.get_default_graph()\n",
    "summary_writer = tf.summary.FileWriter(\"/Users/driver.dan12/Temp\", graph)\n",
    "summary_writer.flush()"
   ]
  },
  {
   "cell_type": "markdown",
   "metadata": {
    "deletable": true,
    "editable": true
   },
   "source": [
    "http://localhost:6006 for Tensorboard and the computation graph is ![graph3.png](graph3.png)"
   ]
  },
  {
   "cell_type": "code",
   "execution_count": 24,
   "metadata": {
    "collapsed": true,
    "deletable": true,
    "editable": true
   },
   "outputs": [],
   "source": [
    "sess.close()\n",
    "tf.reset_default_graph()"
   ]
  },
  {
   "cell_type": "markdown",
   "metadata": {
    "deletable": true,
    "editable": true
   },
   "source": [
    "## Numpy Style Slicing is Not Supported!\n",
    "\n",
    "Slicing a matrix requires reshaping into a vector and using an index vector.\n",
    "\n",
    "## Let's Look at Linear Regression in TensorFlow\n",
    "\n",
    "For another example, see http://tneal.org/post/tensorflow-iris/TensorFlowIris/."
   ]
  },
  {
   "cell_type": "code",
   "execution_count": 25,
   "metadata": {
    "collapsed": true,
    "deletable": true,
    "editable": true
   },
   "outputs": [],
   "source": [
    "w=tf.Variable(tf.random_uniform([4, 1]))"
   ]
  },
  {
   "cell_type": "code",
   "execution_count": 26,
   "metadata": {
    "collapsed": true,
    "deletable": true,
    "editable": true
   },
   "outputs": [],
   "source": [
    "sess = tf.Session()"
   ]
  },
  {
   "cell_type": "code",
   "execution_count": 27,
   "metadata": {
    "collapsed": false,
    "deletable": true,
    "editable": true,
    "scrolled": true
   },
   "outputs": [
    {
     "ename": "FailedPreconditionError",
     "evalue": "Attempting to use uninitialized value Variable\n\t [[Node: _send_Variable_0 = _Send[T=DT_FLOAT, client_terminated=true, recv_device=\"/job:localhost/replica:0/task:0/cpu:0\", send_device=\"/job:localhost/replica:0/task:0/cpu:0\", send_device_incarnation=545785210948208991, tensor_name=\"Variable:0\", _device=\"/job:localhost/replica:0/task:0/cpu:0\"](Variable)]]",
     "output_type": "error",
     "traceback": [
      "\u001b[0;31m---------------------------------------------------------------------------\u001b[0m",
      "\u001b[0;31mFailedPreconditionError\u001b[0m                   Traceback (most recent call last)",
      "\u001b[0;32m/Applications/anaconda/lib/python3.5/site-packages/tensorflow/python/client/session.py\u001b[0m in \u001b[0;36m_do_call\u001b[0;34m(self, fn, *args)\u001b[0m\n\u001b[1;32m   1021\u001b[0m     \u001b[0;32mtry\u001b[0m\u001b[0;34m:\u001b[0m\u001b[0;34m\u001b[0m\u001b[0m\n\u001b[0;32m-> 1022\u001b[0;31m       \u001b[0;32mreturn\u001b[0m \u001b[0mfn\u001b[0m\u001b[0;34m(\u001b[0m\u001b[0;34m*\u001b[0m\u001b[0margs\u001b[0m\u001b[0;34m)\u001b[0m\u001b[0;34m\u001b[0m\u001b[0m\n\u001b[0m\u001b[1;32m   1023\u001b[0m     \u001b[0;32mexcept\u001b[0m \u001b[0merrors\u001b[0m\u001b[0;34m.\u001b[0m\u001b[0mOpError\u001b[0m \u001b[0;32mas\u001b[0m \u001b[0me\u001b[0m\u001b[0;34m:\u001b[0m\u001b[0;34m\u001b[0m\u001b[0m\n",
      "\u001b[0;32m/Applications/anaconda/lib/python3.5/site-packages/tensorflow/python/client/session.py\u001b[0m in \u001b[0;36m_run_fn\u001b[0;34m(session, feed_dict, fetch_list, target_list, options, run_metadata)\u001b[0m\n\u001b[1;32m   1003\u001b[0m                                  \u001b[0mfeed_dict\u001b[0m\u001b[0;34m,\u001b[0m \u001b[0mfetch_list\u001b[0m\u001b[0;34m,\u001b[0m \u001b[0mtarget_list\u001b[0m\u001b[0;34m,\u001b[0m\u001b[0;34m\u001b[0m\u001b[0m\n\u001b[0;32m-> 1004\u001b[0;31m                                  status, run_metadata)\n\u001b[0m\u001b[1;32m   1005\u001b[0m \u001b[0;34m\u001b[0m\u001b[0m\n",
      "\u001b[0;32m/Applications/anaconda/lib/python3.5/contextlib.py\u001b[0m in \u001b[0;36m__exit__\u001b[0;34m(self, type, value, traceback)\u001b[0m\n\u001b[1;32m     65\u001b[0m             \u001b[0;32mtry\u001b[0m\u001b[0;34m:\u001b[0m\u001b[0;34m\u001b[0m\u001b[0m\n\u001b[0;32m---> 66\u001b[0;31m                 \u001b[0mnext\u001b[0m\u001b[0;34m(\u001b[0m\u001b[0mself\u001b[0m\u001b[0;34m.\u001b[0m\u001b[0mgen\u001b[0m\u001b[0;34m)\u001b[0m\u001b[0;34m\u001b[0m\u001b[0m\n\u001b[0m\u001b[1;32m     67\u001b[0m             \u001b[0;32mexcept\u001b[0m \u001b[0mStopIteration\u001b[0m\u001b[0;34m:\u001b[0m\u001b[0;34m\u001b[0m\u001b[0m\n",
      "\u001b[0;32m/Applications/anaconda/lib/python3.5/site-packages/tensorflow/python/framework/errors_impl.py\u001b[0m in \u001b[0;36mraise_exception_on_not_ok_status\u001b[0;34m()\u001b[0m\n\u001b[1;32m    465\u001b[0m           \u001b[0mcompat\u001b[0m\u001b[0;34m.\u001b[0m\u001b[0mas_text\u001b[0m\u001b[0;34m(\u001b[0m\u001b[0mpywrap_tensorflow\u001b[0m\u001b[0;34m.\u001b[0m\u001b[0mTF_Message\u001b[0m\u001b[0;34m(\u001b[0m\u001b[0mstatus\u001b[0m\u001b[0;34m)\u001b[0m\u001b[0;34m)\u001b[0m\u001b[0;34m,\u001b[0m\u001b[0;34m\u001b[0m\u001b[0m\n\u001b[0;32m--> 466\u001b[0;31m           pywrap_tensorflow.TF_GetCode(status))\n\u001b[0m\u001b[1;32m    467\u001b[0m   \u001b[0;32mfinally\u001b[0m\u001b[0;34m:\u001b[0m\u001b[0;34m\u001b[0m\u001b[0m\n",
      "\u001b[0;31mFailedPreconditionError\u001b[0m: Attempting to use uninitialized value Variable\n\t [[Node: _send_Variable_0 = _Send[T=DT_FLOAT, client_terminated=true, recv_device=\"/job:localhost/replica:0/task:0/cpu:0\", send_device=\"/job:localhost/replica:0/task:0/cpu:0\", send_device_incarnation=545785210948208991, tensor_name=\"Variable:0\", _device=\"/job:localhost/replica:0/task:0/cpu:0\"](Variable)]]",
      "\nDuring handling of the above exception, another exception occurred:\n",
      "\u001b[0;31mFailedPreconditionError\u001b[0m                   Traceback (most recent call last)",
      "\u001b[0;32m<ipython-input-27-e7d66903f6cd>\u001b[0m in \u001b[0;36m<module>\u001b[0;34m()\u001b[0m\n\u001b[0;32m----> 1\u001b[0;31m \u001b[0msess\u001b[0m\u001b[0;34m.\u001b[0m\u001b[0mrun\u001b[0m\u001b[0;34m(\u001b[0m\u001b[0mw\u001b[0m\u001b[0;34m)\u001b[0m\u001b[0;34m\u001b[0m\u001b[0m\n\u001b[0m",
      "\u001b[0;32m/Applications/anaconda/lib/python3.5/site-packages/tensorflow/python/client/session.py\u001b[0m in \u001b[0;36mrun\u001b[0;34m(self, fetches, feed_dict, options, run_metadata)\u001b[0m\n\u001b[1;32m    765\u001b[0m     \u001b[0;32mtry\u001b[0m\u001b[0;34m:\u001b[0m\u001b[0;34m\u001b[0m\u001b[0m\n\u001b[1;32m    766\u001b[0m       result = self._run(None, fetches, feed_dict, options_ptr,\n\u001b[0;32m--> 767\u001b[0;31m                          run_metadata_ptr)\n\u001b[0m\u001b[1;32m    768\u001b[0m       \u001b[0;32mif\u001b[0m \u001b[0mrun_metadata\u001b[0m\u001b[0;34m:\u001b[0m\u001b[0;34m\u001b[0m\u001b[0m\n\u001b[1;32m    769\u001b[0m         \u001b[0mproto_data\u001b[0m \u001b[0;34m=\u001b[0m \u001b[0mtf_session\u001b[0m\u001b[0;34m.\u001b[0m\u001b[0mTF_GetBuffer\u001b[0m\u001b[0;34m(\u001b[0m\u001b[0mrun_metadata_ptr\u001b[0m\u001b[0;34m)\u001b[0m\u001b[0;34m\u001b[0m\u001b[0m\n",
      "\u001b[0;32m/Applications/anaconda/lib/python3.5/site-packages/tensorflow/python/client/session.py\u001b[0m in \u001b[0;36m_run\u001b[0;34m(self, handle, fetches, feed_dict, options, run_metadata)\u001b[0m\n\u001b[1;32m    963\u001b[0m     \u001b[0;32mif\u001b[0m \u001b[0mfinal_fetches\u001b[0m \u001b[0;32mor\u001b[0m \u001b[0mfinal_targets\u001b[0m\u001b[0;34m:\u001b[0m\u001b[0;34m\u001b[0m\u001b[0m\n\u001b[1;32m    964\u001b[0m       results = self._do_run(handle, final_targets, final_fetches,\n\u001b[0;32m--> 965\u001b[0;31m                              feed_dict_string, options, run_metadata)\n\u001b[0m\u001b[1;32m    966\u001b[0m     \u001b[0;32melse\u001b[0m\u001b[0;34m:\u001b[0m\u001b[0;34m\u001b[0m\u001b[0m\n\u001b[1;32m    967\u001b[0m       \u001b[0mresults\u001b[0m \u001b[0;34m=\u001b[0m \u001b[0;34m[\u001b[0m\u001b[0;34m]\u001b[0m\u001b[0;34m\u001b[0m\u001b[0m\n",
      "\u001b[0;32m/Applications/anaconda/lib/python3.5/site-packages/tensorflow/python/client/session.py\u001b[0m in \u001b[0;36m_do_run\u001b[0;34m(self, handle, target_list, fetch_list, feed_dict, options, run_metadata)\u001b[0m\n\u001b[1;32m   1013\u001b[0m     \u001b[0;32mif\u001b[0m \u001b[0mhandle\u001b[0m \u001b[0;32mis\u001b[0m \u001b[0;32mNone\u001b[0m\u001b[0;34m:\u001b[0m\u001b[0;34m\u001b[0m\u001b[0m\n\u001b[1;32m   1014\u001b[0m       return self._do_call(_run_fn, self._session, feed_dict, fetch_list,\n\u001b[0;32m-> 1015\u001b[0;31m                            target_list, options, run_metadata)\n\u001b[0m\u001b[1;32m   1016\u001b[0m     \u001b[0;32melse\u001b[0m\u001b[0;34m:\u001b[0m\u001b[0;34m\u001b[0m\u001b[0m\n\u001b[1;32m   1017\u001b[0m       return self._do_call(_prun_fn, self._session, handle, feed_dict,\n",
      "\u001b[0;32m/Applications/anaconda/lib/python3.5/site-packages/tensorflow/python/client/session.py\u001b[0m in \u001b[0;36m_do_call\u001b[0;34m(self, fn, *args)\u001b[0m\n\u001b[1;32m   1033\u001b[0m         \u001b[0;32mexcept\u001b[0m \u001b[0mKeyError\u001b[0m\u001b[0;34m:\u001b[0m\u001b[0;34m\u001b[0m\u001b[0m\n\u001b[1;32m   1034\u001b[0m           \u001b[0;32mpass\u001b[0m\u001b[0;34m\u001b[0m\u001b[0m\n\u001b[0;32m-> 1035\u001b[0;31m       \u001b[0;32mraise\u001b[0m \u001b[0mtype\u001b[0m\u001b[0;34m(\u001b[0m\u001b[0me\u001b[0m\u001b[0;34m)\u001b[0m\u001b[0;34m(\u001b[0m\u001b[0mnode_def\u001b[0m\u001b[0;34m,\u001b[0m \u001b[0mop\u001b[0m\u001b[0;34m,\u001b[0m \u001b[0mmessage\u001b[0m\u001b[0;34m)\u001b[0m\u001b[0;34m\u001b[0m\u001b[0m\n\u001b[0m\u001b[1;32m   1036\u001b[0m \u001b[0;34m\u001b[0m\u001b[0m\n\u001b[1;32m   1037\u001b[0m   \u001b[0;32mdef\u001b[0m \u001b[0m_extend_graph\u001b[0m\u001b[0;34m(\u001b[0m\u001b[0mself\u001b[0m\u001b[0;34m)\u001b[0m\u001b[0;34m:\u001b[0m\u001b[0;34m\u001b[0m\u001b[0m\n",
      "\u001b[0;31mFailedPreconditionError\u001b[0m: Attempting to use uninitialized value Variable\n\t [[Node: _send_Variable_0 = _Send[T=DT_FLOAT, client_terminated=true, recv_device=\"/job:localhost/replica:0/task:0/cpu:0\", send_device=\"/job:localhost/replica:0/task:0/cpu:0\", send_device_incarnation=545785210948208991, tensor_name=\"Variable:0\", _device=\"/job:localhost/replica:0/task:0/cpu:0\"](Variable)]]"
     ]
    }
   ],
   "source": [
    "sess.run(w)"
   ]
  },
  {
   "cell_type": "code",
   "execution_count": 28,
   "metadata": {
    "collapsed": true,
    "deletable": true,
    "editable": true
   },
   "outputs": [],
   "source": [
    "sess.run(tf.global_variables_initializer())"
   ]
  },
  {
   "cell_type": "code",
   "execution_count": 29,
   "metadata": {
    "collapsed": false,
    "deletable": true,
    "editable": true
   },
   "outputs": [
    {
     "data": {
      "text/plain": [
       "array([[ 0.21173167],\n",
       "       [ 0.71594012],\n",
       "       [ 0.55553162],\n",
       "       [ 0.00845778]], dtype=float32)"
      ]
     },
     "execution_count": 29,
     "metadata": {},
     "output_type": "execute_result"
    }
   ],
   "source": [
    "sess.run(w)"
   ]
  },
  {
   "cell_type": "code",
   "execution_count": 30,
   "metadata": {
    "collapsed": true,
    "deletable": true,
    "editable": true
   },
   "outputs": [],
   "source": [
    "def f(X):\n",
    "\treturn tf.matmul(X, w)"
   ]
  },
  {
   "cell_type": "code",
   "execution_count": 31,
   "metadata": {
    "collapsed": true,
    "deletable": true,
    "editable": true
   },
   "outputs": [],
   "source": [
    "def objective(X, Y):\n",
    "\treturn tf.reduce_sum(tf.square(tf.subtract(Y,f(X))))"
   ]
  },
  {
   "cell_type": "markdown",
   "metadata": {
    "deletable": true,
    "editable": true
   },
   "source": [
    "Let's generate some synthetic data, and see how we can get a numpy array into TensorFlow."
   ]
  },
  {
   "cell_type": "code",
   "execution_count": 32,
   "metadata": {
    "collapsed": false,
    "deletable": true,
    "editable": true
   },
   "outputs": [
    {
     "data": {
      "text/plain": [
       "array([[ 1.,  2.,  3.,  4.]], dtype=float32)"
      ]
     },
     "execution_count": 32,
     "metadata": {},
     "output_type": "execute_result"
    }
   ],
   "source": [
    "a = np.array([[1, 2, 3, 4]], dtype=np.float32)\n",
    "a"
   ]
  },
  {
   "cell_type": "code",
   "execution_count": 33,
   "metadata": {
    "collapsed": false,
    "deletable": true,
    "editable": true
   },
   "outputs": [
    {
     "data": {
      "text/plain": [
       "array([[ 0.2978405 ,  0.51167069,  0.21030663,  0.8166861 ],\n",
       "       [ 0.8610743 ,  0.73845028,  0.86269288,  0.43507281],\n",
       "       [ 0.0254931 ,  0.59831671,  0.81338779,  0.29694047],\n",
       "       ..., \n",
       "       [ 0.56366656,  0.39858554,  0.45267797,  0.89401097],\n",
       "       [ 0.56901679,  0.5466776 ,  0.70618478,  0.59461648],\n",
       "       [ 0.34110282,  0.86880576,  0.45805236,  0.75228494]])"
      ]
     },
     "execution_count": 33,
     "metadata": {},
     "output_type": "execute_result"
    }
   ],
   "source": [
    "XX = np.random.rand(10000, 4)\n",
    "XX"
   ]
  },
  {
   "cell_type": "code",
   "execution_count": 34,
   "metadata": {
    "collapsed": false,
    "deletable": true,
    "editable": true
   },
   "outputs": [
    {
     "data": {
      "text/plain": [
       "array([[ 5.21884618],\n",
       "       [ 6.66634475],\n",
       "       [ 4.8500518 ],\n",
       "       ..., \n",
       "       [ 6.2949154 ],\n",
       "       [ 6.15939224],\n",
       "       [ 6.46201116]])"
      ]
     },
     "execution_count": 34,
     "metadata": {},
     "output_type": "execute_result"
    }
   ],
   "source": [
    "YY = np.dot(XX, a.transpose())\n",
    "YY"
   ]
  },
  {
   "cell_type": "code",
   "execution_count": 35,
   "metadata": {
    "collapsed": true,
    "deletable": true,
    "editable": true
   },
   "outputs": [],
   "source": [
    "X = tf.placeholder(tf.float32, [None, 4])\n",
    "Y = tf.placeholder(tf.float32, [None, 1])"
   ]
  },
  {
   "cell_type": "markdown",
   "metadata": {
    "deletable": true,
    "editable": true
   },
   "source": [
    "**Automatic differentiation** at work here - no more calculus by hand."
   ]
  },
  {
   "cell_type": "code",
   "execution_count": 36,
   "metadata": {
    "collapsed": false,
    "deletable": true,
    "editable": true
   },
   "outputs": [],
   "source": [
    "grad = tf.gradients(objective(X,Y), [w])"
   ]
  },
  {
   "cell_type": "markdown",
   "metadata": {
    "deletable": true,
    "editable": true
   },
   "source": [
    "Let's set up the optimization problem. We want to adjust the weights ```w``` in order to mimimize the sum of squared differences.\n",
    "\n",
    "```python\n",
    "def objective(X, Y):\n",
    "    return tf.reduce_sum(tf.square(tf.subtract(Y,f(X))))\n",
    "```"
   ]
  },
  {
   "cell_type": "code",
   "execution_count": 37,
   "metadata": {
    "collapsed": true,
    "deletable": true,
    "editable": true
   },
   "outputs": [],
   "source": [
    "step = tf.constant(1e-5)"
   ]
  },
  {
   "cell_type": "code",
   "execution_count": 38,
   "metadata": {
    "collapsed": false,
    "deletable": true,
    "editable": true
   },
   "outputs": [],
   "source": [
    "sess.run(tf.global_variables_initializer())"
   ]
  },
  {
   "cell_type": "code",
   "execution_count": 39,
   "metadata": {
    "collapsed": false,
    "deletable": true,
    "editable": true
   },
   "outputs": [],
   "source": [
    "for i in range(200):\n",
    "\tsess.run(tf.assign_add(w, tf.multiply(-step, grad[0])), feed_dict={X:XX, Y:YY})"
   ]
  },
  {
   "cell_type": "code",
   "execution_count": 40,
   "metadata": {
    "collapsed": false,
    "deletable": true,
    "editable": true
   },
   "outputs": [
    {
     "data": {
      "text/plain": [
       "array([[ 1.05474031],\n",
       "       [ 2.00871181],\n",
       "       [ 2.98940301],\n",
       "       [ 3.94768739]], dtype=float32)"
      ]
     },
     "execution_count": 40,
     "metadata": {},
     "output_type": "execute_result"
    }
   ],
   "source": [
    "sess.run(w)"
   ]
  },
  {
   "cell_type": "markdown",
   "metadata": {
    "deletable": true,
    "editable": true
   },
   "source": [
    "What is ```w```? Remember, we're trying to find the weights that fit\n",
    "\n",
    "```python\n",
    "def f(X):\n",
    "\treturn tf.matmul(X, w)\n",
    "```\n",
    "\n",
    "to ```Y```."
   ]
  },
  {
   "cell_type": "code",
   "execution_count": 41,
   "metadata": {
    "collapsed": false,
    "deletable": true,
    "editable": true
   },
   "outputs": [
    {
     "ename": "InvalidArgumentError",
     "evalue": "You must feed a value for placeholder tensor 'Placeholder' with dtype float\n\t [[Node: Placeholder = Placeholder[dtype=DT_FLOAT, shape=[], _device=\"/job:localhost/replica:0/task:0/cpu:0\"]()]]\n\nCaused by op 'Placeholder', defined at:\n  File \"/Applications/anaconda/lib/python3.5/runpy.py\", line 193, in _run_module_as_main\n    \"__main__\", mod_spec)\n  File \"/Applications/anaconda/lib/python3.5/runpy.py\", line 85, in _run_code\n    exec(code, run_globals)\n  File \"/Applications/anaconda/lib/python3.5/site-packages/ipykernel/__main__.py\", line 3, in <module>\n    app.launch_new_instance()\n  File \"/Applications/anaconda/lib/python3.5/site-packages/traitlets/config/application.py\", line 658, in launch_instance\n    app.start()\n  File \"/Applications/anaconda/lib/python3.5/site-packages/ipykernel/kernelapp.py\", line 474, in start\n    ioloop.IOLoop.instance().start()\n  File \"/Applications/anaconda/lib/python3.5/site-packages/zmq/eventloop/ioloop.py\", line 177, in start\n    super(ZMQIOLoop, self).start()\n  File \"/Applications/anaconda/lib/python3.5/site-packages/tornado/ioloop.py\", line 887, in start\n    handler_func(fd_obj, events)\n  File \"/Applications/anaconda/lib/python3.5/site-packages/tornado/stack_context.py\", line 275, in null_wrapper\n    return fn(*args, **kwargs)\n  File \"/Applications/anaconda/lib/python3.5/site-packages/zmq/eventloop/zmqstream.py\", line 440, in _handle_events\n    self._handle_recv()\n  File \"/Applications/anaconda/lib/python3.5/site-packages/zmq/eventloop/zmqstream.py\", line 472, in _handle_recv\n    self._run_callback(callback, msg)\n  File \"/Applications/anaconda/lib/python3.5/site-packages/zmq/eventloop/zmqstream.py\", line 414, in _run_callback\n    callback(*args, **kwargs)\n  File \"/Applications/anaconda/lib/python3.5/site-packages/tornado/stack_context.py\", line 275, in null_wrapper\n    return fn(*args, **kwargs)\n  File \"/Applications/anaconda/lib/python3.5/site-packages/ipykernel/kernelbase.py\", line 276, in dispatcher\n    return self.dispatch_shell(stream, msg)\n  File \"/Applications/anaconda/lib/python3.5/site-packages/ipykernel/kernelbase.py\", line 228, in dispatch_shell\n    handler(stream, idents, msg)\n  File \"/Applications/anaconda/lib/python3.5/site-packages/ipykernel/kernelbase.py\", line 390, in execute_request\n    user_expressions, allow_stdin)\n  File \"/Applications/anaconda/lib/python3.5/site-packages/ipykernel/ipkernel.py\", line 196, in do_execute\n    res = shell.run_cell(code, store_history=store_history, silent=silent)\n  File \"/Applications/anaconda/lib/python3.5/site-packages/ipykernel/zmqshell.py\", line 501, in run_cell\n    return super(ZMQInteractiveShell, self).run_cell(*args, **kwargs)\n  File \"/Applications/anaconda/lib/python3.5/site-packages/IPython/core/interactiveshell.py\", line 2717, in run_cell\n    interactivity=interactivity, compiler=compiler, result=result)\n  File \"/Applications/anaconda/lib/python3.5/site-packages/IPython/core/interactiveshell.py\", line 2821, in run_ast_nodes\n    if self.run_code(code, result):\n  File \"/Applications/anaconda/lib/python3.5/site-packages/IPython/core/interactiveshell.py\", line 2881, in run_code\n    exec(code_obj, self.user_global_ns, self.user_ns)\n  File \"<ipython-input-35-bfdb0d5263c1>\", line 1, in <module>\n    X = tf.placeholder(tf.float32, [None, 4])\n  File \"/Applications/anaconda/lib/python3.5/site-packages/tensorflow/python/ops/array_ops.py\", line 1502, in placeholder\n    name=name)\n  File \"/Applications/anaconda/lib/python3.5/site-packages/tensorflow/python/ops/gen_array_ops.py\", line 2149, in _placeholder\n    name=name)\n  File \"/Applications/anaconda/lib/python3.5/site-packages/tensorflow/python/framework/op_def_library.py\", line 763, in apply_op\n    op_def=op_def)\n  File \"/Applications/anaconda/lib/python3.5/site-packages/tensorflow/python/framework/ops.py\", line 2327, in create_op\n    original_op=self._default_original_op, op_def=op_def)\n  File \"/Applications/anaconda/lib/python3.5/site-packages/tensorflow/python/framework/ops.py\", line 1226, in __init__\n    self._traceback = _extract_stack()\n\nInvalidArgumentError (see above for traceback): You must feed a value for placeholder tensor 'Placeholder' with dtype float\n\t [[Node: Placeholder = Placeholder[dtype=DT_FLOAT, shape=[], _device=\"/job:localhost/replica:0/task:0/cpu:0\"]()]]\n",
     "output_type": "error",
     "traceback": [
      "\u001b[0;31m---------------------------------------------------------------------------\u001b[0m",
      "\u001b[0;31mInvalidArgumentError\u001b[0m                      Traceback (most recent call last)",
      "\u001b[0;32m/Applications/anaconda/lib/python3.5/site-packages/tensorflow/python/client/session.py\u001b[0m in \u001b[0;36m_do_call\u001b[0;34m(self, fn, *args)\u001b[0m\n\u001b[1;32m   1021\u001b[0m     \u001b[0;32mtry\u001b[0m\u001b[0;34m:\u001b[0m\u001b[0;34m\u001b[0m\u001b[0m\n\u001b[0;32m-> 1022\u001b[0;31m       \u001b[0;32mreturn\u001b[0m \u001b[0mfn\u001b[0m\u001b[0;34m(\u001b[0m\u001b[0;34m*\u001b[0m\u001b[0margs\u001b[0m\u001b[0;34m)\u001b[0m\u001b[0;34m\u001b[0m\u001b[0m\n\u001b[0m\u001b[1;32m   1023\u001b[0m     \u001b[0;32mexcept\u001b[0m \u001b[0merrors\u001b[0m\u001b[0;34m.\u001b[0m\u001b[0mOpError\u001b[0m \u001b[0;32mas\u001b[0m \u001b[0me\u001b[0m\u001b[0;34m:\u001b[0m\u001b[0;34m\u001b[0m\u001b[0m\n",
      "\u001b[0;32m/Applications/anaconda/lib/python3.5/site-packages/tensorflow/python/client/session.py\u001b[0m in \u001b[0;36m_run_fn\u001b[0;34m(session, feed_dict, fetch_list, target_list, options, run_metadata)\u001b[0m\n\u001b[1;32m   1003\u001b[0m                                  \u001b[0mfeed_dict\u001b[0m\u001b[0;34m,\u001b[0m \u001b[0mfetch_list\u001b[0m\u001b[0;34m,\u001b[0m \u001b[0mtarget_list\u001b[0m\u001b[0;34m,\u001b[0m\u001b[0;34m\u001b[0m\u001b[0m\n\u001b[0;32m-> 1004\u001b[0;31m                                  status, run_metadata)\n\u001b[0m\u001b[1;32m   1005\u001b[0m \u001b[0;34m\u001b[0m\u001b[0m\n",
      "\u001b[0;32m/Applications/anaconda/lib/python3.5/contextlib.py\u001b[0m in \u001b[0;36m__exit__\u001b[0;34m(self, type, value, traceback)\u001b[0m\n\u001b[1;32m     65\u001b[0m             \u001b[0;32mtry\u001b[0m\u001b[0;34m:\u001b[0m\u001b[0;34m\u001b[0m\u001b[0m\n\u001b[0;32m---> 66\u001b[0;31m                 \u001b[0mnext\u001b[0m\u001b[0;34m(\u001b[0m\u001b[0mself\u001b[0m\u001b[0;34m.\u001b[0m\u001b[0mgen\u001b[0m\u001b[0;34m)\u001b[0m\u001b[0;34m\u001b[0m\u001b[0m\n\u001b[0m\u001b[1;32m     67\u001b[0m             \u001b[0;32mexcept\u001b[0m \u001b[0mStopIteration\u001b[0m\u001b[0;34m:\u001b[0m\u001b[0;34m\u001b[0m\u001b[0m\n",
      "\u001b[0;32m/Applications/anaconda/lib/python3.5/site-packages/tensorflow/python/framework/errors_impl.py\u001b[0m in \u001b[0;36mraise_exception_on_not_ok_status\u001b[0;34m()\u001b[0m\n\u001b[1;32m    465\u001b[0m           \u001b[0mcompat\u001b[0m\u001b[0;34m.\u001b[0m\u001b[0mas_text\u001b[0m\u001b[0;34m(\u001b[0m\u001b[0mpywrap_tensorflow\u001b[0m\u001b[0;34m.\u001b[0m\u001b[0mTF_Message\u001b[0m\u001b[0;34m(\u001b[0m\u001b[0mstatus\u001b[0m\u001b[0;34m)\u001b[0m\u001b[0;34m)\u001b[0m\u001b[0;34m,\u001b[0m\u001b[0;34m\u001b[0m\u001b[0m\n\u001b[0;32m--> 466\u001b[0;31m           pywrap_tensorflow.TF_GetCode(status))\n\u001b[0m\u001b[1;32m    467\u001b[0m   \u001b[0;32mfinally\u001b[0m\u001b[0;34m:\u001b[0m\u001b[0;34m\u001b[0m\u001b[0m\n",
      "\u001b[0;31mInvalidArgumentError\u001b[0m: You must feed a value for placeholder tensor 'Placeholder' with dtype float\n\t [[Node: Placeholder = Placeholder[dtype=DT_FLOAT, shape=[], _device=\"/job:localhost/replica:0/task:0/cpu:0\"]()]]",
      "\nDuring handling of the above exception, another exception occurred:\n",
      "\u001b[0;31mInvalidArgumentError\u001b[0m                      Traceback (most recent call last)",
      "\u001b[0;32m<ipython-input-41-3ccd8f6bf29a>\u001b[0m in \u001b[0;36m<module>\u001b[0;34m()\u001b[0m\n\u001b[0;32m----> 1\u001b[0;31m \u001b[0msess\u001b[0m\u001b[0;34m.\u001b[0m\u001b[0mrun\u001b[0m\u001b[0;34m(\u001b[0m\u001b[0mobjective\u001b[0m\u001b[0;34m(\u001b[0m\u001b[0mX\u001b[0m\u001b[0;34m,\u001b[0m \u001b[0mY\u001b[0m\u001b[0;34m)\u001b[0m\u001b[0;34m)\u001b[0m\u001b[0;34m\u001b[0m\u001b[0m\n\u001b[0m",
      "\u001b[0;32m/Applications/anaconda/lib/python3.5/site-packages/tensorflow/python/client/session.py\u001b[0m in \u001b[0;36mrun\u001b[0;34m(self, fetches, feed_dict, options, run_metadata)\u001b[0m\n\u001b[1;32m    765\u001b[0m     \u001b[0;32mtry\u001b[0m\u001b[0;34m:\u001b[0m\u001b[0;34m\u001b[0m\u001b[0m\n\u001b[1;32m    766\u001b[0m       result = self._run(None, fetches, feed_dict, options_ptr,\n\u001b[0;32m--> 767\u001b[0;31m                          run_metadata_ptr)\n\u001b[0m\u001b[1;32m    768\u001b[0m       \u001b[0;32mif\u001b[0m \u001b[0mrun_metadata\u001b[0m\u001b[0;34m:\u001b[0m\u001b[0;34m\u001b[0m\u001b[0m\n\u001b[1;32m    769\u001b[0m         \u001b[0mproto_data\u001b[0m \u001b[0;34m=\u001b[0m \u001b[0mtf_session\u001b[0m\u001b[0;34m.\u001b[0m\u001b[0mTF_GetBuffer\u001b[0m\u001b[0;34m(\u001b[0m\u001b[0mrun_metadata_ptr\u001b[0m\u001b[0;34m)\u001b[0m\u001b[0;34m\u001b[0m\u001b[0m\n",
      "\u001b[0;32m/Applications/anaconda/lib/python3.5/site-packages/tensorflow/python/client/session.py\u001b[0m in \u001b[0;36m_run\u001b[0;34m(self, handle, fetches, feed_dict, options, run_metadata)\u001b[0m\n\u001b[1;32m    963\u001b[0m     \u001b[0;32mif\u001b[0m \u001b[0mfinal_fetches\u001b[0m \u001b[0;32mor\u001b[0m \u001b[0mfinal_targets\u001b[0m\u001b[0;34m:\u001b[0m\u001b[0;34m\u001b[0m\u001b[0m\n\u001b[1;32m    964\u001b[0m       results = self._do_run(handle, final_targets, final_fetches,\n\u001b[0;32m--> 965\u001b[0;31m                              feed_dict_string, options, run_metadata)\n\u001b[0m\u001b[1;32m    966\u001b[0m     \u001b[0;32melse\u001b[0m\u001b[0;34m:\u001b[0m\u001b[0;34m\u001b[0m\u001b[0m\n\u001b[1;32m    967\u001b[0m       \u001b[0mresults\u001b[0m \u001b[0;34m=\u001b[0m \u001b[0;34m[\u001b[0m\u001b[0;34m]\u001b[0m\u001b[0;34m\u001b[0m\u001b[0m\n",
      "\u001b[0;32m/Applications/anaconda/lib/python3.5/site-packages/tensorflow/python/client/session.py\u001b[0m in \u001b[0;36m_do_run\u001b[0;34m(self, handle, target_list, fetch_list, feed_dict, options, run_metadata)\u001b[0m\n\u001b[1;32m   1013\u001b[0m     \u001b[0;32mif\u001b[0m \u001b[0mhandle\u001b[0m \u001b[0;32mis\u001b[0m \u001b[0;32mNone\u001b[0m\u001b[0;34m:\u001b[0m\u001b[0;34m\u001b[0m\u001b[0m\n\u001b[1;32m   1014\u001b[0m       return self._do_call(_run_fn, self._session, feed_dict, fetch_list,\n\u001b[0;32m-> 1015\u001b[0;31m                            target_list, options, run_metadata)\n\u001b[0m\u001b[1;32m   1016\u001b[0m     \u001b[0;32melse\u001b[0m\u001b[0;34m:\u001b[0m\u001b[0;34m\u001b[0m\u001b[0m\n\u001b[1;32m   1017\u001b[0m       return self._do_call(_prun_fn, self._session, handle, feed_dict,\n",
      "\u001b[0;32m/Applications/anaconda/lib/python3.5/site-packages/tensorflow/python/client/session.py\u001b[0m in \u001b[0;36m_do_call\u001b[0;34m(self, fn, *args)\u001b[0m\n\u001b[1;32m   1033\u001b[0m         \u001b[0;32mexcept\u001b[0m \u001b[0mKeyError\u001b[0m\u001b[0;34m:\u001b[0m\u001b[0;34m\u001b[0m\u001b[0m\n\u001b[1;32m   1034\u001b[0m           \u001b[0;32mpass\u001b[0m\u001b[0;34m\u001b[0m\u001b[0m\n\u001b[0;32m-> 1035\u001b[0;31m       \u001b[0;32mraise\u001b[0m \u001b[0mtype\u001b[0m\u001b[0;34m(\u001b[0m\u001b[0me\u001b[0m\u001b[0;34m)\u001b[0m\u001b[0;34m(\u001b[0m\u001b[0mnode_def\u001b[0m\u001b[0;34m,\u001b[0m \u001b[0mop\u001b[0m\u001b[0;34m,\u001b[0m \u001b[0mmessage\u001b[0m\u001b[0;34m)\u001b[0m\u001b[0;34m\u001b[0m\u001b[0m\n\u001b[0m\u001b[1;32m   1036\u001b[0m \u001b[0;34m\u001b[0m\u001b[0m\n\u001b[1;32m   1037\u001b[0m   \u001b[0;32mdef\u001b[0m \u001b[0m_extend_graph\u001b[0m\u001b[0;34m(\u001b[0m\u001b[0mself\u001b[0m\u001b[0;34m)\u001b[0m\u001b[0;34m:\u001b[0m\u001b[0;34m\u001b[0m\u001b[0m\n",
      "\u001b[0;31mInvalidArgumentError\u001b[0m: You must feed a value for placeholder tensor 'Placeholder' with dtype float\n\t [[Node: Placeholder = Placeholder[dtype=DT_FLOAT, shape=[], _device=\"/job:localhost/replica:0/task:0/cpu:0\"]()]]\n\nCaused by op 'Placeholder', defined at:\n  File \"/Applications/anaconda/lib/python3.5/runpy.py\", line 193, in _run_module_as_main\n    \"__main__\", mod_spec)\n  File \"/Applications/anaconda/lib/python3.5/runpy.py\", line 85, in _run_code\n    exec(code, run_globals)\n  File \"/Applications/anaconda/lib/python3.5/site-packages/ipykernel/__main__.py\", line 3, in <module>\n    app.launch_new_instance()\n  File \"/Applications/anaconda/lib/python3.5/site-packages/traitlets/config/application.py\", line 658, in launch_instance\n    app.start()\n  File \"/Applications/anaconda/lib/python3.5/site-packages/ipykernel/kernelapp.py\", line 474, in start\n    ioloop.IOLoop.instance().start()\n  File \"/Applications/anaconda/lib/python3.5/site-packages/zmq/eventloop/ioloop.py\", line 177, in start\n    super(ZMQIOLoop, self).start()\n  File \"/Applications/anaconda/lib/python3.5/site-packages/tornado/ioloop.py\", line 887, in start\n    handler_func(fd_obj, events)\n  File \"/Applications/anaconda/lib/python3.5/site-packages/tornado/stack_context.py\", line 275, in null_wrapper\n    return fn(*args, **kwargs)\n  File \"/Applications/anaconda/lib/python3.5/site-packages/zmq/eventloop/zmqstream.py\", line 440, in _handle_events\n    self._handle_recv()\n  File \"/Applications/anaconda/lib/python3.5/site-packages/zmq/eventloop/zmqstream.py\", line 472, in _handle_recv\n    self._run_callback(callback, msg)\n  File \"/Applications/anaconda/lib/python3.5/site-packages/zmq/eventloop/zmqstream.py\", line 414, in _run_callback\n    callback(*args, **kwargs)\n  File \"/Applications/anaconda/lib/python3.5/site-packages/tornado/stack_context.py\", line 275, in null_wrapper\n    return fn(*args, **kwargs)\n  File \"/Applications/anaconda/lib/python3.5/site-packages/ipykernel/kernelbase.py\", line 276, in dispatcher\n    return self.dispatch_shell(stream, msg)\n  File \"/Applications/anaconda/lib/python3.5/site-packages/ipykernel/kernelbase.py\", line 228, in dispatch_shell\n    handler(stream, idents, msg)\n  File \"/Applications/anaconda/lib/python3.5/site-packages/ipykernel/kernelbase.py\", line 390, in execute_request\n    user_expressions, allow_stdin)\n  File \"/Applications/anaconda/lib/python3.5/site-packages/ipykernel/ipkernel.py\", line 196, in do_execute\n    res = shell.run_cell(code, store_history=store_history, silent=silent)\n  File \"/Applications/anaconda/lib/python3.5/site-packages/ipykernel/zmqshell.py\", line 501, in run_cell\n    return super(ZMQInteractiveShell, self).run_cell(*args, **kwargs)\n  File \"/Applications/anaconda/lib/python3.5/site-packages/IPython/core/interactiveshell.py\", line 2717, in run_cell\n    interactivity=interactivity, compiler=compiler, result=result)\n  File \"/Applications/anaconda/lib/python3.5/site-packages/IPython/core/interactiveshell.py\", line 2821, in run_ast_nodes\n    if self.run_code(code, result):\n  File \"/Applications/anaconda/lib/python3.5/site-packages/IPython/core/interactiveshell.py\", line 2881, in run_code\n    exec(code_obj, self.user_global_ns, self.user_ns)\n  File \"<ipython-input-35-bfdb0d5263c1>\", line 1, in <module>\n    X = tf.placeholder(tf.float32, [None, 4])\n  File \"/Applications/anaconda/lib/python3.5/site-packages/tensorflow/python/ops/array_ops.py\", line 1502, in placeholder\n    name=name)\n  File \"/Applications/anaconda/lib/python3.5/site-packages/tensorflow/python/ops/gen_array_ops.py\", line 2149, in _placeholder\n    name=name)\n  File \"/Applications/anaconda/lib/python3.5/site-packages/tensorflow/python/framework/op_def_library.py\", line 763, in apply_op\n    op_def=op_def)\n  File \"/Applications/anaconda/lib/python3.5/site-packages/tensorflow/python/framework/ops.py\", line 2327, in create_op\n    original_op=self._default_original_op, op_def=op_def)\n  File \"/Applications/anaconda/lib/python3.5/site-packages/tensorflow/python/framework/ops.py\", line 1226, in __init__\n    self._traceback = _extract_stack()\n\nInvalidArgumentError (see above for traceback): You must feed a value for placeholder tensor 'Placeholder' with dtype float\n\t [[Node: Placeholder = Placeholder[dtype=DT_FLOAT, shape=[], _device=\"/job:localhost/replica:0/task:0/cpu:0\"]()]]\n"
     ]
    }
   ],
   "source": [
    "sess.run(objective(X, Y))"
   ]
  },
  {
   "cell_type": "markdown",
   "metadata": {
    "deletable": true,
    "editable": true
   },
   "source": [
    "How do we fix this? Remember, ```X``` and ```Y``` are *placeholders*, and we need to tell TensorFlow what they should be using ```feed_dict```. See http://stackoverflow.com/questions/33810990/how-to-feed-a-placeholder."
   ]
  },
  {
   "cell_type": "code",
   "execution_count": 42,
   "metadata": {
    "collapsed": false,
    "deletable": true,
    "editable": true
   },
   "outputs": [
    {
     "data": {
      "text/plain": [
       "4.9653783"
      ]
     },
     "execution_count": 42,
     "metadata": {},
     "output_type": "execute_result"
    }
   ],
   "source": [
    "sess.run(objective(X, Y), feed_dict={X:XX, Y:YY})"
   ]
  },
  {
   "cell_type": "markdown",
   "metadata": {},
   "source": [
    "# Finis\n",
    "\n",
    "We're finished with this tutorial.\n",
    "\n",
    "You can practice by using TensorFlow to [fit a linear regression model to housing prices](http://www.learndatasci.com/predicting-housing-prices-linear-regression-using-python-pandas-statsmodels/).\n",
    "\n",
    "And to facilitate your TensorFlow work on GPU, you can [run notebooks on AWS](https://blog.keras.io/running-jupyter-notebooks-on-gpu-on-aws-a-starter-guide.html)."
   ]
  }
 ],
 "metadata": {
  "kernelspec": {
   "display_name": "Python [conda root]",
   "language": "python",
   "name": "conda-root-py"
  },
  "language_info": {
   "codemirror_mode": {
    "name": "ipython",
    "version": 3
   },
   "file_extension": ".py",
   "mimetype": "text/x-python",
   "name": "python",
   "nbconvert_exporter": "python",
   "pygments_lexer": "ipython3",
   "version": "3.5.3"
  }
 },
 "nbformat": 4,
 "nbformat_minor": 2
}
