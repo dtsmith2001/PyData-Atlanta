{
 "cells": [
  {
   "cell_type": "markdown",
   "metadata": {},
   "source": [
    "# Categorial Variables with Linear and Nonlinear Models\n",
    "\n",
    "Three types of variables are used, particularly in linear regression.\n",
    "\n",
    "1. Continuous - ordered and can be subdivided.\n",
    "2. Categorical - limited and fixed number of values.\n",
    "3. Ordinal - limited and fixed number of values for which order is important.\n",
    "\n",
    "Categorical variables are sometimes referred to as *levels* (particularly in R). They are often called [*dummy variables*](https://en.wikipedia.org/wiki/Dummy_variable_(statistics)) in the statistics literature and indicate membership in a category. But see below.\n",
    "\n",
    "The typical use case for ordinal variables is a survey where `1` represents \"strongly disagree\" and `5` represents \"strongly agree\". A later talk will address the use of ordinal variables in modeling.\n",
    "\n",
    "The actual numbers for categorical variables do not matter.\n",
    "\n",
    "## Differences in Languages (Packages)\n",
    "\n",
    "We have to encode variables for use in `scikit-learn` as the package only takes numeric categories. `R` takes \"levels\" and encodes internally. So you can pass strings as categories to models in `R`, but not in `scikit-learn`.\n",
    "\n",
    "# Transforming Variables in Pandas"
   ]
  },
  {
   "cell_type": "code",
   "execution_count": 2,
   "metadata": {
    "collapsed": true
   },
   "outputs": [],
   "source": [
    "import numpy as np\n",
    "import pandas as pd\n",
    "\n",
    "from random import choice"
   ]
  },
  {
   "cell_type": "code",
   "execution_count": 3,
   "metadata": {
    "collapsed": false
   },
   "outputs": [
    {
     "data": {
      "text/html": [
       "<div>\n",
       "<table border=\"1\" class=\"dataframe\">\n",
       "  <thead>\n",
       "    <tr style=\"text-align: right;\">\n",
       "      <th></th>\n",
       "      <th>a</th>\n",
       "      <th>b</th>\n",
       "      <th>e</th>\n",
       "    </tr>\n",
       "  </thead>\n",
       "  <tbody>\n",
       "    <tr>\n",
       "      <th>0</th>\n",
       "      <td>-0.185217</td>\n",
       "      <td>0.606496</td>\n",
       "      <td>NYC</td>\n",
       "    </tr>\n",
       "    <tr>\n",
       "      <th>1</th>\n",
       "      <td>-0.267025</td>\n",
       "      <td>-0.713918</td>\n",
       "      <td>NYC</td>\n",
       "    </tr>\n",
       "    <tr>\n",
       "      <th>2</th>\n",
       "      <td>-0.098341</td>\n",
       "      <td>-0.091022</td>\n",
       "      <td>New York</td>\n",
       "    </tr>\n",
       "    <tr>\n",
       "      <th>3</th>\n",
       "      <td>1.078123</td>\n",
       "      <td>1.231071</td>\n",
       "      <td>Raleigh</td>\n",
       "    </tr>\n",
       "    <tr>\n",
       "      <th>4</th>\n",
       "      <td>-0.844573</td>\n",
       "      <td>0.830205</td>\n",
       "      <td>NYC</td>\n",
       "    </tr>\n",
       "    <tr>\n",
       "      <th>5</th>\n",
       "      <td>-0.358911</td>\n",
       "      <td>-1.686586</td>\n",
       "      <td>Raleigh</td>\n",
       "    </tr>\n",
       "  </tbody>\n",
       "</table>\n",
       "</div>"
      ],
      "text/plain": [
       "          a         b         e\n",
       "0 -0.185217  0.606496       NYC\n",
       "1 -0.267025 -0.713918       NYC\n",
       "2 -0.098341 -0.091022  New York\n",
       "3  1.078123  1.231071   Raleigh\n",
       "4 -0.844573  0.830205       NYC\n",
       "5 -0.358911 -1.686586   Raleigh"
      ]
     },
     "execution_count": 3,
     "metadata": {},
     "output_type": "execute_result"
    }
   ],
   "source": [
    "df = pd.DataFrame(np.random.randn(25, 2), columns=['a', 'b'])\n",
    "df['e'] = [choice(('Chicago', 'Boston', 'New York', \"RALEIGH\", \"Raleigh\", \"NYC\")) for i in range(df.shape[0])]\n",
    "df.head(6)"
   ]
  },
  {
   "cell_type": "markdown",
   "metadata": {},
   "source": [
    "`scikit-learn` has the classes [`OneHotEncoder`](http://scikit-learn.org/stable/modules/generated/sklearn.preprocessing.OneHotEncoder.html) and [`LabelEncoder`](http://scikit-learn.org/stable/modules/generated/sklearn.preprocessing.LabelEncoder.html) in `sklearn.preprocessing`. `OneHotEncoder` encodes columns that have only integers. `LabelEncoder` encodes strings. Note that there are some complications when using these classes so read the documentation and examples.\n",
    "\n",
    "Here is another way with Pandas. Use it as a preprocessing step before using `scikit-learn` models."
   ]
  },
  {
   "cell_type": "code",
   "execution_count": 4,
   "metadata": {
    "collapsed": false
   },
   "outputs": [
    {
     "data": {
      "text/html": [
       "<div>\n",
       "<table border=\"1\" class=\"dataframe\">\n",
       "  <thead>\n",
       "    <tr style=\"text-align: right;\">\n",
       "      <th></th>\n",
       "      <th>a</th>\n",
       "      <th>b</th>\n",
       "      <th>e_Boston</th>\n",
       "      <th>e_Chicago</th>\n",
       "      <th>e_NYC</th>\n",
       "      <th>e_New York</th>\n",
       "      <th>e_RALEIGH</th>\n",
       "      <th>e_Raleigh</th>\n",
       "    </tr>\n",
       "  </thead>\n",
       "  <tbody>\n",
       "    <tr>\n",
       "      <th>0</th>\n",
       "      <td>-0.185217</td>\n",
       "      <td>0.606496</td>\n",
       "      <td>0.0</td>\n",
       "      <td>0.0</td>\n",
       "      <td>1.0</td>\n",
       "      <td>0.0</td>\n",
       "      <td>0.0</td>\n",
       "      <td>0.0</td>\n",
       "    </tr>\n",
       "    <tr>\n",
       "      <th>1</th>\n",
       "      <td>-0.267025</td>\n",
       "      <td>-0.713918</td>\n",
       "      <td>0.0</td>\n",
       "      <td>0.0</td>\n",
       "      <td>1.0</td>\n",
       "      <td>0.0</td>\n",
       "      <td>0.0</td>\n",
       "      <td>0.0</td>\n",
       "    </tr>\n",
       "    <tr>\n",
       "      <th>2</th>\n",
       "      <td>-0.098341</td>\n",
       "      <td>-0.091022</td>\n",
       "      <td>0.0</td>\n",
       "      <td>0.0</td>\n",
       "      <td>0.0</td>\n",
       "      <td>1.0</td>\n",
       "      <td>0.0</td>\n",
       "      <td>0.0</td>\n",
       "    </tr>\n",
       "    <tr>\n",
       "      <th>3</th>\n",
       "      <td>1.078123</td>\n",
       "      <td>1.231071</td>\n",
       "      <td>0.0</td>\n",
       "      <td>0.0</td>\n",
       "      <td>0.0</td>\n",
       "      <td>0.0</td>\n",
       "      <td>0.0</td>\n",
       "      <td>1.0</td>\n",
       "    </tr>\n",
       "    <tr>\n",
       "      <th>4</th>\n",
       "      <td>-0.844573</td>\n",
       "      <td>0.830205</td>\n",
       "      <td>0.0</td>\n",
       "      <td>0.0</td>\n",
       "      <td>1.0</td>\n",
       "      <td>0.0</td>\n",
       "      <td>0.0</td>\n",
       "      <td>0.0</td>\n",
       "    </tr>\n",
       "    <tr>\n",
       "      <th>5</th>\n",
       "      <td>-0.358911</td>\n",
       "      <td>-1.686586</td>\n",
       "      <td>0.0</td>\n",
       "      <td>0.0</td>\n",
       "      <td>0.0</td>\n",
       "      <td>0.0</td>\n",
       "      <td>0.0</td>\n",
       "      <td>1.0</td>\n",
       "    </tr>\n",
       "  </tbody>\n",
       "</table>\n",
       "</div>"
      ],
      "text/plain": [
       "          a         b  e_Boston  e_Chicago  e_NYC  e_New York  e_RALEIGH  \\\n",
       "0 -0.185217  0.606496       0.0        0.0    1.0         0.0        0.0   \n",
       "1 -0.267025 -0.713918       0.0        0.0    1.0         0.0        0.0   \n",
       "2 -0.098341 -0.091022       0.0        0.0    0.0         1.0        0.0   \n",
       "3  1.078123  1.231071       0.0        0.0    0.0         0.0        0.0   \n",
       "4 -0.844573  0.830205       0.0        0.0    1.0         0.0        0.0   \n",
       "5 -0.358911 -1.686586       0.0        0.0    0.0         0.0        0.0   \n",
       "\n",
       "   e_Raleigh  \n",
       "0        0.0  \n",
       "1        0.0  \n",
       "2        0.0  \n",
       "3        1.0  \n",
       "4        0.0  \n",
       "5        1.0  "
      ]
     },
     "execution_count": 4,
     "metadata": {},
     "output_type": "execute_result"
    }
   ],
   "source": [
    "df1 = pd.get_dummies(df, prefix=[\"e\"])\n",
    "df1.head(6)"
   ]
  },
  {
   "cell_type": "markdown",
   "metadata": {},
   "source": [
    "Pandas did what we asked, but unfortunately, some of our variables were not encoded properly. We should have looked at the data first. There are upper/lower case problems, an embedded space, and 'NYC' is encoded 'New York' as well."
   ]
  },
  {
   "cell_type": "code",
   "execution_count": 6,
   "metadata": {
    "collapsed": false
   },
   "outputs": [
    {
     "data": {
      "text/html": [
       "<div>\n",
       "<table border=\"1\" class=\"dataframe\">\n",
       "  <thead>\n",
       "    <tr style=\"text-align: right;\">\n",
       "      <th></th>\n",
       "      <th>a</th>\n",
       "      <th>b</th>\n",
       "    </tr>\n",
       "    <tr>\n",
       "      <th>e</th>\n",
       "      <th></th>\n",
       "      <th></th>\n",
       "    </tr>\n",
       "  </thead>\n",
       "  <tbody>\n",
       "    <tr>\n",
       "      <th>Boston</th>\n",
       "      <td>2</td>\n",
       "      <td>2</td>\n",
       "    </tr>\n",
       "    <tr>\n",
       "      <th>Chicago</th>\n",
       "      <td>7</td>\n",
       "      <td>7</td>\n",
       "    </tr>\n",
       "    <tr>\n",
       "      <th>NYC</th>\n",
       "      <td>9</td>\n",
       "      <td>9</td>\n",
       "    </tr>\n",
       "    <tr>\n",
       "      <th>New York</th>\n",
       "      <td>3</td>\n",
       "      <td>3</td>\n",
       "    </tr>\n",
       "    <tr>\n",
       "      <th>RALEIGH</th>\n",
       "      <td>2</td>\n",
       "      <td>2</td>\n",
       "    </tr>\n",
       "    <tr>\n",
       "      <th>Raleigh</th>\n",
       "      <td>2</td>\n",
       "      <td>2</td>\n",
       "    </tr>\n",
       "  </tbody>\n",
       "</table>\n",
       "</div>"
      ],
      "text/plain": [
       "          a  b\n",
       "e             \n",
       "Boston    2  2\n",
       "Chicago   7  7\n",
       "NYC       9  9\n",
       "New York  3  3\n",
       "RALEIGH   2  2\n",
       "Raleigh   2  2"
      ]
     },
     "execution_count": 6,
     "metadata": {},
     "output_type": "execute_result"
    }
   ],
   "source": [
    "df.groupby(by=\"e\").count()"
   ]
  },
  {
   "cell_type": "markdown",
   "metadata": {},
   "source": [
    "Clean it up, then use ``get_dummies`` again.\n",
    "\n",
    "Examine your categorial variables to avoid creating redundant features.\n",
    "\n",
    "What should you do with NA in the categorial field? Create a new column which encodes whether a variable is missing or not. This is particularly important for nonlinear models, such as Random Forests."
   ]
  },
  {
   "cell_type": "markdown",
   "metadata": {},
   "source": [
    "## Categorical Variables and Linear Models\n",
    "\n",
    "In models such as regression, which are linear in the unknown variables, we can't include a variable for all categories. If we have four dummy variables for quarter, we must only include three of them.\n",
    "\n",
    "- 1 Quarter = 1 or 0\n",
    "- 2 Quarter = 1 or 0\n",
    "- 3 Quarter = 1 or 0\n",
    "- 4 Quarter = 1 or 0\n",
    "\n",
    "Encoding zero for quarter 1 - 3 is the same as encoding a 1 for quarter 4 and the rest zero. Remember, linear regression has an *intercept*, which is why we can't use four dummy variables.\n",
    "\n",
    "The dummy variable that is omitted is the base category against which all others are compared.\n",
    "\n",
    "For instance\n",
    "\n",
    "&nbsp;&nbsp;&nbsp;&nbsp;&nbsp;&nbsp;&nbsp;&nbsp;&nbsp;&nbsp;&nbsp;&nbsp;&nbsp;&nbsp;&nbsp;&nbsp;$ln(\\tt{wage}) = \\alpha + \\beta \\tt{college} + \\tt{error}$\n",
    "\n",
    "Here we set up a regression problem with `college` as one or zero. If `college` is one, then the wage goes up (assuming $\\beta > 0$). So we can interpret the significance of the `college` variable as measuring a wage premium/discount for attending college.\n",
    "\n",
    "The `error` term contains\n",
    "\n",
    "1. Every variable not included in the regression model.\n",
    "2. Randomness.\n",
    "\n",
    "Policy makers like such models. They are not necessarily interested in prediction, and estimating models in these contexts is very different from prediction.\n",
    "\n",
    "We're not going to actually estimate such a model - that is an hour topic in itself.\n",
    "\n",
    "Questions\n",
    "\n",
    "1. Why am I taking the natural log of `wage`?\n",
    "2. What happens if $\\beta < 0$?\n",
    "3. We encoded `college` as zero or one. Why not one and two?\n",
    "\n",
    "Including all dummy variables in a regression model introduces [*multicollinearity*](https://en.wikipedia.org/wiki/Multicollinearity) and can cause all kinds of problems for predictions. It *may* be ok for an explantory model, if appropriate corrections are made.\n",
    "\n",
    "Logistic regression has the same problem.\n",
    "\n",
    "Note you can remove the intercept, but this may introduce complications in your modeling. For instance, in ``R``, the intercept is included whenever you have a formula like ``y ~ x`` for use in ``lm``, so you **must** use ``y ~ x - 1``. It is easy to forget this.\n",
    "\n",
    "Of course, you should seriously consider scaling or transforming your data when using a linear model. This is especially important when using features such as wages and a categorical variable as above. But scaling or transforming categorical variables is not a good idea.\n",
    "\n",
    "## Nonlinear Models\n",
    "\n",
    "When you fit a nonlinear model, such as a Random Forest, you must include all categories. There is no concept of an intercept term."
   ]
  }
 ],
 "metadata": {
  "anaconda-cloud": {},
  "kernelspec": {
   "display_name": "Python [default]",
   "language": "python",
   "name": "python3"
  },
  "language_info": {
   "codemirror_mode": {
    "name": "ipython",
    "version": 3
   },
   "file_extension": ".py",
   "mimetype": "text/x-python",
   "name": "python",
   "nbconvert_exporter": "python",
   "pygments_lexer": "ipython3",
   "version": "3.5.2"
  }
 },
 "nbformat": 4,
 "nbformat_minor": 0
}
